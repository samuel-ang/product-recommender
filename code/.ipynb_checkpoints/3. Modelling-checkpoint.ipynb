{
 "cells": [
  {
   "cell_type": "markdown",
   "id": "1b7e4688",
   "metadata": {},
   "source": [
    "# CAPSTONE"
   ]
  },
  {
   "cell_type": "markdown",
   "id": "1faf7009",
   "metadata": {},
   "source": [
    "To create a recommender model to assist the Sales & Marketing Department in identifying cross-selling opportunities to our customers through identifying customer segments by applying clustering techniques on customer sales data, including natural language processing of product descriptions to identify product categories.\n",
    "\n",
    "Deliverables: to deliver a recommender model that improves by at least 10% accuracy from baseline model without feature engineering.\n",
    "\n",
    "Customer Segementation by \n",
    "- RFM: (Recency, Frequency, Monetary) using K-means/DBScan/Hierarchical clustering\n",
    "https://www.optimove.com/resources/learning-center/customer-segmentation-via-cluster-analysis#:~:text=In%20the%20context%20of%20customer,archetypes%E2%80%9D%20or%20%E2%80%9Cpersonas%E2%80%9D.\n",
    "\n",
    "https://www.analyticsvidhya.com/blog/2020/10/quick-guide-to-evaluation-metrics-for-supervised-and-unsupervised-machine-learning/\n",
    "\n",
    "https://www.shopify.com.sg/encyclopedia/customer-segmentation#:~:text=Customer%20segmentation%20is%20the%20process,Number%20of%20employees\n",
    "\n",
    "\n",
    "https://analyticsindiamag.com/how-to-measure-the-success-of-a-recommendation-system/\n",
    "\n",
    "https://www.kaggle.com/code/azizozmen/customer-segmentation-cohort-rfm-analysis-k-means\n",
    "\n",
    "https://www.kaggle.com/code/ozlemilgun/customer-segmentation-using-rfm-analysis\n",
    "\n",
    "https://www.kaggle.com/code/mathchi/business-problem-with-customer-segmentation\n",
    "\n",
    "- Product segmentation (categorical) using K modes, Jacard Distance\n",
    "Categorize products into main categories by performing NLP on product description (parts of speech tagging)\n",
    "\n",
    "https://www.analyticsvidhya.com/blog/2021/06/kmodes-clustering-algorithm-for-categorical-data/#:~:text=KModes%20clustering%20is%20one%20of,similar%20our%20data%20points%20are.\n",
    "\n",
    "- Clustering of combination of categorical and numerical features (Gower Distance, Dimensionality Reduction Techniques, K-prototypes)\n",
    "\n",
    "Dataset only has 8 columns. Segmentation would require feature engineering to identify additional features for clustering. \n",
    "\n",
    "Unique product descriptions are about 4000+, which detail product type and variants like colour, design, and number of items it contains.\n",
    "\n",
    "We would use RFM (Recency, Frequency, Monetary) Analysis to numerical sales data \n",
    "\n",
    "8 feature columns, 540K observations\n",
    "'InvoiceNo' - 25900 unique\n",
    "'stockcode_caps' - 4070 unique\n",
    "'description_new' - 4223 unique, includes adjustment entries like stock returns, discounts \n",
    "'Quantity'\n",
    "'InvoiceDate' - 1 year period\n",
    "'UnitPrice'\n",
    "'CustomerID' - 4372 unique\n",
    "'Country' - 38 countries, 91% from one country\n",
    "\n",
    "Assume average gross margin is 42%, net margin is 7% - online retail\n",
    "https://pages.stern.nyu.edu/~adamodar/New_Home_Page/datafile/margin.html\n",
    "\n",
    "https://en.wikipedia.org/wiki/List_of_countries_by_United_Nations_geoscheme"
   ]
  },
  {
   "cell_type": "markdown",
   "id": "63f28c02",
   "metadata": {},
   "source": [
    "1. What is your problem statement?  What will you actually be doing?\n",
    "\n",
    "2. Who is your audience?  Why will they care?\n",
    " \n",
    "3. What is your success metric?  How will you know if you are actually solving the problem in a useful way?\n",
    "\n",
    "4. What is your data source?  What format is your data in?  How much cleaning and munging will be required?\n",
    "\n",
    "5. What are potential challenges or obstacles and how will you mitigate them?\n",
    "\n",
    "6. Is this a reasonable project given the time constraints that you have?\n",
    "\n"
   ]
  },
  {
   "cell_type": "markdown",
   "id": "eb3efb74",
   "metadata": {},
   "source": [
    "Week starting 25 Apr\n",
    "First half\n",
    "- Import and clean data\n",
    "- NLP of product categories\n",
    "- EDA on product categories\n",
    "- Product category clustering - K modes\n",
    "- Create basic recommender model, error analysis, tuning\n",
    "\n",
    "Second half\n",
    "- Feature engineering for sales data - RFM analysis\n",
    "- RFM clustering (K-means)\n",
    "- Add to recommender model, error analysis, tuning\n",
    "\n",
    "Week starting 2 May\n",
    "First half\n",
    "- Clustering with combined categorical variables and numerical variables\n",
    "- Add other clustering methods DBScan/ Hierarchical clustering/Gower Distance/ Dimensionality Reduction Techniques/ K-prototypes\n",
    "- Error analysis, tuning\n",
    "\n",
    "Second half\n",
    "Prepare presentation slides\n",
    "Stretch goal - Impute COGS based on industry assumptions to add dimension to the business proposal"
   ]
  },
  {
   "cell_type": "code",
   "execution_count": 1,
   "id": "a7f4ca33",
   "metadata": {},
   "outputs": [],
   "source": [
    "# Import libraries\n",
    "import pandas as pd\n",
    "import numpy as np\n",
    "import matplotlib.pyplot as plt\n",
    "import seaborn as sns\n",
    "from datetime import timedelta\n",
    "\n",
    "import wordcloud\n",
    "from sklearn.preprocessing import StandardScaler\n",
    "from sklearn.decomposition import TruncatedSVD\n",
    "from sklearn.cluster import KMeans, DBSCAN\n",
    "from sklearn.metrics import silhouette_score\n",
    "from scipy.cluster.hierarchy import dendrogram, linkage, cophenet, fcluster\n",
    "from scipy.spatial.distance import pdist\n",
    "from sklearn.metrics.pairwise import cosine_similarity\n",
    "from sklearn_extra.cluster import KMedoids\n",
    "import funk_svd"
   ]
  },
  {
   "cell_type": "code",
   "execution_count": 2,
   "id": "120d95f0",
   "metadata": {},
   "outputs": [],
   "source": [
    "# Set chart style\n",
    "plt.style.use('Solarize_Light2')"
   ]
  },
  {
   "cell_type": "code",
   "execution_count": 3,
   "id": "852c14b2",
   "metadata": {},
   "outputs": [],
   "source": [
    "# Set float display options\n",
    "pd.set_option('display.float_format','{:,.2f}'.format)"
   ]
  },
  {
   "cell_type": "code",
   "execution_count": 4,
   "id": "677953f8",
   "metadata": {},
   "outputs": [],
   "source": [
    "# Import data\n",
    "sales = pd.read_csv('../data/processed_sales.csv', \n",
    "                         dtype={'invoiceno': 'object', \n",
    "                                 'stockcode_caps': 'object', \n",
    "                                 'quantity': np.int32, \n",
    "                                 'unitprice': np.float32, \n",
    "                                 'customerid': 'object'\n",
    "                                })"
   ]
  },
  {
   "cell_type": "code",
   "execution_count": 5,
   "id": "87949282",
   "metadata": {},
   "outputs": [],
   "source": [
    "customer_location = pd.read_csv('../data/processed_customer.csv')\n",
    "stock_descriptions= pd.read_csv('../data/cleaned_stock_descriptions.csv')\n",
    "invoice = pd.read_csv('../data/cleaned_invoice.csv')"
   ]
  },
  {
   "cell_type": "code",
   "execution_count": 6,
   "id": "c6bf76b9",
   "metadata": {},
   "outputs": [
    {
     "name": "stdout",
     "output_type": "stream",
     "text": [
      "<class 'pandas.core.frame.DataFrame'>\n",
      "RangeIndex: 536493 entries, 0 to 536492\n",
      "Data columns (total 5 columns):\n",
      " #   Column          Non-Null Count   Dtype  \n",
      "---  ------          --------------   -----  \n",
      " 0   invoiceno       536493 non-null  object \n",
      " 1   stockcode_caps  536493 non-null  object \n",
      " 2   quantity        536493 non-null  int32  \n",
      " 3   unitprice       536493 non-null  float32\n",
      " 4   customerid      536493 non-null  object \n",
      "dtypes: float32(1), int32(1), object(3)\n",
      "memory usage: 16.4+ MB\n"
     ]
    }
   ],
   "source": [
    "# Check column types and null values\n",
    "sales.info()"
   ]
  },
  {
   "cell_type": "code",
   "execution_count": 7,
   "id": "f2689149",
   "metadata": {},
   "outputs": [
    {
     "name": "stdout",
     "output_type": "stream",
     "text": [
      "<class 'pandas.core.frame.DataFrame'>\n",
      "RangeIndex: 5772 entries, 0 to 5771\n",
      "Data columns (total 2 columns):\n",
      " #   Column      Non-Null Count  Dtype \n",
      "---  ------      --------------  ----- \n",
      " 0   customerid  5772 non-null   object\n",
      " 1   domestic    5772 non-null   bool  \n",
      "dtypes: bool(1), object(1)\n",
      "memory usage: 50.9+ KB\n"
     ]
    }
   ],
   "source": [
    "# Check column types and null values\n",
    "customer_location.info()"
   ]
  },
  {
   "cell_type": "code",
   "execution_count": 8,
   "id": "a61a6445",
   "metadata": {},
   "outputs": [
    {
     "name": "stdout",
     "output_type": "stream",
     "text": [
      "<class 'pandas.core.frame.DataFrame'>\n",
      "RangeIndex: 3817 entries, 0 to 3816\n",
      "Data columns (total 2 columns):\n",
      " #   Column           Non-Null Count  Dtype \n",
      "---  ------           --------------  ----- \n",
      " 0   stockcode_caps   3817 non-null   object\n",
      " 1   description_new  3817 non-null   object\n",
      "dtypes: object(2)\n",
      "memory usage: 59.8+ KB\n"
     ]
    }
   ],
   "source": [
    "# Check column types and null values\n",
    "stock_descriptions.info()"
   ]
  },
  {
   "cell_type": "code",
   "execution_count": 9,
   "id": "ad6e57ab",
   "metadata": {},
   "outputs": [
    {
     "name": "stdout",
     "output_type": "stream",
     "text": [
      "<class 'pandas.core.frame.DataFrame'>\n",
      "RangeIndex: 23195 entries, 0 to 23194\n",
      "Data columns (total 3 columns):\n",
      " #   Column       Non-Null Count  Dtype \n",
      "---  ------       --------------  ----- \n",
      " 0   invoiceno    23195 non-null  object\n",
      " 1   invoicedate  23195 non-null  object\n",
      " 2   test         23195 non-null  bool  \n",
      "dtypes: bool(1), object(2)\n",
      "memory usage: 385.2+ KB\n"
     ]
    }
   ],
   "source": [
    "# Check column types and null values\n",
    "invoice.info()"
   ]
  },
  {
   "cell_type": "code",
   "execution_count": 10,
   "id": "f507c56e",
   "metadata": {},
   "outputs": [],
   "source": [
    "# convert time to datetime\n",
    "invoice['invoicedate'] = pd.to_datetime(invoice['invoicedate'])"
   ]
  },
  {
   "cell_type": "code",
   "execution_count": 11,
   "id": "7223944a",
   "metadata": {},
   "outputs": [],
   "source": [
    "# Join datasets together\n",
    "sales_data = sales.merge(customer_location, on='customerid') \\\n",
    "            .merge(invoice, on='invoiceno')"
   ]
  },
  {
   "cell_type": "code",
   "execution_count": 12,
   "id": "301fdd19",
   "metadata": {},
   "outputs": [],
   "source": [
    "# Calculate revenue from unit price and quantity\n",
    "sales_data['revenue'] = sales_data['unitprice'] * sales_data['quantity'] "
   ]
  },
  {
   "cell_type": "code",
   "execution_count": 13,
   "id": "ead0a9ec",
   "metadata": {},
   "outputs": [],
   "source": [
    "# create date features\n",
    "sales_data['yearmonth'] = sales_data['invoicedate'].dt.to_period('M')"
   ]
  },
  {
   "cell_type": "code",
   "execution_count": 14,
   "id": "0808302c",
   "metadata": {},
   "outputs": [],
   "source": [
    "# create date features\n",
    "sales_data['quarter'] = sales_data['invoicedate'].dt.to_period('Q')"
   ]
  },
  {
   "cell_type": "code",
   "execution_count": 1,
   "id": "a580b492",
   "metadata": {},
   "outputs": [
    {
     "ename": "NameError",
     "evalue": "name 'sales_data' is not defined",
     "output_type": "error",
     "traceback": [
      "\u001b[1;31m---------------------------------------------------------------------------\u001b[0m",
      "\u001b[1;31mNameError\u001b[0m                                 Traceback (most recent call last)",
      "Input \u001b[1;32mIn [1]\u001b[0m, in \u001b[0;36m<cell line: 2>\u001b[1;34m()\u001b[0m\n\u001b[0;32m      1\u001b[0m \u001b[38;5;66;03m# create date features\u001b[39;00m\n\u001b[1;32m----> 2\u001b[0m sales_data[\u001b[38;5;124m'\u001b[39m\u001b[38;5;124mweek\u001b[39m\u001b[38;5;124m'\u001b[39m] \u001b[38;5;241m=\u001b[39m \u001b[43msales_data\u001b[49m[\u001b[38;5;124m'\u001b[39m\u001b[38;5;124minvoicedate\u001b[39m\u001b[38;5;124m'\u001b[39m]\u001b[38;5;241m.\u001b[39mdt\u001b[38;5;241m.\u001b[39mto_period(\u001b[38;5;124m'\u001b[39m\u001b[38;5;124mW\u001b[39m\u001b[38;5;124m'\u001b[39m)\n",
      "\u001b[1;31mNameError\u001b[0m: name 'sales_data' is not defined"
     ]
    }
   ],
   "source": [
    "# create date features\n",
    "sales_data['week'] = sales_data['invoicedate'].dt.to_period('W')"
   ]
  },
  {
   "cell_type": "markdown",
   "id": "04abf07c",
   "metadata": {},
   "source": [
    "### Feature engineering"
   ]
  },
  {
   "cell_type": "markdown",
   "id": "161d6e8c",
   "metadata": {},
   "source": [
    "Exponential decay function, assume effect of relevance decays uniformly over time. "
   ]
  },
  {
   "cell_type": "code",
   "execution_count": null,
   "id": "f0181e55",
   "metadata": {},
   "outputs": [],
   "source": [
    "sales_data['invoice_age'] = pd.to_timedelta(sales_data['invoicedate'].max() \n",
    "                                            - sales_data['invoicedate']) / np.timedelta64(1, \"D\")"
   ]
  },
  {
   "cell_type": "code",
   "execution_count": null,
   "id": "1bc14e63",
   "metadata": {},
   "outputs": [],
   "source": [
    "age_midpoint = sales_data['invoice_age'].max()/2"
   ]
  },
  {
   "cell_type": "code",
   "execution_count": null,
   "id": "4514b32c",
   "metadata": {},
   "outputs": [],
   "source": [
    "sales_data['decay'] = np.exp(np.log(0.5) / age_midpoint * sales_data['invoice_age'])"
   ]
  },
  {
   "cell_type": "code",
   "execution_count": null,
   "id": "59018027",
   "metadata": {},
   "outputs": [],
   "source": [
    "sales_data['decay_3M'] = np.exp(np.log(0.5) / 90 * sales_data['invoice_age'])"
   ]
  },
  {
   "cell_type": "code",
   "execution_count": null,
   "id": "6312b18a",
   "metadata": {},
   "outputs": [],
   "source": [
    "sales_data['revenue_decay'] = sales_data['revenue'] * sales_data['decay']"
   ]
  },
  {
   "cell_type": "code",
   "execution_count": null,
   "id": "75e61676",
   "metadata": {},
   "outputs": [],
   "source": [
    "sales_data['revenue_decay_3M'] = sales_data['revenue'] * sales_data['decay_3M']"
   ]
  },
  {
   "cell_type": "markdown",
   "id": "62812380",
   "metadata": {},
   "source": [
    "### Train Test split"
   ]
  },
  {
   "cell_type": "code",
   "execution_count": null,
   "id": "306eb9aa",
   "metadata": {},
   "outputs": [],
   "source": [
    "sales_data[sales_data['test']==True].groupby(['invoiceno', 'invoicedate'])['revenue'].sum()"
   ]
  },
  {
   "cell_type": "code",
   "execution_count": null,
   "id": "bc619c93",
   "metadata": {},
   "outputs": [],
   "source": [
    "test_invoice_rev = sales_data[sales_data['test']==True].groupby(['invoicedate']).agg(\n",
    "        total_revenue=('revenue',np.sum))"
   ]
  },
  {
   "cell_type": "code",
   "execution_count": null,
   "id": "e4929e4a",
   "metadata": {},
   "outputs": [],
   "source": [
    "test_invoice_rev['total_revenue'].sum()"
   ]
  },
  {
   "cell_type": "code",
   "execution_count": null,
   "id": "1fcf7f94",
   "metadata": {},
   "outputs": [],
   "source": [
    "test_invoice_rev"
   ]
  },
  {
   "cell_type": "code",
   "execution_count": null,
   "id": "be1a2357",
   "metadata": {},
   "outputs": [],
   "source": [
    "plt.plot(test_invoice_rev.index ,test_invoice_rev['total_revenue'] )"
   ]
  },
  {
   "cell_type": "markdown",
   "id": "2e66f73e",
   "metadata": {},
   "source": [
    "Customer grouping by products purchased\n",
    "\n",
    "We have a sparse matrix with thousands of features, meaning we have encountered the curse of dimensionality. Without applying dimensionality reduction techniques, we would not be able to identify meaningful clusters in our data.\n",
    "\n",
    "We would use Singular-Value Decomposition (SVD) because it works better for sparse data.\n",
    "\n",
    "As the data would be normalized along the index axis first,  \n",
    "\n",
    "We would do the customer product groupings for train invoices before Nov 2011, and only do matching for test invoices in Nov-Dec 2011, to prevent data leakage\n"
   ]
  },
  {
   "cell_type": "code",
   "execution_count": null,
   "id": "e149f562",
   "metadata": {},
   "outputs": [],
   "source": [
    "revenue_sum = sales_data[sales_data['invoicedate'].dt.strftime('%Y-%m-%d') < '2011-11-01'] \\\n",
    "        .groupby('customerid').agg(total_revenue=('revenue',np.sum)).reset_index()"
   ]
  },
  {
   "cell_type": "code",
   "execution_count": null,
   "id": "1f99b6eb",
   "metadata": {},
   "outputs": [],
   "source": [
    "customer_positive = revenue_sum[revenue_sum['total_revenue']>0]"
   ]
  },
  {
   "cell_type": "code",
   "execution_count": null,
   "id": "48771bf8",
   "metadata": {},
   "outputs": [],
   "source": [
    "customer_positive_data = sales_data[sales_data['customerid'].isin(customer_positive['customerid'])]"
   ]
  },
  {
   "cell_type": "code",
   "execution_count": null,
   "id": "589722d0",
   "metadata": {},
   "outputs": [],
   "source": [
    "X = pd.crosstab(index=customer_positive_data['customerid'],\n",
    "            columns=customer_positive_data['stockcode_caps'],\n",
    "            values=customer_positive_data['revenue'], \n",
    "            aggfunc=sum,\n",
    "            normalize=True,\n",
    "           ) #change normalization method to index???"
   ]
  },
  {
   "cell_type": "code",
   "execution_count": null,
   "id": "023a185e",
   "metadata": {},
   "outputs": [],
   "source": [
    "X = X.astype('float32')"
   ]
  },
  {
   "cell_type": "code",
   "execution_count": null,
   "id": "6bb8bc7c",
   "metadata": {},
   "outputs": [],
   "source": [
    "X.info()"
   ]
  },
  {
   "cell_type": "code",
   "execution_count": null,
   "id": "50ab952a",
   "metadata": {
    "scrolled": false
   },
   "outputs": [],
   "source": [
    "sc_svd = StandardScaler()\n",
    "X_sc = sc_svd.fit_transform(X)"
   ]
  },
  {
   "cell_type": "code",
   "execution_count": null,
   "id": "c4182f6f",
   "metadata": {},
   "outputs": [],
   "source": [
    "truncatedSVD = TruncatedSVD(\n",
    "    n_components=100, \n",
    "    algorithm='randomized', \n",
    "    n_iter=20, \n",
    "    random_state=42)"
   ]
  },
  {
   "cell_type": "code",
   "execution_count": null,
   "id": "caa71cfa",
   "metadata": {},
   "outputs": [],
   "source": [
    "X_truncated = truncatedSVD.fit_transform(X)"
   ]
  },
  {
   "cell_type": "code",
   "execution_count": null,
   "id": "49d601de",
   "metadata": {},
   "outputs": [],
   "source": [
    "km = KMeans(n_clusters=10, random_state=42)\n",
    "km.fit(X_truncated)"
   ]
  },
  {
   "cell_type": "code",
   "execution_count": null,
   "id": "7fb9c1e3",
   "metadata": {},
   "outputs": [],
   "source": [
    "X['cluster_svd_km'] = km.labels_"
   ]
  },
  {
   "cell_type": "code",
   "execution_count": null,
   "id": "4ceacf24",
   "metadata": {},
   "outputs": [],
   "source": [
    "X['cluster_svd_km'].value_counts()"
   ]
  },
  {
   "cell_type": "code",
   "execution_count": null,
   "id": "2244bf86",
   "metadata": {},
   "outputs": [],
   "source": [
    "dbscan = DBSCAN(eps=0.1)\n",
    "dbscan.fit(X_truncated);"
   ]
  },
  {
   "cell_type": "code",
   "execution_count": null,
   "id": "dd3bbaea",
   "metadata": {},
   "outputs": [],
   "source": [
    "X['cluster_svd_dbscan'] = dbscan.labels_"
   ]
  },
  {
   "cell_type": "code",
   "execution_count": null,
   "id": "225fdbbf",
   "metadata": {},
   "outputs": [],
   "source": [
    "X['cluster_svd_dbscan'].value_counts()"
   ]
  },
  {
   "cell_type": "code",
   "execution_count": null,
   "id": "a1c95ab7",
   "metadata": {},
   "outputs": [],
   "source": [
    "z = linkage(X_truncated, 'single')"
   ]
  },
  {
   "cell_type": "code",
   "execution_count": null,
   "id": "a928dddf",
   "metadata": {},
   "outputs": [],
   "source": [
    "X['cluster_svd_linkage'] = fcluster(z,0.01,criterion='distance')"
   ]
  },
  {
   "cell_type": "code",
   "execution_count": null,
   "id": "a6434056",
   "metadata": {},
   "outputs": [],
   "source": [
    "X['cluster_svd_linkage'].value_counts()"
   ]
  },
  {
   "cell_type": "code",
   "execution_count": null,
   "id": "3275fc04",
   "metadata": {},
   "outputs": [],
   "source": [
    "sim_matrix = cosine_similarity(X)"
   ]
  },
  {
   "cell_type": "code",
   "execution_count": null,
   "id": "fc9fa12d",
   "metadata": {},
   "outputs": [],
   "source": []
  },
  {
   "cell_type": "code",
   "execution_count": null,
   "id": "fa834270",
   "metadata": {},
   "outputs": [],
   "source": [
    "customer_sim = pd.DataFrame(sim_matrix, columns=X.index, index=X.index)\n",
    "customer_sim"
   ]
  },
  {
   "cell_type": "code",
   "execution_count": null,
   "id": "f3ca5e3b",
   "metadata": {},
   "outputs": [],
   "source": [
    "kmedoids = KMedoids(n_clusters=5, random_state=42).fit(X)"
   ]
  },
  {
   "cell_type": "code",
   "execution_count": null,
   "id": "764427e3",
   "metadata": {},
   "outputs": [],
   "source": [
    "kmedoids.labels_.shape"
   ]
  },
  {
   "cell_type": "code",
   "execution_count": null,
   "id": "2f24d40d",
   "metadata": {},
   "outputs": [],
   "source": [
    "svc_kmedoids_cluster = pd.DataFrame(kmedoids.labels_, index=X.index, columns=['svc_kmedoids_cluster'])"
   ]
  },
  {
   "cell_type": "code",
   "execution_count": null,
   "id": "b354e9dc",
   "metadata": {},
   "outputs": [],
   "source": [
    "svc_kmedoids_cluster.value_counts()"
   ]
  },
  {
   "cell_type": "code",
   "execution_count": null,
   "id": "946db9ab",
   "metadata": {},
   "outputs": [],
   "source": [
    "sales_data = sales_data.merge(svc_kmedoids_cluster, on='customerid', how='left')"
   ]
  },
  {
   "cell_type": "code",
   "execution_count": null,
   "id": "d51af7fa",
   "metadata": {},
   "outputs": [],
   "source": [
    "sales_data"
   ]
  },
  {
   "cell_type": "code",
   "execution_count": null,
   "id": "0937d66c",
   "metadata": {},
   "outputs": [],
   "source": [
    "sales_data['svc_kmedoids_cluster'].fillna(value=-1,inplace=True)"
   ]
  },
  {
   "cell_type": "code",
   "execution_count": null,
   "id": "e61a52e2",
   "metadata": {},
   "outputs": [],
   "source": [
    "# set NaN as -1\n",
    "sales_data[sales_data['svc_kmedoids_cluster']==-1]['revenue'].sum()"
   ]
  },
  {
   "cell_type": "code",
   "execution_count": null,
   "id": "170a7a7f",
   "metadata": {},
   "outputs": [],
   "source": [
    "pd.set_option('display.float_format', lambda x: '%.2f' % x)\n",
    "\n",
    "sales_data.groupby('svc_kmedoids_cluster').agg(total_revenue=('revenue',np.sum),\n",
    "                                                total_qty=('quantity',np.sum),\n",
    "                                                num_invoices=('invoiceno',lambda x: x.nunique()),\n",
    "                                                 unique_products=('stockcode_caps',lambda x: x.nunique()),\n",
    "                                                cust_count=('customerid',lambda x: x.nunique())\n",
    "                                               )"
   ]
  },
  {
   "cell_type": "code",
   "execution_count": null,
   "id": "1710841a",
   "metadata": {},
   "outputs": [],
   "source": [
    "sales_data['revenue'].sum()"
   ]
  },
  {
   "cell_type": "code",
   "execution_count": null,
   "id": "e6b93775",
   "metadata": {},
   "outputs": [],
   "source": [
    "# Top 5 products in each group\n",
    "for i in [-1,0,1,2,3,4,5]:\n",
    "    print(sales_data[sales_data['svc_kmedoids_cluster']==i] \\\n",
    "            .groupby('stockcode_caps')['revenue'].sum() \\\n",
    "            .sort_values(ascending=False).head(5))"
   ]
  },
  {
   "cell_type": "markdown",
   "id": "8edec959",
   "metadata": {},
   "source": [
    "Basic Model"
   ]
  },
  {
   "cell_type": "code",
   "execution_count": null,
   "id": "717c43b6",
   "metadata": {},
   "outputs": [],
   "source": [
    "# split train and test data\n",
    "train_data = sales_data[sales_data['test'] == False].copy()"
   ]
  },
  {
   "cell_type": "code",
   "execution_count": null,
   "id": "78f53285",
   "metadata": {},
   "outputs": [],
   "source": [
    "test_data = sales_data[sales_data['test'] == True].copy()"
   ]
  },
  {
   "cell_type": "code",
   "execution_count": null,
   "id": "63db86b3",
   "metadata": {},
   "outputs": [],
   "source": [
    "train_data.info()"
   ]
  },
  {
   "cell_type": "code",
   "execution_count": null,
   "id": "721a4c23",
   "metadata": {},
   "outputs": [],
   "source": [
    "test_data.info()"
   ]
  },
  {
   "cell_type": "code",
   "execution_count": null,
   "id": "3210d2ef",
   "metadata": {},
   "outputs": [],
   "source": [
    "test_data[test_data['customerid'].apply(len)==5]['invoicedate'].describe()"
   ]
  },
  {
   "cell_type": "code",
   "execution_count": null,
   "id": "836059e9",
   "metadata": {},
   "outputs": [],
   "source": [
    "#test_data[test_data['customerid'].apply(month)]\n",
    "#pd.DatetimeIndex(test_data['customerid']).month"
   ]
  },
  {
   "cell_type": "code",
   "execution_count": null,
   "id": "5b9c6f40",
   "metadata": {},
   "outputs": [],
   "source": [
    "test_data[test_data['customerid'].apply(len)==5]['invoicedate'].describe()"
   ]
  },
  {
   "cell_type": "code",
   "execution_count": null,
   "id": "2ddc31bb",
   "metadata": {},
   "outputs": [],
   "source": [
    "test_invoices = sales_data[sales_data['test'] == True].groupby(['invoiceno',\n",
    "                                                                'customerid',\n",
    "                                                               'invoicedate',\n",
    "                                                               'svc_kmedoids_cluster']) \\\n",
    "                                                    .agg(num_products=('stockcode_caps',np.size),                                      \n",
    "                                                   ).reset_index()"
   ]
  },
  {
   "cell_type": "code",
   "execution_count": null,
   "id": "e536b37d",
   "metadata": {},
   "outputs": [],
   "source": [
    "test_invoices"
   ]
  },
  {
   "cell_type": "code",
   "execution_count": null,
   "id": "98d9308b",
   "metadata": {},
   "outputs": [],
   "source": [
    "test_data['cust_stock'] = test_data['customerid'] + '/' + test_data['stockcode_caps']"
   ]
  },
  {
   "cell_type": "markdown",
   "id": "5128181e",
   "metadata": {},
   "source": [
    "Recommender Models"
   ]
  },
  {
   "cell_type": "code",
   "execution_count": null,
   "id": "078df2d0",
   "metadata": {},
   "outputs": [],
   "source": [
    "test_invoices.shape[0]"
   ]
  },
  {
   "cell_type": "code",
   "execution_count": null,
   "id": "d6e9752f",
   "metadata": {},
   "outputs": [],
   "source": [
    "# for each invoice: \n",
    "predict_data = []\n",
    "for i in test_invoices['invoiceno'].values:\n",
    "    predict_invoice = []\n",
    "    past_products = []\n",
    "    test_customerid = test_invoices.loc[test_invoices['invoiceno'] == i,'customerid'].item()\n",
    "    test_invoicedate = test_invoices.loc[test_invoices['invoiceno'] == i,'invoicedate'].item()\n",
    "    test_numproducts = test_invoices.loc[test_invoices['invoiceno'] == i,'num_products'].item()\n",
    "    \n",
    "    # sums all previous invoices of each customerid\n",
    "    past_cust_invoices = train_data.loc[(train_data['customerid']==test_customerid),\n",
    "                       ['customerid','stockcode_caps','revenue']] \\\n",
    "                        .groupby(['customerid','stockcode_caps']) \\\n",
    "                        .sum().reset_index()\n",
    "                                         \n",
    "    # compare number of products in test invoice \n",
    "    # vs unique products with positive sales in all past invoices\n",
    "    past_cust_purchases = past_cust_invoices[past_cust_invoices['revenue']>0]\n",
    "    past_products.extend(past_cust_purchases['stockcode_caps'])\n",
    "    \n",
    "    if past_cust_purchases.shape[0] > 0:\n",
    "    # if there were past purchases for this customer         \n",
    "        invoice_count_difference = past_cust_purchases.shape[0] - test_numproducts       \n",
    "        if invoice_count_difference >= 0:                                                 \n",
    "        # and if the past purchases had more products than the test invoice\n",
    "        # select the top n products where n = product length of test invoice\n",
    "            predict_data.extend(past_cust_purchases.head(test_numproducts).values.tolist())\n",
    "        \n",
    "        else:\n",
    "        # else, being that the past puchases were fewer than test invoice,\n",
    "        # add the products from past purchases, \n",
    "            predict_data.extend(past_cust_purchases.values.tolist())\n",
    "        # and add additional products from all past invoices\n",
    "        # to make up for the shortfall in products\n",
    "            past_all_invoices = train_data.loc[(train_data['invoicedate']<test_invoicedate),\n",
    "                               ['stockcode_caps','revenue']] \\\n",
    "                                .groupby(['stockcode_caps']) \\\n",
    "                                .sum().reset_index()\n",
    "            past_all_invoices['customerid'] = test_customerid\n",
    "            past_all_purchases = past_all_invoices[past_all_invoices['revenue']>0]      \n",
    "            past_all_purchases_select = past_all_purchases[~past_all_purchases['stockcode_caps'].isin(\n",
    "                past_products)]\n",
    "            predict_invoice.extend(past_all_purchases_select[['customerid',\n",
    "                                                              'stockcode_caps',\n",
    "                                                              'revenue']] \\\n",
    "                                .sort_values(by='revenue',ascending=False) \\\n",
    "                                .head(-invoice_count_difference).values.tolist())   \n",
    "    else:\n",
    "    # else, being that there were no past purchases \n",
    "    # select all sales before test invoice date\n",
    "        past_all_invoices = train_data.loc[(train_data['invoicedate']<test_invoicedate),\n",
    "                           ['stockcode_caps','revenue']] \\\n",
    "                            .groupby(['stockcode_caps']) \\\n",
    "                            .sum().reset_index()\n",
    "        past_all_invoices['customerid'] = test_customerid\n",
    "        past_all_purchases = past_all_invoices[past_all_invoices['revenue']>0]\n",
    "        predict_invoice.extend(past_all_purchases[['customerid','stockcode_caps','revenue']] \\\n",
    "                            .sort_values(by='revenue',ascending=False) \\\n",
    "                            .head(test_numproducts).values.tolist())   \n",
    "    predict_data.extend(predict_invoice)"
   ]
  },
  {
   "cell_type": "code",
   "execution_count": null,
   "id": "7c2a4d9a",
   "metadata": {},
   "outputs": [],
   "source": [
    "predict = pd.DataFrame(predict_data, columns=['customerid','stockcode_caps','revenue'])"
   ]
  },
  {
   "cell_type": "code",
   "execution_count": null,
   "id": "1f9ff544",
   "metadata": {},
   "outputs": [],
   "source": [
    "predict['cust_stock'] = predict['customerid'] + '/' + predict['stockcode_caps']"
   ]
  },
  {
   "cell_type": "code",
   "execution_count": null,
   "id": "381d594c",
   "metadata": {},
   "outputs": [],
   "source": [
    "test_data['prediction'] = test_data['cust_stock'].isin(predict['cust_stock'])"
   ]
  },
  {
   "cell_type": "code",
   "execution_count": null,
   "id": "55aaa173",
   "metadata": {},
   "outputs": [],
   "source": [
    "test_data[test_data['prediction']==True]['revenue'].sum() / test_data['revenue'].sum()"
   ]
  },
  {
   "cell_type": "markdown",
   "id": "8095d582",
   "metadata": {},
   "source": [
    "Model with exponential decay"
   ]
  },
  {
   "cell_type": "code",
   "execution_count": null,
   "id": "e6a271b6",
   "metadata": {},
   "outputs": [],
   "source": [
    "# replace 'revenue' with 'revenue_decay' \n",
    "# for each invoice: \n",
    "predict_data = []\n",
    "for i in test_invoices['invoiceno'].values:\n",
    "    predict_invoice = []\n",
    "    past_products = []\n",
    "    test_customerid = test_invoices.loc[test_invoices['invoiceno'] == i,'customerid'].item()\n",
    "    test_invoicedate = test_invoices.loc[test_invoices['invoiceno'] == i,'invoicedate'].item()\n",
    "    test_numproducts = test_invoices.loc[test_invoices['invoiceno'] == i,'num_products'].item()\n",
    "    \n",
    "    # sums all previous invoices of each customerid\n",
    "    past_cust_invoices = train_data.loc[(train_data['customerid']==test_customerid),\n",
    "                       ['customerid','stockcode_caps','revenue_decay']] \\\n",
    "                        .groupby(['customerid','stockcode_caps']) \\\n",
    "                        .sum().reset_index()\n",
    "                                         \n",
    "    # compare number of products in test invoice \n",
    "    # vs unique products with positive sales in all past invoices\n",
    "    past_cust_purchases = past_cust_invoices[past_cust_invoices['revenue_decay']>0]\n",
    "    past_products.extend(past_cust_purchases['stockcode_caps'])\n",
    "    \n",
    "    if past_cust_purchases.shape[0] > 0:\n",
    "    # if there were past purchases for this customer         \n",
    "        invoice_count_difference = past_cust_purchases.shape[0] - test_numproducts       \n",
    "        if invoice_count_difference >= 0:                                                 \n",
    "        # and if the past purchases had more products than the test invoice\n",
    "        # select the top n products where n = product length of test invoice\n",
    "            predict_data.extend(past_cust_purchases.head(test_numproducts).values.tolist())\n",
    "        \n",
    "        else:\n",
    "        # else, being that the past puchases were fewer than test invoice,\n",
    "        # add the products from past purchases, \n",
    "            predict_data.extend(past_cust_purchases.values.tolist())\n",
    "        # and add additional products from all past invoices\n",
    "        # to make up for the shortfall in products\n",
    "            past_all_invoices = train_data.loc[(train_data['invoicedate']<test_invoicedate),\n",
    "                               ['stockcode_caps','revenue_decay']] \\\n",
    "                                .groupby(['stockcode_caps']) \\\n",
    "                                .sum().reset_index()\n",
    "            past_all_invoices['customerid'] = test_customerid\n",
    "            past_all_purchases = past_all_invoices[past_all_invoices['revenue_decay']>0]      \n",
    "            past_all_purchases_select = past_all_purchases[~past_all_purchases['stockcode_caps'].isin(\n",
    "                past_products)]\n",
    "            predict_invoice.extend(past_all_purchases_select[['customerid',\n",
    "                                                              'stockcode_caps',\n",
    "                                                              'revenue_decay']] \\\n",
    "                                .sort_values(by='revenue_decay',ascending=False) \\\n",
    "                                .head(-invoice_count_difference).values.tolist())   \n",
    "    else:\n",
    "    # else, being that there were no past purchases \n",
    "    # select all sales before test invoice date\n",
    "        past_all_invoices = train_data.loc[(train_data['invoicedate']<test_invoicedate),\n",
    "                           ['stockcode_caps','revenue_decay']] \\\n",
    "                            .groupby(['stockcode_caps']) \\\n",
    "                            .sum().reset_index()\n",
    "        past_all_invoices['customerid'] = test_customerid\n",
    "        past_all_purchases = past_all_invoices[past_all_invoices['revenue_decay']>0]\n",
    "        predict_invoice.extend(past_all_purchases[['customerid','stockcode_caps','revenue_decay']] \\\n",
    "                            .sort_values(by='revenue_decay',ascending=False) \\\n",
    "                            .head(test_numproducts).values.tolist())   \n",
    "    predict_data.extend(predict_invoice)"
   ]
  },
  {
   "cell_type": "code",
   "execution_count": null,
   "id": "2133f2e3",
   "metadata": {},
   "outputs": [],
   "source": [
    "predict_decay = pd.DataFrame(predict_data, columns=['customerid','stockcode_caps','revenue'])"
   ]
  },
  {
   "cell_type": "code",
   "execution_count": null,
   "id": "7919d1e2",
   "metadata": {},
   "outputs": [],
   "source": [
    "predict_decay['cust_stock'] = predict_decay['customerid'] + '/' + predict_decay['stockcode_caps']"
   ]
  },
  {
   "cell_type": "code",
   "execution_count": null,
   "id": "894726af",
   "metadata": {},
   "outputs": [],
   "source": [
    "test_data['prediction_decay'] = test_data['cust_stock'].isin(predict_decay['cust_stock'])"
   ]
  },
  {
   "cell_type": "code",
   "execution_count": null,
   "id": "3285827d",
   "metadata": {},
   "outputs": [],
   "source": [
    "test_data[test_data['prediction_decay']==True]['revenue'].sum() / test_data['revenue'].sum()"
   ]
  },
  {
   "cell_type": "markdown",
   "id": "c0a597d7",
   "metadata": {},
   "source": [
    "### Recent 3 months"
   ]
  },
  {
   "cell_type": "code",
   "execution_count": null,
   "id": "87ff2db4",
   "metadata": {},
   "outputs": [],
   "source": [
    "# replace 'revenue' with 'revenue_decay_3M' \n",
    "# for each invoice: \n",
    "predict_data = []\n",
    "for i in test_invoices['invoiceno'].values:\n",
    "    predict_invoice = []\n",
    "    past_products = []\n",
    "    test_customerid = test_invoices.loc[test_invoices['invoiceno'] == i,'customerid'].item()\n",
    "    test_invoicedate = test_invoices.loc[test_invoices['invoiceno'] == i,'invoicedate'].item()\n",
    "    test_startdate = test_invoicedate- timedelta(days=90) \n",
    "    test_numproducts = test_invoices.loc[test_invoices['invoiceno'] == i,'num_products'].item()\n",
    "    \n",
    "    # sums all previous invoices of each customerid\n",
    "    past_cust_invoices = train_data.loc[(train_data['customerid']==test_customerid) &\n",
    "                                        (train_data['invoicedate'] >= test_startdate) & \n",
    "                                        (train_data['invoicedate'] < test_invoicedate),\n",
    "                       ['customerid','stockcode_caps','revenue_decay_3M']] \\\n",
    "                        .groupby(['customerid','stockcode_caps']) \\\n",
    "                        .sum().reset_index()\n",
    "                                         \n",
    "    # compare number of products in test invoice \n",
    "    # vs unique products with positive sales in all past invoices\n",
    "    past_cust_purchases = past_cust_invoices[past_cust_invoices['revenue_decay_3M']>0]\n",
    "    past_products.extend(past_cust_purchases['stockcode_caps'])\n",
    "    \n",
    "    if past_cust_purchases.shape[0] > 0:\n",
    "    # if there were past purchases for this customer         \n",
    "        invoice_count_difference = past_cust_purchases.shape[0] - test_numproducts       \n",
    "        if invoice_count_difference >= 0:                                                 \n",
    "        # and if the past purchases had more products than the test invoice\n",
    "        # select the top n products where n = product length of test invoice\n",
    "            predict_data.extend(past_cust_purchases.head(test_numproducts).values.tolist())\n",
    "        \n",
    "        else:\n",
    "        # else, being that the past puchases were fewer than test invoice,\n",
    "        # add the products from past purchases, \n",
    "            predict_data.extend(past_cust_purchases.values.tolist())\n",
    "        # and add additional products from all past invoices\n",
    "        # to make up for the shortfall in products\n",
    "            past_all_invoices = train_data.loc[(train_data['invoicedate'] >= test_startdate) & \n",
    "                                (train_data['invoicedate']<test_invoicedate),\n",
    "                               ['stockcode_caps','revenue_decay_3M']] \\\n",
    "                                .groupby(['stockcode_caps']) \\\n",
    "                                .sum().reset_index()\n",
    "            past_all_invoices['customerid'] = test_customerid\n",
    "            past_all_purchases = past_all_invoices[past_all_invoices['revenue_decay_3M']>0]      \n",
    "            past_all_purchases_select = past_all_purchases[~past_all_purchases['stockcode_caps'].isin(\n",
    "                past_products)]\n",
    "            predict_invoice.extend(past_all_purchases_select[['customerid',\n",
    "                                                              'stockcode_caps',\n",
    "                                                              'revenue_decay_3M']] \\\n",
    "                                .sort_values(by='revenue_decay_3M',ascending=False) \\\n",
    "                                .head(-invoice_count_difference).values.tolist())   \n",
    "    else:\n",
    "    # else, being that there were no past purchases \n",
    "    # select all sales before test invoice date\n",
    "        past_all_invoices = train_data.loc[(train_data['invoicedate'] >= test_startdate) &\n",
    "                                            (train_data['invoicedate'] < test_invoicedate),\n",
    "                                           ['stockcode_caps','revenue_decay_3M']] \\\n",
    "                                            .groupby(['stockcode_caps']) \\\n",
    "                                            .sum().reset_index()\n",
    "        past_all_invoices['customerid'] = test_customerid\n",
    "        past_all_purchases = past_all_invoices[past_all_invoices['revenue_decay_3M']>0]\n",
    "        predict_invoice.extend(past_all_purchases[['customerid','stockcode_caps','revenue_decay_3M']] \\\n",
    "                            .sort_values(by='revenue_decay_3M',ascending=False) \\\n",
    "                            .head(test_numproducts).values.tolist())   \n",
    "    predict_data.extend(predict_invoice)"
   ]
  },
  {
   "cell_type": "code",
   "execution_count": null,
   "id": "6f584560",
   "metadata": {},
   "outputs": [],
   "source": [
    "predict_decay3m_3mwindow = pd.DataFrame(predict_data, columns=['customerid','stockcode_caps','revenue'])"
   ]
  },
  {
   "cell_type": "code",
   "execution_count": null,
   "id": "6de7c8b6",
   "metadata": {},
   "outputs": [],
   "source": [
    "predict_decay3m_3mwindow['cust_stock'] = predict_decay3m_3mwindow['customerid'] \\\n",
    "                                    + '/' + predict_decay3m_3mwindow['stockcode_caps']\n",
    "test_data['predict_decay3m_3mwindow'] = test_data['cust_stock'].isin(predict_decay3m_3mwindow['cust_stock'])"
   ]
  },
  {
   "cell_type": "code",
   "execution_count": null,
   "id": "e1a9c7b7",
   "metadata": {},
   "outputs": [],
   "source": [
    "test_data[test_data['predict_decay3m_3mwindow']==True]['revenue'].sum() / test_data['revenue'].sum()"
   ]
  },
  {
   "cell_type": "code",
   "execution_count": null,
   "id": "34b31da7",
   "metadata": {},
   "outputs": [],
   "source": []
  },
  {
   "cell_type": "code",
   "execution_count": null,
   "id": "3fb1f8e0",
   "metadata": {},
   "outputs": [],
   "source": []
  },
  {
   "cell_type": "markdown",
   "id": "21cb9a44",
   "metadata": {},
   "source": [
    "We have slight improvement"
   ]
  },
  {
   "cell_type": "markdown",
   "id": "9d135d79",
   "metadata": {},
   "source": [
    "With customer clustering"
   ]
  },
  {
   "cell_type": "code",
   "execution_count": null,
   "id": "73c348ec",
   "metadata": {},
   "outputs": [],
   "source": [
    "test_invoices.info()"
   ]
  },
  {
   "cell_type": "code",
   "execution_count": null,
   "id": "9b23eda1",
   "metadata": {},
   "outputs": [],
   "source": [
    "# replace 'revenue' with 'revenue_decay' \n",
    "# for each invoice: \n",
    "predict_data = []\n",
    "for i in test_invoices['invoiceno'].values:\n",
    "    predict_invoice = []\n",
    "    past_products = []\n",
    "    test_customerid = test_invoices.loc[test_invoices['invoiceno'] == i,'customerid'].item()\n",
    "    test_invoicedate = test_invoices.loc[test_invoices['invoiceno'] == i,'invoicedate'].item()\n",
    "    test_numproducts = test_invoices.loc[test_invoices['invoiceno'] == i,'num_products'].item()\n",
    "    test_cluster = test_invoices.loc[test_invoices['invoiceno'] == i,'svc_kmedoids_cluster'].item()\n",
    "    \n",
    "    if test_cluster >= 0:  \n",
    "        past_all_invoices = train_data.loc[(train_data['invoicedate']<test_invoicedate) &\n",
    "                                           (train_data['svc_kmedoids_cluster']==test_cluster),\n",
    "                           ['stockcode_caps','revenue_decay']] \\\n",
    "                            .groupby(['stockcode_caps']) \\\n",
    "                            .sum().reset_index()\n",
    "        past_all_invoices['customerid'] = test_customerid\n",
    "        past_all_purchases = past_all_invoices[past_all_invoices['revenue_decay']>0]\n",
    "        predict_invoice.extend(past_all_purchases[['customerid','stockcode_caps','revenue_decay']] \\\n",
    "                            .sort_values(by='revenue_decay',ascending=False) \\\n",
    "                            .head(test_numproducts).values.tolist())   \n",
    "    \n",
    "    else:\n",
    "    # else, being that there were no past purchases \n",
    "    # select all sales before test invoice date\n",
    "        past_all_invoices = train_data.loc[(train_data['invoicedate']<test_invoicedate),\n",
    "                           ['stockcode_caps','revenue_decay']] \\\n",
    "                            .groupby(['stockcode_caps']) \\\n",
    "                            .sum().reset_index()\n",
    "        past_all_invoices['customerid'] = test_customerid\n",
    "        past_all_purchases = past_all_invoices[past_all_invoices['revenue_decay']>0]\n",
    "        predict_invoice.extend(past_all_purchases[['customerid','stockcode_caps','revenue_decay']] \\\n",
    "                            .sort_values(by='revenue_decay',ascending=False) \\\n",
    "                            .head(test_numproducts).values.tolist())   \n",
    "    predict_data.extend(predict_invoice)"
   ]
  },
  {
   "cell_type": "code",
   "execution_count": null,
   "id": "0d4b9ec6",
   "metadata": {},
   "outputs": [],
   "source": [
    "predict_cluster = pd.DataFrame(predict_data, columns=['customerid','stockcode_caps','revenue'])"
   ]
  },
  {
   "cell_type": "code",
   "execution_count": null,
   "id": "a3cf8191",
   "metadata": {},
   "outputs": [],
   "source": [
    "predict_cluster['cust_stock'] = predict_cluster['customerid'] + '/' + predict_cluster['stockcode_caps']"
   ]
  },
  {
   "cell_type": "code",
   "execution_count": null,
   "id": "6e1be2c1",
   "metadata": {},
   "outputs": [],
   "source": [
    "test_data['prediction_cluster'] = test_data['cust_stock'].isin(predict_cluster['cust_stock'])"
   ]
  },
  {
   "cell_type": "code",
   "execution_count": null,
   "id": "5dfbc7ea",
   "metadata": {},
   "outputs": [],
   "source": [
    "test_data[test_data['prediction_cluster']==True]['revenue'].sum() / test_data['revenue'].sum()"
   ]
  },
  {
   "cell_type": "code",
   "execution_count": null,
   "id": "fef3aa6d",
   "metadata": {},
   "outputs": [],
   "source": [
    "test_data.head()"
   ]
  },
  {
   "cell_type": "code",
   "execution_count": null,
   "id": "1fc82fd1",
   "metadata": {},
   "outputs": [],
   "source": [
    "test_data.groupby('svc_kmedoids_cluster', dropna=False).sum()"
   ]
  },
  {
   "cell_type": "code",
   "execution_count": null,
   "id": "da430444",
   "metadata": {},
   "outputs": [],
   "source": [
    "train_data.loc[(train_data['invoicedate']<test_invoicedate),\n",
    "                           ['stockcode_caps','revenue_decay']] \\\n",
    "                            .groupby(['stockcode_caps']) \\\n",
    "                            .sum().reset_index()"
   ]
  },
  {
   "cell_type": "code",
   "execution_count": null,
   "id": "ce903782",
   "metadata": {},
   "outputs": [],
   "source": [
    "test_data[test_data['customerid'].isin(\n",
    "         test_data[test_data['prediction_cluster'] == -1]['customerid'].value_counts().index)\n",
    "         ].groupby('customerid').sum().sort_values('prediction_cluster', ascending=False).head(10)\n",
    "\n"
   ]
  },
  {
   "cell_type": "code",
   "execution_count": null,
   "id": "274497a3",
   "metadata": {},
   "outputs": [],
   "source": [
    "test_data[test_data['svc_kmedoids_cluster'].isna()]"
   ]
  },
  {
   "cell_type": "code",
   "execution_count": null,
   "id": "1a86eeb7",
   "metadata": {},
   "outputs": [],
   "source": [
    "train_data.loc[(train_data['invoicedate'].dt.strftime('%Y-%m-%d') < '2011-04-20'),\n",
    "                           ['stockcode_caps','revenue_decay']] \\\n",
    "                            .groupby(['stockcode_caps']) \\\n",
    "                            .sum().reset_index()"
   ]
  },
  {
   "cell_type": "code",
   "execution_count": null,
   "id": "c8d13dcc",
   "metadata": {},
   "outputs": [],
   "source": [
    "test_data[test_data['svc_kmedoids_cluster'] == True]['invoicedate'].describe()"
   ]
  },
  {
   "cell_type": "code",
   "execution_count": null,
   "id": "8b0e6224",
   "metadata": {},
   "outputs": [],
   "source": [
    "past_cust_invoices = train_data.loc[(train_data['svc_kmedoids_cluster']==1),\n",
    "                           ['customerid','stockcode_caps','revenue_decay']] \\\n",
    "                            .groupby(['customerid','stockcode_caps']) \\\n",
    "                            .sum().reset_index().sort_values('revenue_decay', ascending=False)"
   ]
  },
  {
   "cell_type": "code",
   "execution_count": null,
   "id": "19b80087",
   "metadata": {},
   "outputs": [],
   "source": [
    "test_data[test_data['svc_kmedoids_cluster']==-1].head(10)"
   ]
  },
  {
   "cell_type": "code",
   "execution_count": null,
   "id": "3bda5bb6",
   "metadata": {},
   "outputs": [],
   "source": [
    "past_cust_invoices.head(10)"
   ]
  },
  {
   "cell_type": "code",
   "execution_count": null,
   "id": "471ecb9c",
   "metadata": {},
   "outputs": [],
   "source": [
    "sales_data[sales_data['invoicedate'].dt.strftime('%Y-%m-%d') < '2011-11-01']"
   ]
  },
  {
   "cell_type": "code",
   "execution_count": null,
   "id": "ac571487",
   "metadata": {},
   "outputs": [],
   "source": [
    "null_cluster_top = test_data[test_data['svc_kmedoids_cluster']==-1].groupby(['stockcode_caps']) \\\n",
    "            .sum().sort_values('revenue_decay', ascending=False).head(20).index"
   ]
  },
  {
   "cell_type": "code",
   "execution_count": null,
   "id": "5bddbb4a",
   "metadata": {},
   "outputs": [],
   "source": [
    "null_cluster_top"
   ]
  },
  {
   "cell_type": "code",
   "execution_count": null,
   "id": "142aa5fc",
   "metadata": {},
   "outputs": [],
   "source": [
    "stock_descriptions[stock_descriptions['stockcode_caps'].isin(null_cluster_top)]"
   ]
  },
  {
   "cell_type": "markdown",
   "id": "16ef0a39",
   "metadata": {},
   "source": [
    "Product classification\n",
    "\n",
    "Extract Colours\n",
    "Extract Numbers\n",
    "\n",
    "\n",
    "1. Generate NGrams\n",
    "2. Vectorize"
   ]
  },
  {
   "cell_type": "code",
   "execution_count": null,
   "id": "06aeaaa4",
   "metadata": {},
   "outputs": [],
   "source": [
    "stop"
   ]
  },
  {
   "cell_type": "code",
   "execution_count": null,
   "id": "6fc6727d",
   "metadata": {},
   "outputs": [],
   "source": [
    "from sklearn.metrics import silhouette_score\n",
    "from scipy.cluster.hierarchy import dendrogram, linkage, cophenet, fcluster\n",
    "from scipy.spatial.distance import pdist"
   ]
  },
  {
   "cell_type": "code",
   "execution_count": null,
   "id": "334626c7",
   "metadata": {},
   "outputs": [],
   "source": [
    "import nltk\n",
    "from nltk import word_tokenize, pos_tag\n",
    "from nltk.corpus import stopwords\n",
    "from nltk.stem import WordNetLemmatizer, SnowballStemmer\n",
    "import regex as re\n",
    "import webcolors\n",
    "\n",
    "from sklearn.feature_extraction.text import CountVectorizer, TfidfVectorizer\n",
    "from sklearn.cluster import KMeans, DBSCAN\n",
    "from sklearn.metrics import silhouette_score\n",
    "from sklearn.preprocessing import StandardScaler\n",
    "\n",
    "from scipy.cluster.hierarchy import dendrogram, linkage, cophenet, fcluster\n",
    "from scipy.spatial.distance import pdist"
   ]
  },
  {
   "cell_type": "code",
   "execution_count": null,
   "id": "6b1daf52",
   "metadata": {},
   "outputs": [],
   "source": [
    "descriptions = revenue_codes[['description_new']].copy()"
   ]
  },
  {
   "cell_type": "code",
   "execution_count": null,
   "id": "e81c02ea",
   "metadata": {},
   "outputs": [],
   "source": [
    "color_list = list(webcolors.CSS3_NAMES_TO_HEX.keys())"
   ]
  },
  {
   "cell_type": "code",
   "execution_count": null,
   "id": "ca574360",
   "metadata": {},
   "outputs": [],
   "source": [
    "# Convert descriptions to lowercase\n",
    "descriptions['description_lower'] = descriptions['description_new'].str.lower()"
   ]
  },
  {
   "cell_type": "code",
   "execution_count": null,
   "id": "7c062697",
   "metadata": {},
   "outputs": [],
   "source": [
    "descriptions"
   ]
  },
  {
   "cell_type": "code",
   "execution_count": null,
   "id": "0e69016a",
   "metadata": {},
   "outputs": [],
   "source": [
    "type(stopwords.words('english'))"
   ]
  },
  {
   "cell_type": "code",
   "execution_count": null,
   "id": "bdf32837",
   "metadata": {},
   "outputs": [],
   "source": [
    "def extract_non_text(string):\n",
    "    extract = \"\".join(re.findall(r'[^a-zA-Z\\s]',string))\n",
    "    string = \"\".join(re.findall(r'[a-zA-Z\\s]',string))\n",
    "    return string, extract"
   ]
  },
  {
   "cell_type": "code",
   "execution_count": null,
   "id": "10f912a2",
   "metadata": {},
   "outputs": [],
   "source": [
    "def extract_color(string_list):\n",
    "    colors = []\n",
    "    for i in color_list:\n",
    "        if i in string_list:\n",
    "            string_list.remove(i)\n",
    "            colors.append(i)\n",
    "    if len(colors) == 0:\n",
    "        colors = np.nan\n",
    "    return string_list, colors"
   ]
  },
  {
   "cell_type": "code",
   "execution_count": null,
   "id": "b359e439",
   "metadata": {},
   "outputs": [],
   "source": [
    "def extract_design_size(string_list):\n",
    "    design_extracted = []\n",
    "    size_extracted = []\n",
    "    \n",
    "    for i in design_list:\n",
    "        if i in string_list:\n",
    "            string_list.remove(i)\n",
    "            design_extracted.append(i)\n",
    "            \n",
    "    for i in size_list:\n",
    "        if i in string_list:\n",
    "            string_list.remove(i)\n",
    "            size_extracted.append(i)\n",
    "    \n",
    "    if len(design_extracted) == 0:\n",
    "        design_extracted = np.nan\n",
    "    if len(size_extracted) == 0:\n",
    "        size_extracted = np.nan\n",
    "    \n",
    "    return string_list, design_extracted, size_extracted"
   ]
  },
  {
   "cell_type": "code",
   "execution_count": null,
   "id": "5f7d1234",
   "metadata": {},
   "outputs": [],
   "source": [
    "# Extract numerical and non-text characters\n",
    "descriptions['clean'], descriptions['num_special_char'] = zip(*descriptions['description_lower'].\n",
    "                                                              apply(extract_non_text))"
   ]
  },
  {
   "cell_type": "code",
   "execution_count": null,
   "id": "8c47aa4d",
   "metadata": {},
   "outputs": [],
   "source": [
    "# Remove excess space and convert strings to lists of words\n",
    "descriptions['clean'] = descriptions['clean'] \\\n",
    "                                            .str.strip() \\\n",
    "                                            .apply(lambda x: list(x.split()))"
   ]
  },
  {
   "cell_type": "code",
   "execution_count": null,
   "id": "eee6e4de",
   "metadata": {},
   "outputs": [],
   "source": [
    "# Extract colors\n",
    "descriptions['clean'], descriptions['color']= zip(*descriptions['clean'].apply(extract_color))"
   ]
  },
  {
   "cell_type": "code",
   "execution_count": null,
   "id": "f924371d",
   "metadata": {},
   "outputs": [],
   "source": [
    "#descriptions['clean'].apply(lambda x: \" \".join(x))"
   ]
  },
  {
   "cell_type": "code",
   "execution_count": null,
   "id": "0db318ab",
   "metadata": {},
   "outputs": [],
   "source": [
    "# Combine back list of strings to one string each\n",
    "X = descriptions['clean'].copy()"
   ]
  },
  {
   "cell_type": "code",
   "execution_count": null,
   "id": "20298e60",
   "metadata": {},
   "outputs": [],
   "source": [
    "X"
   ]
  },
  {
   "cell_type": "code",
   "execution_count": null,
   "id": "a2584024",
   "metadata": {},
   "outputs": [],
   "source": [
    "# Initial vectorization\n",
    "cvec = CountVectorizer(ngram_range=(1, 2), tokenizer=lambda x: x, preprocessor=lambda x: x\n",
    "                      )\n",
    "cvec.fit(X)\n",
    "X_cvec = cvec.transform(X)"
   ]
  },
  {
   "cell_type": "code",
   "execution_count": null,
   "id": "e8171fba",
   "metadata": {},
   "outputs": [],
   "source": [
    "X_cvec = pd.DataFrame(X_cvec.todense(),\n",
    "             columns=cvec.get_feature_names_out()\n",
    "            )"
   ]
  },
  {
   "cell_type": "code",
   "execution_count": null,
   "id": "4589b11a",
   "metadata": {},
   "outputs": [],
   "source": [
    "X_cvec.sum().sort_values(ascending=False).head(50)"
   ]
  },
  {
   "cell_type": "code",
   "execution_count": null,
   "id": "bb111127",
   "metadata": {},
   "outputs": [],
   "source": [
    "design_list = ['heart', 'vintage','christmas', 'rose', 'polkadot', 'design', 'flower', \n",
    "               'metal','glass', 'retrospot', 'crystal', 'love', ]\n",
    "size_list = ['small', 'large', 'mini', 'assorted', 'set', 'of',\n",
    "             'and', 'with', 'in', 'pack', 'w', 's', 'pair', 'bag']"
   ]
  },
  {
   "cell_type": "code",
   "execution_count": null,
   "id": "157cf103",
   "metadata": {},
   "outputs": [],
   "source": [
    "# Extract design and size related words\n",
    "descriptions['clean2'], descriptions['design'], descriptions['size'] \\\n",
    "    = zip(*descriptions['clean'].apply(extract_design_size))"
   ]
  },
  {
   "cell_type": "code",
   "execution_count": null,
   "id": "a37595a5",
   "metadata": {},
   "outputs": [],
   "source": [
    "descriptions[descriptions['description_lower'].str.contains('egg')]"
   ]
  },
  {
   "cell_type": "code",
   "execution_count": null,
   "id": "1dbd40c4",
   "metadata": {},
   "outputs": [],
   "source": [
    "X = descriptions['clean2'].copy()"
   ]
  },
  {
   "cell_type": "code",
   "execution_count": null,
   "id": "964899e7",
   "metadata": {},
   "outputs": [],
   "source": [
    "# vectorization\n",
    "cvec = CountVectorizer(ngram_range=(1, 2), tokenizer=lambda x: x, preprocessor=lambda x: x\n",
    "                      )\n",
    "cvec.fit(X)\n",
    "X_cvec = cvec.transform(X)\n",
    "\n",
    "X_cvec = pd.DataFrame(X_cvec.todense(),\n",
    "             columns=cvec.get_feature_names_out()\n",
    "            )"
   ]
  },
  {
   "cell_type": "code",
   "execution_count": null,
   "id": "8ca5c086",
   "metadata": {},
   "outputs": [],
   "source": [
    "X_cvec.sum().sort_values(ascending=False).head(50)"
   ]
  },
  {
   "cell_type": "code",
   "execution_count": null,
   "id": "e90de626",
   "metadata": {},
   "outputs": [],
   "source": [
    "sc_cvec = StandardScaler()\n",
    "X_cvec_sc = sc_cvec.fit_transform(X_cvec)"
   ]
  },
  {
   "cell_type": "code",
   "execution_count": null,
   "id": "900c6c50",
   "metadata": {},
   "outputs": [],
   "source": [
    "km = KMeans(n_clusters=20, random_state=42)\n",
    "km.fit(X_cvec_sc)"
   ]
  },
  {
   "cell_type": "code",
   "execution_count": null,
   "id": "20228a6c",
   "metadata": {},
   "outputs": [],
   "source": [
    "km.labels_"
   ]
  },
  {
   "cell_type": "code",
   "execution_count": null,
   "id": "5de14705",
   "metadata": {},
   "outputs": [],
   "source": [
    "revenue_codes['cluster_cvec_km'] = km.labels_"
   ]
  },
  {
   "cell_type": "code",
   "execution_count": null,
   "id": "e652ffaf",
   "metadata": {},
   "outputs": [],
   "source": [
    "revenue_codes['cluster_cvec_km'].value_counts()"
   ]
  },
  {
   "cell_type": "code",
   "execution_count": null,
   "id": "af813808",
   "metadata": {},
   "outputs": [],
   "source": [
    "revenue_codes[revenue_codes['cluster_cvec_km']==42].sort_values(by='cluster_cvec_km')"
   ]
  },
  {
   "cell_type": "code",
   "execution_count": null,
   "id": "550c0285",
   "metadata": {},
   "outputs": [],
   "source": [
    "silhouette_score(X_cvec_sc, km.labels_)"
   ]
  },
  {
   "cell_type": "code",
   "execution_count": null,
   "id": "37f4ba91",
   "metadata": {},
   "outputs": [],
   "source": [
    "dbscan = DBSCAN(eps=0.1)\n",
    "dbscan.fit(X_cvec_sc);"
   ]
  },
  {
   "cell_type": "code",
   "execution_count": null,
   "id": "d6231947",
   "metadata": {},
   "outputs": [],
   "source": [
    "silhouette_score(X_cvec_sc, dbscan.labels_)"
   ]
  },
  {
   "cell_type": "code",
   "execution_count": null,
   "id": "a8f87c34",
   "metadata": {},
   "outputs": [],
   "source": [
    "revenue_codes['cluster_cvec_dbscan'] = dbscan.labels_"
   ]
  },
  {
   "cell_type": "code",
   "execution_count": null,
   "id": "5ddda34f",
   "metadata": {},
   "outputs": [],
   "source": [
    "revenue_codes['cluster_cvec_dbscan'].value_counts()"
   ]
  },
  {
   "cell_type": "code",
   "execution_count": null,
   "id": "bf323f2f",
   "metadata": {},
   "outputs": [],
   "source": [
    "tvec = TfidfVectorizer(ngram_range=(1, 2), tokenizer=lambda x: x, preprocessor=lambda x: x\n",
    "                      )\n",
    "tvec.fit(X)\n",
    "X_tvec = tvec.transform(X)"
   ]
  },
  {
   "cell_type": "code",
   "execution_count": null,
   "id": "4b7ee731",
   "metadata": {},
   "outputs": [],
   "source": [
    "X_tvec = pd.DataFrame(X_tvec.todense(),\n",
    "             columns=tvec.get_feature_names_out()\n",
    "            )"
   ]
  },
  {
   "cell_type": "code",
   "execution_count": null,
   "id": "35e7d2d9",
   "metadata": {},
   "outputs": [],
   "source": [
    "X_tvec.sum().sort_values()"
   ]
  },
  {
   "cell_type": "code",
   "execution_count": null,
   "id": "7c7cd1f7",
   "metadata": {},
   "outputs": [],
   "source": [
    "sc_tvec = StandardScaler()\n",
    "X_tvec_sc = sc_tvec.fit_transform(X_tvec)"
   ]
  },
  {
   "cell_type": "code",
   "execution_count": null,
   "id": "fb114997",
   "metadata": {},
   "outputs": [],
   "source": [
    "km_tvec = KMeans(n_clusters=20, random_state=42)\n",
    "km_tvec.fit(X_tvec_sc)"
   ]
  },
  {
   "cell_type": "code",
   "execution_count": null,
   "id": "5ac5a2e3",
   "metadata": {},
   "outputs": [],
   "source": [
    "silhouette_score(X_tvec_sc, km_tvec.labels_)"
   ]
  },
  {
   "cell_type": "code",
   "execution_count": null,
   "id": "2c778aea",
   "metadata": {},
   "outputs": [],
   "source": [
    "revenue_codes['cluster_tvec_km'] = km_tvec.labels_"
   ]
  },
  {
   "cell_type": "code",
   "execution_count": null,
   "id": "b713760b",
   "metadata": {},
   "outputs": [],
   "source": [
    "revenue_codes['cluster_tvec_km'].value_counts()"
   ]
  },
  {
   "cell_type": "code",
   "execution_count": null,
   "id": "ba230275",
   "metadata": {},
   "outputs": [],
   "source": [
    "dbscan_tvec = DBSCAN(eps=0.9)\n",
    "dbscan_tvec.fit(X_tvec_sc);"
   ]
  },
  {
   "cell_type": "code",
   "execution_count": null,
   "id": "2214aaad",
   "metadata": {},
   "outputs": [],
   "source": [
    "silhouette_score(X_tvec_sc, dbscan_tvec.labels_)"
   ]
  },
  {
   "cell_type": "code",
   "execution_count": null,
   "id": "7181585a",
   "metadata": {},
   "outputs": [],
   "source": [
    "revenue_codes['cluster_tvec_dbscan'] = dbscan.labels_"
   ]
  },
  {
   "cell_type": "code",
   "execution_count": null,
   "id": "84164751",
   "metadata": {},
   "outputs": [],
   "source": [
    "revenue_codes['cluster_tvec_dbscan'].value_counts()"
   ]
  },
  {
   "cell_type": "code",
   "execution_count": null,
   "id": "0a4c90ac",
   "metadata": {},
   "outputs": [],
   "source": [
    "X_cvec_hierarchy = X_cvec.values\n",
    "z = linkage(X_cvec_hierarchy , 'single')"
   ]
  },
  {
   "cell_type": "code",
   "execution_count": null,
   "id": "4b7ee29b",
   "metadata": {},
   "outputs": [],
   "source": [
    "dendrogram(z);"
   ]
  },
  {
   "cell_type": "code",
   "execution_count": null,
   "id": "7af8c456",
   "metadata": {},
   "outputs": [],
   "source": [
    "fcluster(z,2,criterion='distance')"
   ]
  },
  {
   "cell_type": "code",
   "execution_count": null,
   "id": "b332d615",
   "metadata": {},
   "outputs": [],
   "source": [
    "revenue_codes['cluster_linkage'] = fcluster(z,1.2,criterion='distance')"
   ]
  },
  {
   "cell_type": "code",
   "execution_count": null,
   "id": "c4686aff",
   "metadata": {},
   "outputs": [],
   "source": [
    "revenue_codes['cluster_linkage'].value_counts().loc[lambda x: x>1]"
   ]
  },
  {
   "cell_type": "code",
   "execution_count": null,
   "id": "8b49c949",
   "metadata": {},
   "outputs": [],
   "source": [
    "revenue_codes[revenue_codes['cluster_linkage']==1077]"
   ]
  },
  {
   "cell_type": "code",
   "execution_count": null,
   "id": "50991a18",
   "metadata": {},
   "outputs": [],
   "source": [
    "silhouette_score(X_cvec_hierarchy, fcluster(z,1.2,criterion='distance'))"
   ]
  },
  {
   "cell_type": "code",
   "execution_count": null,
   "id": "7f0df013",
   "metadata": {},
   "outputs": [],
   "source": [
    "X_tvec_hierarchy = X_tvec.values\n",
    "z = linkage(X_tvec_hierarchy, 'single')"
   ]
  },
  {
   "cell_type": "code",
   "execution_count": null,
   "id": "e2b01e2c",
   "metadata": {},
   "outputs": [],
   "source": [
    "dendrogram(z);"
   ]
  },
  {
   "cell_type": "code",
   "execution_count": null,
   "id": "96d58daf",
   "metadata": {},
   "outputs": [],
   "source": [
    "revenue_codes['cluster_tvec_linkage'] = fcluster(z,0.9,criterion='distance')"
   ]
  },
  {
   "cell_type": "code",
   "execution_count": null,
   "id": "5d06e24c",
   "metadata": {},
   "outputs": [],
   "source": [
    "revenue_codes['cluster_tvec_linkage'].value_counts().loc[lambda x: x>1]"
   ]
  },
  {
   "cell_type": "code",
   "execution_count": null,
   "id": "b0aef851",
   "metadata": {},
   "outputs": [],
   "source": [
    "silhouette_score(X_tvec_hierarchy, fcluster(z,0.9,criterion='distance'))"
   ]
  },
  {
   "cell_type": "code",
   "execution_count": null,
   "id": "939f3fca",
   "metadata": {},
   "outputs": [],
   "source": [
    "revenue_codes[['stockcode_caps','description_new']].value_counts()"
   ]
  },
  {
   "cell_type": "code",
   "execution_count": null,
   "id": "eba70a0f",
   "metadata": {},
   "outputs": [],
   "source": [
    "revenue_codes['stockcode_caps_description'] = revenue_codes['stockcode_caps'] + revenue_codes['description_new']"
   ]
  },
  {
   "cell_type": "code",
   "execution_count": null,
   "id": "b299dd1b",
   "metadata": {},
   "outputs": [],
   "source": [
    "sales_data['stockcode_caps_description'] = sales_data['stockcode_caps'] + sales_data['description_new']"
   ]
  },
  {
   "cell_type": "code",
   "execution_count": null,
   "id": "5b99c0d5",
   "metadata": {},
   "outputs": [],
   "source": [
    "sales_data = sales_data.merge(revenue_codes[['stockcode_caps_description','cluster_tvec_linkage']], \n",
    "                              how='left', \n",
    "                              on='stockcode_caps_description')"
   ]
  },
  {
   "cell_type": "code",
   "execution_count": null,
   "id": "c787e365",
   "metadata": {},
   "outputs": [],
   "source": [
    "sales_data.head()"
   ]
  },
  {
   "cell_type": "code",
   "execution_count": null,
   "id": "b7c74ccf",
   "metadata": {},
   "outputs": [],
   "source": []
  },
  {
   "cell_type": "code",
   "execution_count": null,
   "id": "31706c0c",
   "metadata": {},
   "outputs": [],
   "source": [
    "sales_data.pivot_table(index='customerid',columns='cluster_tvec_linkage',values='revenue', aggfunc=sum)"
   ]
  },
  {
   "cell_type": "code",
   "execution_count": null,
   "id": "49e7d8e4",
   "metadata": {},
   "outputs": [],
   "source": [
    "product_by_customers = pd.crosstab(index=sales_data['customerid'],\n",
    "            columns=sales_data['cluster_tvec_linkage'],\n",
    "            values=sales_data['revenue'], \n",
    "            aggfunc=sum,\n",
    "            normalize='index'\n",
    "           )"
   ]
  },
  {
   "cell_type": "code",
   "execution_count": null,
   "id": "e706aa38",
   "metadata": {},
   "outputs": [],
   "source": [
    "product_by_customers"
   ]
  },
  {
   "cell_type": "code",
   "execution_count": null,
   "id": "e5b98eda",
   "metadata": {},
   "outputs": [],
   "source": [
    "sc_product_by_customers = StandardScaler()\n",
    "X_product_by_customers = sc_product_by_customers.fit_transform(product_by_customers.values)"
   ]
  },
  {
   "cell_type": "code",
   "execution_count": null,
   "id": "15ab1b57",
   "metadata": {},
   "outputs": [],
   "source": [
    "km_product_by_customers = KMeans(n_clusters=10, random_state=42)\n",
    "km_product_by_customers.fit(X_product_by_customers)"
   ]
  },
  {
   "cell_type": "code",
   "execution_count": null,
   "id": "aa2a871a",
   "metadata": {},
   "outputs": [],
   "source": [
    "product_by_customers['cluster_cvec_km'] = km_product_by_customers.labels_"
   ]
  },
  {
   "cell_type": "code",
   "execution_count": null,
   "id": "b7a18968",
   "metadata": {},
   "outputs": [],
   "source": [
    "product_by_customers['cluster_cvec_km'].value_counts()"
   ]
  },
  {
   "cell_type": "code",
   "execution_count": null,
   "id": "f37df332",
   "metadata": {},
   "outputs": [],
   "source": [
    "dbscan_product_by_customers = DBSCAN(eps=0.01)\n",
    "dbscan_product_by_customers.fit(X_product_by_customers);"
   ]
  },
  {
   "cell_type": "code",
   "execution_count": null,
   "id": "41ead424",
   "metadata": {},
   "outputs": [],
   "source": [
    "product_by_customers['cluster_dbscan'] = dbscan_product_by_customers.labels_\n",
    "product_by_customers['cluster_dbscan'].value_counts()"
   ]
  },
  {
   "cell_type": "code",
   "execution_count": null,
   "id": "3690243d",
   "metadata": {},
   "outputs": [],
   "source": [
    "#z = linkage(X_product_by_customers , 'single')\n",
    "#dendrogram(z);"
   ]
  },
  {
   "cell_type": "code",
   "execution_count": null,
   "id": "750e49b0",
   "metadata": {},
   "outputs": [],
   "source": [
    "#product_by_customers['cluster_linkage'] = fcluster(z, 0.9, criterion = 'distance')"
   ]
  },
  {
   "cell_type": "code",
   "execution_count": null,
   "id": "2d356419",
   "metadata": {},
   "outputs": [],
   "source": []
  }
 ],
 "metadata": {
  "kernelspec": {
   "display_name": "Python 3 (ipykernel)",
   "language": "python",
   "name": "python3"
  },
  "language_info": {
   "codemirror_mode": {
    "name": "ipython",
    "version": 3
   },
   "file_extension": ".py",
   "mimetype": "text/x-python",
   "name": "python",
   "nbconvert_exporter": "python",
   "pygments_lexer": "ipython3",
   "version": "3.8.12"
  }
 },
 "nbformat": 4,
 "nbformat_minor": 5
}
