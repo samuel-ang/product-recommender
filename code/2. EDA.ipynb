{
 "cells": [
  {
   "cell_type": "markdown",
   "id": "1b7e4688",
   "metadata": {},
   "source": [
    "# CAPSTONE"
   ]
  },
  {
   "cell_type": "markdown",
   "id": "1faf7009",
   "metadata": {},
   "source": [
    "To create a recommender model to assist the Sales & Marketing Department in identifying cross-selling opportunities to our customers through identifying customer segments by applying clustering techniques on customer sales data, including natural language processing of product descriptions to identify product categories.\n",
    "\n",
    "Deliverables: to deliver a recommender model that improves by at least 10% accuracy from baseline model without feature engineering.\n",
    "\n",
    "Customer Segementation by \n",
    "- RFM: (Recency, Frequency, Monetary) using K-means/DBScan/Hierarchical clustering\n",
    "https://www.optimove.com/resources/learning-center/customer-segmentation-via-cluster-analysis#:~:text=In%20the%20context%20of%20customer,archetypes%E2%80%9D%20or%20%E2%80%9Cpersonas%E2%80%9D.\n",
    "\n",
    "https://www.analyticsvidhya.com/blog/2020/10/quick-guide-to-evaluation-metrics-for-supervised-and-unsupervised-machine-learning/\n",
    "\n",
    "https://www.shopify.com.sg/encyclopedia/customer-segmentation#:~:text=Customer%20segmentation%20is%20the%20process,Number%20of%20employees\n",
    "\n",
    "\n",
    "https://analyticsindiamag.com/how-to-measure-the-success-of-a-recommendation-system/\n",
    "\n",
    "https://www.kaggle.com/code/azizozmen/customer-segmentation-cohort-rfm-analysis-k-means\n",
    "\n",
    "https://www.kaggle.com/code/ozlemilgun/customer-segmentation-using-rfm-analysis\n",
    "\n",
    "https://www.kaggle.com/code/mathchi/business-problem-with-customer-segmentation\n",
    "\n",
    "- Product segmentation (categorical) using K modes, Jacard Distance\n",
    "Categorize products into main categories by performing NLP on product description (parts of speech tagging)\n",
    "\n",
    "https://www.analyticsvidhya.com/blog/2021/06/kmodes-clustering-algorithm-for-categorical-data/#:~:text=KModes%20clustering%20is%20one%20of,similar%20our%20data%20points%20are.\n",
    "\n",
    "- Clustering of combination of categorical and numerical features (Gower Distance, Dimensionality Reduction Techniques, K-prototypes)\n",
    "\n",
    "Dataset only has 8 columns. Segmentation would require feature engineering to identify additional features for clustering. \n",
    "\n",
    "Unique product descriptions are about 4000+, which detail product type and variants like colour, design, and number of items it contains.\n",
    "\n",
    "We would use RFM (Recency, Frequency, Monetary) Analysis to numerical sales data \n",
    "\n",
    "8 feature columns, 540K observations\n",
    "'InvoiceNo' - 25900 unique\n",
    "'stockcode_caps' - 4070 unique\n",
    "'description_new' - 4223 unique, includes adjustment entries like stock returns, discounts \n",
    "'Quantity'\n",
    "'InvoiceDate' - 1 year period\n",
    "'UnitPrice'\n",
    "'CustomerID' - 4372 unique\n",
    "'Country' - 38 countries, 91% from one country\n",
    "\n",
    "Assume average gross margin is 42%, net margin is 7% - online retail\n",
    "https://pages.stern.nyu.edu/~adamodar/New_Home_Page/datafile/margin.html\n",
    "\n",
    "https://en.wikipedia.org/wiki/List_of_countries_by_United_Nations_geoscheme"
   ]
  },
  {
   "cell_type": "markdown",
   "id": "63f28c02",
   "metadata": {},
   "source": [
    "1. What is your problem statement?  What will you actually be doing?\n",
    "\n",
    "2. Who is your audience?  Why will they care?\n",
    " \n",
    "3. What is your success metric?  How will you know if you are actually solving the problem in a useful way?\n",
    "\n",
    "4. What is your data source?  What format is your data in?  How much cleaning and munging will be required?\n",
    "\n",
    "5. What are potential challenges or obstacles and how will you mitigate them?\n",
    "\n",
    "6. Is this a reasonable project given the time constraints that you have?\n",
    "\n"
   ]
  },
  {
   "cell_type": "markdown",
   "id": "eb3efb74",
   "metadata": {},
   "source": [
    "Week starting 25 Apr\n",
    "First half\n",
    "- Import and clean data\n",
    "- NLP of product categories\n",
    "- EDA on product categories\n",
    "- Product category clustering - K modes\n",
    "- Create basic recommender model, error analysis, tuning\n",
    "\n",
    "Second half\n",
    "- Feature engineering for sales data - RFM analysis\n",
    "- RFM clustering (K-means)\n",
    "- Add to recommender model, error analysis, tuning\n",
    "\n",
    "Week starting 2 May\n",
    "First half\n",
    "- Clustering with combined categorical variables and numerical variables\n",
    "- Add other clustering methods DBScan/ Hierarchical clustering/Gower Distance/ Dimensionality Reduction Techniques/ K-prototypes\n",
    "- Error analysis, tuning\n",
    "\n",
    "Second half\n",
    "Prepare presentation slides\n",
    "Stretch goal - Impute COGS based on industry assumptions to add dimension to the business proposal"
   ]
  },
  {
   "cell_type": "code",
   "execution_count": 1,
   "id": "a7f4ca33",
   "metadata": {},
   "outputs": [],
   "source": [
    "# Import libraries\n",
    "import pandas as pd\n",
    "import numpy as np\n",
    "import matplotlib.pyplot as plt\n",
    "import seaborn as sns\n",
    "\n",
    "from sklearn.decomposition import TruncatedSVD\n",
    "\n"
   ]
  },
  {
   "cell_type": "code",
   "execution_count": 2,
   "id": "120d95f0",
   "metadata": {},
   "outputs": [],
   "source": [
    "# Set chart style\n",
    "plt.style.use('Solarize_Light2')"
   ]
  },
  {
   "cell_type": "code",
   "execution_count": 3,
   "id": "677953f8",
   "metadata": {},
   "outputs": [],
   "source": [
    "# Import data\n",
    "sales = pd.read_csv('../data/cleaned_sales.csv', \n",
    "                         dtype={'invoiceno': 'object', \n",
    "                                 'stockcode_caps': 'object', \n",
    "                                 'quantity': np.int32, \n",
    "                                 'unitprice': np.float32, \n",
    "                                 'customerid': 'object'\n",
    "                                })"
   ]
  },
  {
   "cell_type": "code",
   "execution_count": 4,
   "id": "87949282",
   "metadata": {},
   "outputs": [],
   "source": [
    "customer_location = pd.read_csv('../data/cleaned_customer.csv')\n",
    "stock_descriptions= pd.read_csv('../data/cleaned_stock_descriptions.csv')\n",
    "invoice = pd.read_csv('../data/cleaned_invoice.csv')"
   ]
  },
  {
   "cell_type": "code",
   "execution_count": 5,
   "id": "c6bf76b9",
   "metadata": {},
   "outputs": [
    {
     "name": "stdout",
     "output_type": "stream",
     "text": [
      "<class 'pandas.core.frame.DataFrame'>\n",
      "RangeIndex: 536493 entries, 0 to 536492\n",
      "Data columns (total 5 columns):\n",
      " #   Column          Non-Null Count   Dtype  \n",
      "---  ------          --------------   -----  \n",
      " 0   invoiceno       536493 non-null  object \n",
      " 1   stockcode_caps  536493 non-null  object \n",
      " 2   quantity        536493 non-null  int32  \n",
      " 3   unitprice       536493 non-null  float32\n",
      " 4   customerid      536493 non-null  object \n",
      "dtypes: float32(1), int32(1), object(3)\n",
      "memory usage: 16.4+ MB\n"
     ]
    }
   ],
   "source": [
    "# Check column types and null values\n",
    "sales.info()"
   ]
  },
  {
   "cell_type": "code",
   "execution_count": 6,
   "id": "f2689149",
   "metadata": {},
   "outputs": [
    {
     "name": "stdout",
     "output_type": "stream",
     "text": [
      "<class 'pandas.core.frame.DataFrame'>\n",
      "RangeIndex: 5772 entries, 0 to 5771\n",
      "Data columns (total 2 columns):\n",
      " #   Column      Non-Null Count  Dtype \n",
      "---  ------      --------------  ----- \n",
      " 0   customerid  5772 non-null   object\n",
      " 1   domestic    5772 non-null   bool  \n",
      "dtypes: bool(1), object(1)\n",
      "memory usage: 50.9+ KB\n"
     ]
    }
   ],
   "source": [
    "# Check column types and null values\n",
    "customer_location.info()"
   ]
  },
  {
   "cell_type": "code",
   "execution_count": 7,
   "id": "a61a6445",
   "metadata": {},
   "outputs": [
    {
     "name": "stdout",
     "output_type": "stream",
     "text": [
      "<class 'pandas.core.frame.DataFrame'>\n",
      "RangeIndex: 3817 entries, 0 to 3816\n",
      "Data columns (total 2 columns):\n",
      " #   Column           Non-Null Count  Dtype \n",
      "---  ------           --------------  ----- \n",
      " 0   stockcode_caps   3817 non-null   object\n",
      " 1   description_new  3817 non-null   object\n",
      "dtypes: object(2)\n",
      "memory usage: 59.8+ KB\n"
     ]
    }
   ],
   "source": [
    "# Check column types and null values\n",
    "stock_descriptions.info()"
   ]
  },
  {
   "cell_type": "code",
   "execution_count": 8,
   "id": "ad6e57ab",
   "metadata": {},
   "outputs": [
    {
     "name": "stdout",
     "output_type": "stream",
     "text": [
      "<class 'pandas.core.frame.DataFrame'>\n",
      "RangeIndex: 23195 entries, 0 to 23194\n",
      "Data columns (total 3 columns):\n",
      " #   Column       Non-Null Count  Dtype \n",
      "---  ------       --------------  ----- \n",
      " 0   invoiceno    23195 non-null  object\n",
      " 1   invoicedate  23195 non-null  object\n",
      " 2   test         23195 non-null  bool  \n",
      "dtypes: bool(1), object(2)\n",
      "memory usage: 385.2+ KB\n"
     ]
    }
   ],
   "source": [
    "# Check column types and null values\n",
    "invoice.info()"
   ]
  },
  {
   "cell_type": "code",
   "execution_count": 9,
   "id": "f507c56e",
   "metadata": {},
   "outputs": [],
   "source": [
    "# convert time to datetime\n",
    "invoice['invoicedate'] = pd.to_datetime(invoice['invoicedate'])"
   ]
  },
  {
   "cell_type": "code",
   "execution_count": 12,
   "id": "7223944a",
   "metadata": {},
   "outputs": [],
   "source": [
    "# Join datasets together\n",
    "sales_data = sales.merge(customer_location, on='customerid') \\\n",
    "            .merge(invoice, on='invoiceno')"
   ]
  },
  {
   "cell_type": "code",
   "execution_count": 13,
   "id": "301fdd19",
   "metadata": {},
   "outputs": [],
   "source": [
    "# Calculate revenue from unit price and quantity\n",
    "sales_data['revenue'] = sales_data['unitprice'] * sales_data['quantity'] "
   ]
  },
  {
   "cell_type": "markdown",
   "id": "a3a31ebd",
   "metadata": {},
   "source": [
    "### Analysis of Sales by Customer"
   ]
  },
  {
   "cell_type": "code",
   "execution_count": 14,
   "id": "2cfabfda",
   "metadata": {},
   "outputs": [],
   "source": [
    "latest_date = sales_data['invoicedate'].max()"
   ]
  },
  {
   "cell_type": "code",
   "execution_count": 15,
   "id": "0e6cfb2a",
   "metadata": {},
   "outputs": [],
   "source": [
    "sales_by_cust = sales_data.groupby('customerid').agg(total_revenue=('revenue',np.sum),\n",
    "                                                total_qty=('quantity',np.sum),\n",
    "                                                num_invoices=('invoiceno',lambda x: x.nunique()),\n",
    "                                                unique_products=('stockcode_caps',lambda x: x.nunique()),\n",
    "                                                recency=('invoicedate',\n",
    "                                                         lambda x: (latest_date - x.max()).days)\n",
    "                                               ).reset_index()"
   ]
  },
  {
   "cell_type": "code",
   "execution_count": 16,
   "id": "2a437d7e",
   "metadata": {},
   "outputs": [],
   "source": [
    "sales_by_cust = sales_by_cust[sales_by_cust['total_revenue']>0]"
   ]
  },
  {
   "cell_type": "code",
   "execution_count": 17,
   "id": "d6d9fb44",
   "metadata": {},
   "outputs": [
    {
     "data": {
      "text/html": [
       "<div>\n",
       "<style scoped>\n",
       "    .dataframe tbody tr th:only-of-type {\n",
       "        vertical-align: middle;\n",
       "    }\n",
       "\n",
       "    .dataframe tbody tr th {\n",
       "        vertical-align: top;\n",
       "    }\n",
       "\n",
       "    .dataframe thead th {\n",
       "        text-align: right;\n",
       "    }\n",
       "</style>\n",
       "<table border=\"1\" class=\"dataframe\">\n",
       "  <thead>\n",
       "    <tr style=\"text-align: right;\">\n",
       "      <th></th>\n",
       "      <th>customerid</th>\n",
       "      <th>total_revenue</th>\n",
       "      <th>total_qty</th>\n",
       "      <th>num_invoices</th>\n",
       "      <th>unique_products</th>\n",
       "      <th>recency</th>\n",
       "    </tr>\n",
       "  </thead>\n",
       "  <tbody>\n",
       "    <tr>\n",
       "      <th>1699</th>\n",
       "      <td>14646</td>\n",
       "      <td>278778.019436</td>\n",
       "      <td>196556</td>\n",
       "      <td>73</td>\n",
       "      <td>699</td>\n",
       "      <td>1</td>\n",
       "    </tr>\n",
       "    <tr>\n",
       "      <th>4223</th>\n",
       "      <td>18102</td>\n",
       "      <td>259657.298465</td>\n",
       "      <td>64124</td>\n",
       "      <td>60</td>\n",
       "      <td>150</td>\n",
       "      <td>0</td>\n",
       "    </tr>\n",
       "    <tr>\n",
       "      <th>3749</th>\n",
       "      <td>17450</td>\n",
       "      <td>189735.530978</td>\n",
       "      <td>69041</td>\n",
       "      <td>49</td>\n",
       "      <td>124</td>\n",
       "      <td>7</td>\n",
       "    </tr>\n",
       "    <tr>\n",
       "      <th>1891</th>\n",
       "      <td>14911</td>\n",
       "      <td>128882.129288</td>\n",
       "      <td>76848</td>\n",
       "      <td>242</td>\n",
       "      <td>1791</td>\n",
       "      <td>0</td>\n",
       "    </tr>\n",
       "    <tr>\n",
       "      <th>55</th>\n",
       "      <td>12415</td>\n",
       "      <td>123638.180134</td>\n",
       "      <td>76946</td>\n",
       "      <td>24</td>\n",
       "      <td>443</td>\n",
       "      <td>23</td>\n",
       "    </tr>\n",
       "    <tr>\n",
       "      <th>...</th>\n",
       "      <td>...</td>\n",
       "      <td>...</td>\n",
       "      <td>...</td>\n",
       "      <td>...</td>\n",
       "      <td>...</td>\n",
       "      <td>...</td>\n",
       "    </tr>\n",
       "    <tr>\n",
       "      <th>4770</th>\n",
       "      <td>546876</td>\n",
       "      <td>0.840000</td>\n",
       "      <td>2</td>\n",
       "      <td>1</td>\n",
       "      <td>2</td>\n",
       "      <td>266</td>\n",
       "    </tr>\n",
       "    <tr>\n",
       "      <th>4601</th>\n",
       "      <td>542136</td>\n",
       "      <td>0.840000</td>\n",
       "      <td>2</td>\n",
       "      <td>1</td>\n",
       "      <td>1</td>\n",
       "      <td>317</td>\n",
       "    </tr>\n",
       "    <tr>\n",
       "      <th>5275</th>\n",
       "      <td>560217</td>\n",
       "      <td>0.790000</td>\n",
       "      <td>1</td>\n",
       "      <td>1</td>\n",
       "      <td>1</td>\n",
       "      <td>146</td>\n",
       "    </tr>\n",
       "    <tr>\n",
       "      <th>4544</th>\n",
       "      <td>540833</td>\n",
       "      <td>0.650000</td>\n",
       "      <td>1</td>\n",
       "      <td>1</td>\n",
       "      <td>1</td>\n",
       "      <td>331</td>\n",
       "    </tr>\n",
       "    <tr>\n",
       "      <th>4456</th>\n",
       "      <td>539441</td>\n",
       "      <td>0.420000</td>\n",
       "      <td>1</td>\n",
       "      <td>1</td>\n",
       "      <td>1</td>\n",
       "      <td>356</td>\n",
       "    </tr>\n",
       "  </tbody>\n",
       "</table>\n",
       "<p>5691 rows × 6 columns</p>\n",
       "</div>"
      ],
      "text/plain": [
       "     customerid  total_revenue  total_qty  num_invoices  unique_products  \\\n",
       "1699      14646  278778.019436     196556            73              699   \n",
       "4223      18102  259657.298465      64124            60              150   \n",
       "3749      17450  189735.530978      69041            49              124   \n",
       "1891      14911  128882.129288      76848           242             1791   \n",
       "55        12415  123638.180134      76946            24              443   \n",
       "...         ...            ...        ...           ...              ...   \n",
       "4770     546876       0.840000          2             1                2   \n",
       "4601     542136       0.840000          2             1                1   \n",
       "5275     560217       0.790000          1             1                1   \n",
       "4544     540833       0.650000          1             1                1   \n",
       "4456     539441       0.420000          1             1                1   \n",
       "\n",
       "      recency  \n",
       "1699        1  \n",
       "4223        0  \n",
       "3749        7  \n",
       "1891        0  \n",
       "55         23  \n",
       "...       ...  \n",
       "4770      266  \n",
       "4601      317  \n",
       "5275      146  \n",
       "4544      331  \n",
       "4456      356  \n",
       "\n",
       "[5691 rows x 6 columns]"
      ]
     },
     "execution_count": 17,
     "metadata": {},
     "output_type": "execute_result"
    }
   ],
   "source": [
    "sales_by_cust.sort_values(by='total_revenue',ascending=False)"
   ]
  },
  {
   "cell_type": "code",
   "execution_count": 18,
   "id": "7cbba134",
   "metadata": {},
   "outputs": [
    {
     "data": {
      "text/plain": [
       "Text(0.5, 1.02, 'Customer RFM distribution')"
      ]
     },
     "execution_count": 18,
     "metadata": {},
     "output_type": "execute_result"
    },
    {
     "data": {
      "image/png": "[encoded data removed]",
      "text/plain": [
       "<Figure size 540x540 with 12 Axes>"
      ]
     },
     "metadata": {},
     "output_type": "display_data"
    }
   ],
   "source": [
    "g = sns.pairplot(data=sales_by_cust[['recency','num_invoices','total_revenue']])\n",
    "g.fig.suptitle(\"Customer RFM distribution\", y=1.02)"
   ]
  },
  {
   "cell_type": "code",
   "execution_count": 19,
   "id": "1365aaa3",
   "metadata": {},
   "outputs": [],
   "source": [
    "sales_by_cust['custsales_quntiles'] = pd.qcut(sales_by_cust.total_revenue, 5, labels = [5,4,3,2,1])"
   ]
  },
  {
   "cell_type": "code",
   "execution_count": 20,
   "id": "787ba6c3",
   "metadata": {},
   "outputs": [
    {
     "data": {
      "text/html": [
       "<div>\n",
       "<style scoped>\n",
       "    .dataframe tbody tr th:only-of-type {\n",
       "        vertical-align: middle;\n",
       "    }\n",
       "\n",
       "    .dataframe tbody tr th {\n",
       "        vertical-align: top;\n",
       "    }\n",
       "\n",
       "    .dataframe thead th {\n",
       "        text-align: right;\n",
       "    }\n",
       "</style>\n",
       "<table border=\"1\" class=\"dataframe\">\n",
       "  <thead>\n",
       "    <tr style=\"text-align: right;\">\n",
       "      <th></th>\n",
       "      <th>total_revenue</th>\n",
       "      <th>total_qty</th>\n",
       "      <th>num_invoices</th>\n",
       "    </tr>\n",
       "    <tr>\n",
       "      <th>Customer by Total Sales Quintile</th>\n",
       "      <th></th>\n",
       "      <th></th>\n",
       "      <th></th>\n",
       "    </tr>\n",
       "  </thead>\n",
       "  <tbody>\n",
       "    <tr>\n",
       "      <th>5</th>\n",
       "      <td>0.008645</td>\n",
       "      <td>0.009814</td>\n",
       "      <td>0.055604</td>\n",
       "    </tr>\n",
       "    <tr>\n",
       "      <th>4</th>\n",
       "      <td>0.034016</td>\n",
       "      <td>0.037259</td>\n",
       "      <td>0.077126</td>\n",
       "    </tr>\n",
       "    <tr>\n",
       "      <th>3</th>\n",
       "      <td>0.071225</td>\n",
       "      <td>0.075656</td>\n",
       "      <td>0.125498</td>\n",
       "    </tr>\n",
       "    <tr>\n",
       "      <th>2</th>\n",
       "      <td>0.153529</td>\n",
       "      <td>0.152606</td>\n",
       "      <td>0.193617</td>\n",
       "    </tr>\n",
       "    <tr>\n",
       "      <th>1</th>\n",
       "      <td>0.732585</td>\n",
       "      <td>0.724664</td>\n",
       "      <td>0.548155</td>\n",
       "    </tr>\n",
       "  </tbody>\n",
       "</table>\n",
       "</div>"
      ],
      "text/plain": [
       "                                  total_revenue  total_qty  num_invoices\n",
       "Customer by Total Sales Quintile                                        \n",
       "5                                      0.008645   0.009814      0.055604\n",
       "4                                      0.034016   0.037259      0.077126\n",
       "3                                      0.071225   0.075656      0.125498\n",
       "2                                      0.153529   0.152606      0.193617\n",
       "1                                      0.732585   0.724664      0.548155"
      ]
     },
     "execution_count": 20,
     "metadata": {},
     "output_type": "execute_result"
    }
   ],
   "source": [
    "sales_by_cust.groupby(pd.qcut(sales_by_cust['total_revenue'], 5, labels = [5,4,3,2,1])) \\\n",
    "                [['total_revenue','total_qty','num_invoices']].sum().transform(lambda x: x / x.sum()) \\\n",
    "                .rename_axis('Customer by Total Sales Quintile')"
   ]
  },
  {
   "cell_type": "markdown",
   "id": "ac01a9b3",
   "metadata": {},
   "source": [
    "RFM scores"
   ]
  },
  {
   "cell_type": "code",
   "execution_count": 21,
   "id": "bfa59c0a",
   "metadata": {},
   "outputs": [
    {
     "data": {
      "text/plain": [
       "1         1\n",
       "2        74\n",
       "3        18\n",
       "4       309\n",
       "5        35\n",
       "       ... \n",
       "5728      0\n",
       "5729      0\n",
       "5730      0\n",
       "5731      0\n",
       "5732      0\n",
       "Name: recency, Length: 5691, dtype: int64"
      ]
     },
     "execution_count": 21,
     "metadata": {},
     "output_type": "execute_result"
    }
   ],
   "source": [
    "sales_by_cust.recency"
   ]
  },
  {
   "cell_type": "code",
   "execution_count": 22,
   "id": "a510ca43",
   "metadata": {},
   "outputs": [],
   "source": [
    "sales_by_cust['recency_score'] = pd.qcut(sales_by_cust.recency.rank(method='first'), \n",
    "                                         3, \n",
    "                                         labels = ['3','2','1'])"
   ]
  },
  {
   "cell_type": "code",
   "execution_count": 23,
   "id": "b4fa1d07",
   "metadata": {},
   "outputs": [],
   "source": [
    "sales_by_cust['frequency_score'] = pd.qcut(sales_by_cust.num_invoices.rank(method='first'), \n",
    "                                           3, \n",
    "                                           labels = ['1','2','3'])"
   ]
  },
  {
   "cell_type": "code",
   "execution_count": 24,
   "id": "f5e1db16",
   "metadata": {},
   "outputs": [],
   "source": [
    "sales_by_cust['monetary_score'] = pd.qcut(sales_by_cust.total_revenue.rank(method='first'), \n",
    "                                          3, \n",
    "                                          labels = ['1','2','3'])"
   ]
  },
  {
   "cell_type": "code",
   "execution_count": 25,
   "id": "43d112d5",
   "metadata": {},
   "outputs": [],
   "source": [
    "sales_by_cust['RFM_group'] = sales_by_cust[['recency_score',\n",
    "                                            'frequency_score',\n",
    "                                            'monetary_score']].agg(''.join, axis=1)"
   ]
  },
  {
   "cell_type": "code",
   "execution_count": 26,
   "id": "eb102dd4",
   "metadata": {},
   "outputs": [
    {
     "data": {
      "text/html": [
       "<div>\n",
       "<style scoped>\n",
       "    .dataframe tbody tr th:only-of-type {\n",
       "        vertical-align: middle;\n",
       "    }\n",
       "\n",
       "    .dataframe tbody tr th {\n",
       "        vertical-align: top;\n",
       "    }\n",
       "\n",
       "    .dataframe thead th {\n",
       "        text-align: right;\n",
       "    }\n",
       "</style>\n",
       "<table border=\"1\" class=\"dataframe\">\n",
       "  <thead>\n",
       "    <tr style=\"text-align: right;\">\n",
       "      <th></th>\n",
       "      <th>RFM_group</th>\n",
       "      <th>cust_count</th>\n",
       "      <th>total_revenue</th>\n",
       "      <th>avg_recency</th>\n",
       "      <th>avg_invoices</th>\n",
       "      <th>avg_revenue</th>\n",
       "    </tr>\n",
       "  </thead>\n",
       "  <tbody>\n",
       "    <tr>\n",
       "      <th>26</th>\n",
       "      <td>333</td>\n",
       "      <td>885</td>\n",
       "      <td>5.526334e+06</td>\n",
       "      <td>10.743503</td>\n",
       "      <td>13.810169</td>\n",
       "      <td>6244.444757</td>\n",
       "    </tr>\n",
       "    <tr>\n",
       "      <th>17</th>\n",
       "      <td>233</td>\n",
       "      <td>340</td>\n",
       "      <td>9.480187e+05</td>\n",
       "      <td>65.894118</td>\n",
       "      <td>7.141176</td>\n",
       "      <td>2788.290220</td>\n",
       "    </tr>\n",
       "    <tr>\n",
       "      <th>14</th>\n",
       "      <td>223</td>\n",
       "      <td>239</td>\n",
       "      <td>5.320898e+05</td>\n",
       "      <td>83.251046</td>\n",
       "      <td>1.539749</td>\n",
       "      <td>2226.317277</td>\n",
       "    </tr>\n",
       "    <tr>\n",
       "      <th>2</th>\n",
       "      <td>113</td>\n",
       "      <td>174</td>\n",
       "      <td>4.779997e+05</td>\n",
       "      <td>299.114943</td>\n",
       "      <td>1.000000</td>\n",
       "      <td>2747.124593</td>\n",
       "    </tr>\n",
       "    <tr>\n",
       "      <th>23</th>\n",
       "      <td>323</td>\n",
       "      <td>112</td>\n",
       "      <td>4.387151e+05</td>\n",
       "      <td>13.571429</td>\n",
       "      <td>1.723214</td>\n",
       "      <td>3917.099011</td>\n",
       "    </tr>\n",
       "    <tr>\n",
       "      <th>25</th>\n",
       "      <td>332</td>\n",
       "      <td>298</td>\n",
       "      <td>2.340336e+05</td>\n",
       "      <td>13.724832</td>\n",
       "      <td>4.869128</td>\n",
       "      <td>785.347646</td>\n",
       "    </tr>\n",
       "    <tr>\n",
       "      <th>13</th>\n",
       "      <td>222</td>\n",
       "      <td>316</td>\n",
       "      <td>2.051307e+05</td>\n",
       "      <td>80.740506</td>\n",
       "      <td>2.170886</td>\n",
       "      <td>649.147845</td>\n",
       "    </tr>\n",
       "    <tr>\n",
       "      <th>5</th>\n",
       "      <td>123</td>\n",
       "      <td>91</td>\n",
       "      <td>1.839196e+05</td>\n",
       "      <td>195.912088</td>\n",
       "      <td>1.351648</td>\n",
       "      <td>2021.095053</td>\n",
       "    </tr>\n",
       "    <tr>\n",
       "      <th>1</th>\n",
       "      <td>112</td>\n",
       "      <td>302</td>\n",
       "      <td>1.710824e+05</td>\n",
       "      <td>273.629139</td>\n",
       "      <td>1.000000</td>\n",
       "      <td>566.498046</td>\n",
       "    </tr>\n",
       "    <tr>\n",
       "      <th>16</th>\n",
       "      <td>232</td>\n",
       "      <td>219</td>\n",
       "      <td>1.600864e+05</td>\n",
       "      <td>70.630137</td>\n",
       "      <td>4.502283</td>\n",
       "      <td>730.988351</td>\n",
       "    </tr>\n",
       "    <tr>\n",
       "      <th>22</th>\n",
       "      <td>322</td>\n",
       "      <td>224</td>\n",
       "      <td>1.427893e+05</td>\n",
       "      <td>14.924107</td>\n",
       "      <td>2.294643</td>\n",
       "      <td>637.452094</td>\n",
       "    </tr>\n",
       "    <tr>\n",
       "      <th>8</th>\n",
       "      <td>133</td>\n",
       "      <td>30</td>\n",
       "      <td>1.377341e+05</td>\n",
       "      <td>214.366667</td>\n",
       "      <td>7.933333</td>\n",
       "      <td>4591.135654</td>\n",
       "    </tr>\n",
       "    <tr>\n",
       "      <th>4</th>\n",
       "      <td>122</td>\n",
       "      <td>227</td>\n",
       "      <td>1.323575e+05</td>\n",
       "      <td>214.563877</td>\n",
       "      <td>1.814978</td>\n",
       "      <td>583.072598</td>\n",
       "    </tr>\n",
       "    <tr>\n",
       "      <th>10</th>\n",
       "      <td>212</td>\n",
       "      <td>182</td>\n",
       "      <td>9.815213e+04</td>\n",
       "      <td>72.829670</td>\n",
       "      <td>1.000000</td>\n",
       "      <td>539.297415</td>\n",
       "    </tr>\n",
       "    <tr>\n",
       "      <th>0</th>\n",
       "      <td>111</td>\n",
       "      <td>714</td>\n",
       "      <td>8.881773e+04</td>\n",
       "      <td>283.277311</td>\n",
       "      <td>1.000000</td>\n",
       "      <td>124.394579</td>\n",
       "    </tr>\n",
       "    <tr>\n",
       "      <th>9</th>\n",
       "      <td>211</td>\n",
       "      <td>290</td>\n",
       "      <td>5.462988e+04</td>\n",
       "      <td>76.120690</td>\n",
       "      <td>1.000000</td>\n",
       "      <td>188.378895</td>\n",
       "    </tr>\n",
       "    <tr>\n",
       "      <th>11</th>\n",
       "      <td>213</td>\n",
       "      <td>22</td>\n",
       "      <td>5.061078e+04</td>\n",
       "      <td>88.227273</td>\n",
       "      <td>1.000000</td>\n",
       "      <td>2300.489991</td>\n",
       "    </tr>\n",
       "    <tr>\n",
       "      <th>7</th>\n",
       "      <td>132</td>\n",
       "      <td>64</td>\n",
       "      <td>4.445404e+04</td>\n",
       "      <td>208.375000</td>\n",
       "      <td>4.625000</td>\n",
       "      <td>694.594372</td>\n",
       "    </tr>\n",
       "    <tr>\n",
       "      <th>3</th>\n",
       "      <td>121</td>\n",
       "      <td>274</td>\n",
       "      <td>4.073294e+04</td>\n",
       "      <td>205.759124</td>\n",
       "      <td>1.503650</td>\n",
       "      <td>148.660365</td>\n",
       "    </tr>\n",
       "    <tr>\n",
       "      <th>12</th>\n",
       "      <td>221</td>\n",
       "      <td>266</td>\n",
       "      <td>3.199821e+04</td>\n",
       "      <td>83.612782</td>\n",
       "      <td>1.447368</td>\n",
       "      <td>120.294022</td>\n",
       "    </tr>\n",
       "    <tr>\n",
       "      <th>19</th>\n",
       "      <td>312</td>\n",
       "      <td>65</td>\n",
       "      <td>3.190610e+04</td>\n",
       "      <td>17.461538</td>\n",
       "      <td>1.000000</td>\n",
       "      <td>490.863074</td>\n",
       "    </tr>\n",
       "    <tr>\n",
       "      <th>18</th>\n",
       "      <td>311</td>\n",
       "      <td>144</td>\n",
       "      <td>2.594690e+04</td>\n",
       "      <td>17.506944</td>\n",
       "      <td>1.000000</td>\n",
       "      <td>180.186804</td>\n",
       "    </tr>\n",
       "    <tr>\n",
       "      <th>21</th>\n",
       "      <td>321</td>\n",
       "      <td>148</td>\n",
       "      <td>2.251922e+04</td>\n",
       "      <td>14.520270</td>\n",
       "      <td>1.662162</td>\n",
       "      <td>152.156891</td>\n",
       "    </tr>\n",
       "    <tr>\n",
       "      <th>20</th>\n",
       "      <td>313</td>\n",
       "      <td>4</td>\n",
       "      <td>8.284760e+03</td>\n",
       "      <td>15.000000</td>\n",
       "      <td>1.000000</td>\n",
       "      <td>2071.189995</td>\n",
       "    </tr>\n",
       "    <tr>\n",
       "      <th>6</th>\n",
       "      <td>131</td>\n",
       "      <td>21</td>\n",
       "      <td>5.005480e+03</td>\n",
       "      <td>228.285714</td>\n",
       "      <td>3.904762</td>\n",
       "      <td>238.356189</td>\n",
       "    </tr>\n",
       "    <tr>\n",
       "      <th>15</th>\n",
       "      <td>231</td>\n",
       "      <td>23</td>\n",
       "      <td>4.663560e+03</td>\n",
       "      <td>90.521739</td>\n",
       "      <td>3.739130</td>\n",
       "      <td>202.763479</td>\n",
       "    </tr>\n",
       "    <tr>\n",
       "      <th>24</th>\n",
       "      <td>331</td>\n",
       "      <td>17</td>\n",
       "      <td>3.863630e+03</td>\n",
       "      <td>9.352941</td>\n",
       "      <td>3.941176</td>\n",
       "      <td>227.272352</td>\n",
       "    </tr>\n",
       "  </tbody>\n",
       "</table>\n",
       "</div>"
      ],
      "text/plain": [
       "   RFM_group  cust_count  total_revenue  avg_recency  avg_invoices  \\\n",
       "26       333         885   5.526334e+06    10.743503     13.810169   \n",
       "17       233         340   9.480187e+05    65.894118      7.141176   \n",
       "14       223         239   5.320898e+05    83.251046      1.539749   \n",
       "2        113         174   4.779997e+05   299.114943      1.000000   \n",
       "23       323         112   4.387151e+05    13.571429      1.723214   \n",
       "25       332         298   2.340336e+05    13.724832      4.869128   \n",
       "13       222         316   2.051307e+05    80.740506      2.170886   \n",
       "5        123          91   1.839196e+05   195.912088      1.351648   \n",
       "1        112         302   1.710824e+05   273.629139      1.000000   \n",
       "16       232         219   1.600864e+05    70.630137      4.502283   \n",
       "22       322         224   1.427893e+05    14.924107      2.294643   \n",
       "8        133          30   1.377341e+05   214.366667      7.933333   \n",
       "4        122         227   1.323575e+05   214.563877      1.814978   \n",
       "10       212         182   9.815213e+04    72.829670      1.000000   \n",
       "0        111         714   8.881773e+04   283.277311      1.000000   \n",
       "9        211         290   5.462988e+04    76.120690      1.000000   \n",
       "11       213          22   5.061078e+04    88.227273      1.000000   \n",
       "7        132          64   4.445404e+04   208.375000      4.625000   \n",
       "3        121         274   4.073294e+04   205.759124      1.503650   \n",
       "12       221         266   3.199821e+04    83.612782      1.447368   \n",
       "19       312          65   3.190610e+04    17.461538      1.000000   \n",
       "18       311         144   2.594690e+04    17.506944      1.000000   \n",
       "21       321         148   2.251922e+04    14.520270      1.662162   \n",
       "20       313           4   8.284760e+03    15.000000      1.000000   \n",
       "6        131          21   5.005480e+03   228.285714      3.904762   \n",
       "15       231          23   4.663560e+03    90.521739      3.739130   \n",
       "24       331          17   3.863630e+03     9.352941      3.941176   \n",
       "\n",
       "    avg_revenue  \n",
       "26  6244.444757  \n",
       "17  2788.290220  \n",
       "14  2226.317277  \n",
       "2   2747.124593  \n",
       "23  3917.099011  \n",
       "25   785.347646  \n",
       "13   649.147845  \n",
       "5   2021.095053  \n",
       "1    566.498046  \n",
       "16   730.988351  \n",
       "22   637.452094  \n",
       "8   4591.135654  \n",
       "4    583.072598  \n",
       "10   539.297415  \n",
       "0    124.394579  \n",
       "9    188.378895  \n",
       "11  2300.489991  \n",
       "7    694.594372  \n",
       "3    148.660365  \n",
       "12   120.294022  \n",
       "19   490.863074  \n",
       "18   180.186804  \n",
       "21   152.156891  \n",
       "20  2071.189995  \n",
       "6    238.356189  \n",
       "15   202.763479  \n",
       "24   227.272352  "
      ]
     },
     "execution_count": 26,
     "metadata": {},
     "output_type": "execute_result"
    }
   ],
   "source": [
    "sales_by_cust.groupby('RFM_group').agg(cust_count=('customerid',np.size),\n",
    "                                        total_revenue=('total_revenue',np.sum),\n",
    "                                        avg_recency=('recency',np.mean),\n",
    "                                        avg_invoices=('num_invoices',np.mean),\n",
    "                                        avg_revenue=('total_revenue',np.mean),\n",
    "                                               ).reset_index().sort_values(by='total_revenue',\n",
    "                                                                           ascending=False)"
   ]
  },
  {
   "cell_type": "code",
   "execution_count": null,
   "id": "99d9dbaf",
   "metadata": {},
   "outputs": [],
   "source": []
  },
  {
   "cell_type": "code",
   "execution_count": 27,
   "id": "99f2a96b",
   "metadata": {},
   "outputs": [],
   "source": [
    "# Join customer quintile ranking to sales_data table\n",
    "sales_data = sales_data.merge(sales_by_cust[['customerid','custsales_quntiles']], \n",
    "                              how='left', \n",
    "                              on='customerid')"
   ]
  },
  {
   "cell_type": "code",
   "execution_count": 28,
   "id": "cf94cc52",
   "metadata": {},
   "outputs": [
    {
     "data": {
      "text/html": [
       "<div>\n",
       "<style scoped>\n",
       "    .dataframe tbody tr th:only-of-type {\n",
       "        vertical-align: middle;\n",
       "    }\n",
       "\n",
       "    .dataframe tbody tr th {\n",
       "        vertical-align: top;\n",
       "    }\n",
       "\n",
       "    .dataframe thead th {\n",
       "        text-align: right;\n",
       "    }\n",
       "</style>\n",
       "<table border=\"1\" class=\"dataframe\">\n",
       "  <thead>\n",
       "    <tr style=\"text-align: right;\">\n",
       "      <th></th>\n",
       "      <th>invoiceno</th>\n",
       "      <th>stockcode_caps</th>\n",
       "      <th>quantity</th>\n",
       "      <th>unitprice</th>\n",
       "      <th>customerid</th>\n",
       "      <th>domestic</th>\n",
       "      <th>invoicedate</th>\n",
       "      <th>test</th>\n",
       "      <th>revenue</th>\n",
       "      <th>custsales_quntiles</th>\n",
       "    </tr>\n",
       "  </thead>\n",
       "  <tbody>\n",
       "    <tr>\n",
       "      <th>0</th>\n",
       "      <td>536365</td>\n",
       "      <td>85123A</td>\n",
       "      <td>6</td>\n",
       "      <td>2.55</td>\n",
       "      <td>17850</td>\n",
       "      <td>True</td>\n",
       "      <td>2010-12-01 08:26:00</td>\n",
       "      <td>False</td>\n",
       "      <td>15.300000</td>\n",
       "      <td>1</td>\n",
       "    </tr>\n",
       "    <tr>\n",
       "      <th>1</th>\n",
       "      <td>536365</td>\n",
       "      <td>71053</td>\n",
       "      <td>6</td>\n",
       "      <td>3.39</td>\n",
       "      <td>17850</td>\n",
       "      <td>True</td>\n",
       "      <td>2010-12-01 08:26:00</td>\n",
       "      <td>False</td>\n",
       "      <td>20.340001</td>\n",
       "      <td>1</td>\n",
       "    </tr>\n",
       "    <tr>\n",
       "      <th>2</th>\n",
       "      <td>536365</td>\n",
       "      <td>84406B</td>\n",
       "      <td>8</td>\n",
       "      <td>2.75</td>\n",
       "      <td>17850</td>\n",
       "      <td>True</td>\n",
       "      <td>2010-12-01 08:26:00</td>\n",
       "      <td>False</td>\n",
       "      <td>22.000000</td>\n",
       "      <td>1</td>\n",
       "    </tr>\n",
       "    <tr>\n",
       "      <th>3</th>\n",
       "      <td>536365</td>\n",
       "      <td>84029G</td>\n",
       "      <td>6</td>\n",
       "      <td>3.39</td>\n",
       "      <td>17850</td>\n",
       "      <td>True</td>\n",
       "      <td>2010-12-01 08:26:00</td>\n",
       "      <td>False</td>\n",
       "      <td>20.340001</td>\n",
       "      <td>1</td>\n",
       "    </tr>\n",
       "    <tr>\n",
       "      <th>4</th>\n",
       "      <td>536365</td>\n",
       "      <td>84029E</td>\n",
       "      <td>6</td>\n",
       "      <td>3.39</td>\n",
       "      <td>17850</td>\n",
       "      <td>True</td>\n",
       "      <td>2010-12-01 08:26:00</td>\n",
       "      <td>False</td>\n",
       "      <td>20.340001</td>\n",
       "      <td>1</td>\n",
       "    </tr>\n",
       "  </tbody>\n",
       "</table>\n",
       "</div>"
      ],
      "text/plain": [
       "  invoiceno stockcode_caps  quantity  unitprice customerid  domestic  \\\n",
       "0    536365         85123A         6       2.55      17850      True   \n",
       "1    536365          71053         6       3.39      17850      True   \n",
       "2    536365         84406B         8       2.75      17850      True   \n",
       "3    536365         84029G         6       3.39      17850      True   \n",
       "4    536365         84029E         6       3.39      17850      True   \n",
       "\n",
       "          invoicedate   test    revenue custsales_quntiles  \n",
       "0 2010-12-01 08:26:00  False  15.300000                  1  \n",
       "1 2010-12-01 08:26:00  False  20.340001                  1  \n",
       "2 2010-12-01 08:26:00  False  22.000000                  1  \n",
       "3 2010-12-01 08:26:00  False  20.340001                  1  \n",
       "4 2010-12-01 08:26:00  False  20.340001                  1  "
      ]
     },
     "execution_count": 28,
     "metadata": {},
     "output_type": "execute_result"
    }
   ],
   "source": [
    "sales_data.head()"
   ]
  },
  {
   "cell_type": "code",
   "execution_count": 29,
   "id": "040bd992",
   "metadata": {},
   "outputs": [
    {
     "data": {
      "text/html": [
       "<div>\n",
       "<style scoped>\n",
       "    .dataframe tbody tr th:only-of-type {\n",
       "        vertical-align: middle;\n",
       "    }\n",
       "\n",
       "    .dataframe tbody tr th {\n",
       "        vertical-align: top;\n",
       "    }\n",
       "\n",
       "    .dataframe thead th {\n",
       "        text-align: right;\n",
       "    }\n",
       "</style>\n",
       "<table border=\"1\" class=\"dataframe\">\n",
       "  <thead>\n",
       "    <tr style=\"text-align: right;\">\n",
       "      <th></th>\n",
       "      <th>total_revenue</th>\n",
       "      <th>total_qty</th>\n",
       "      <th>num_invoices</th>\n",
       "      <th>unique_products</th>\n",
       "      <th>cust_count</th>\n",
       "    </tr>\n",
       "    <tr>\n",
       "      <th>custsales_quntiles</th>\n",
       "      <th></th>\n",
       "      <th></th>\n",
       "      <th></th>\n",
       "      <th></th>\n",
       "      <th></th>\n",
       "    </tr>\n",
       "  </thead>\n",
       "  <tbody>\n",
       "    <tr>\n",
       "      <th>5</th>\n",
       "      <td>8.473964e+04</td>\n",
       "      <td>52106</td>\n",
       "      <td>1284</td>\n",
       "      <td>2498</td>\n",
       "      <td>1139</td>\n",
       "    </tr>\n",
       "    <tr>\n",
       "      <th>4</th>\n",
       "      <td>3.334245e+05</td>\n",
       "      <td>197824</td>\n",
       "      <td>1781</td>\n",
       "      <td>3018</td>\n",
       "      <td>1138</td>\n",
       "    </tr>\n",
       "    <tr>\n",
       "      <th>3</th>\n",
       "      <td>6.981368e+05</td>\n",
       "      <td>401691</td>\n",
       "      <td>2898</td>\n",
       "      <td>3208</td>\n",
       "      <td>1138</td>\n",
       "    </tr>\n",
       "    <tr>\n",
       "      <th>2</th>\n",
       "      <td>1.504868e+06</td>\n",
       "      <td>810252</td>\n",
       "      <td>4471</td>\n",
       "      <td>3503</td>\n",
       "      <td>1138</td>\n",
       "    </tr>\n",
       "    <tr>\n",
       "      <th>1</th>\n",
       "      <td>7.180707e+06</td>\n",
       "      <td>3847548</td>\n",
       "      <td>12658</td>\n",
       "      <td>3698</td>\n",
       "      <td>1138</td>\n",
       "    </tr>\n",
       "  </tbody>\n",
       "</table>\n",
       "</div>"
      ],
      "text/plain": [
       "                    total_revenue  total_qty  num_invoices  unique_products  \\\n",
       "custsales_quntiles                                                            \n",
       "5                    8.473964e+04      52106          1284             2498   \n",
       "4                    3.334245e+05     197824          1781             3018   \n",
       "3                    6.981368e+05     401691          2898             3208   \n",
       "2                    1.504868e+06     810252          4471             3503   \n",
       "1                    7.180707e+06    3847548         12658             3698   \n",
       "\n",
       "                    cust_count  \n",
       "custsales_quntiles              \n",
       "5                         1139  \n",
       "4                         1138  \n",
       "3                         1138  \n",
       "2                         1138  \n",
       "1                         1138  "
      ]
     },
     "execution_count": 29,
     "metadata": {},
     "output_type": "execute_result"
    }
   ],
   "source": [
    "sales_data.groupby('custsales_quntiles').agg(total_revenue=('revenue',np.sum),\n",
    "                                                total_qty=('quantity',np.sum),\n",
    "                                                num_invoices=('invoiceno',lambda x: x.nunique()),\n",
    "                                                 unique_products=('stockcode_caps',lambda x: x.nunique()),\n",
    "                                                cust_count=('customerid',lambda x: x.nunique())\n",
    "                                               )"
   ]
  },
  {
   "cell_type": "code",
   "execution_count": 30,
   "id": "cfd377b7",
   "metadata": {},
   "outputs": [
    {
     "data": {
      "text/plain": [
       "9793394.643943742"
      ]
     },
     "execution_count": 30,
     "metadata": {},
     "output_type": "execute_result"
    }
   ],
   "source": [
    "sales_data['revenue'].sum()"
   ]
  },
  {
   "cell_type": "code",
   "execution_count": 32,
   "id": "3d5fd57a",
   "metadata": {},
   "outputs": [
    {
     "data": {
      "text/plain": [
       "<AxesSubplot:xlabel='num_invoices', ylabel='unique_products'>"
      ]
     },
     "execution_count": 32,
     "metadata": {},
     "output_type": "execute_result"
    },
    {
     "data": {
      "image/png": "[encoded data removed]",
      "text/plain": [
       "<Figure size 720x720 with 1 Axes>"
      ]
     },
     "metadata": {},
     "output_type": "display_data"
    }
   ],
   "source": [
    "fig,ax = plt.subplots(figsize=(10,10))\n",
    "sns.scatterplot(data=sales_by_cust[sales_by_cust['total_revenue']>0], \n",
    "                x='num_invoices', \n",
    "                y='unique_products', \n",
    "                size='total_revenue', \n",
    "                hue='custsales_quntiles')"
   ]
  },
  {
   "cell_type": "code",
   "execution_count": 33,
   "id": "3ddd0e3e",
   "metadata": {},
   "outputs": [
    {
     "data": {
      "text/html": [
       "<div>\n",
       "<style scoped>\n",
       "    .dataframe tbody tr th:only-of-type {\n",
       "        vertical-align: middle;\n",
       "    }\n",
       "\n",
       "    .dataframe tbody tr th {\n",
       "        vertical-align: top;\n",
       "    }\n",
       "\n",
       "    .dataframe thead th {\n",
       "        text-align: right;\n",
       "    }\n",
       "</style>\n",
       "<table border=\"1\" class=\"dataframe\">\n",
       "  <thead>\n",
       "    <tr style=\"text-align: right;\">\n",
       "      <th></th>\n",
       "      <th>customerid</th>\n",
       "      <th>total_revenue</th>\n",
       "      <th>total_qty</th>\n",
       "      <th>num_invoices</th>\n",
       "      <th>unique_products</th>\n",
       "      <th>recency</th>\n",
       "      <th>custsales_quntiles</th>\n",
       "      <th>recency_score</th>\n",
       "      <th>frequency_score</th>\n",
       "      <th>monetary_score</th>\n",
       "      <th>RFM_group</th>\n",
       "    </tr>\n",
       "  </thead>\n",
       "  <tbody>\n",
       "    <tr>\n",
       "      <th>1</th>\n",
       "      <td>12347</td>\n",
       "      <td>4309.999988</td>\n",
       "      <td>2458</td>\n",
       "      <td>7</td>\n",
       "      <td>103</td>\n",
       "      <td>1</td>\n",
       "      <td>1</td>\n",
       "      <td>3</td>\n",
       "      <td>3</td>\n",
       "      <td>3</td>\n",
       "      <td>333</td>\n",
       "    </tr>\n",
       "    <tr>\n",
       "      <th>2</th>\n",
       "      <td>12348</td>\n",
       "      <td>1437.239997</td>\n",
       "      <td>2332</td>\n",
       "      <td>4</td>\n",
       "      <td>21</td>\n",
       "      <td>74</td>\n",
       "      <td>2</td>\n",
       "      <td>2</td>\n",
       "      <td>3</td>\n",
       "      <td>3</td>\n",
       "      <td>233</td>\n",
       "    </tr>\n",
       "    <tr>\n",
       "      <th>3</th>\n",
       "      <td>12349</td>\n",
       "      <td>1457.549994</td>\n",
       "      <td>630</td>\n",
       "      <td>1</td>\n",
       "      <td>72</td>\n",
       "      <td>18</td>\n",
       "      <td>2</td>\n",
       "      <td>3</td>\n",
       "      <td>1</td>\n",
       "      <td>3</td>\n",
       "      <td>313</td>\n",
       "    </tr>\n",
       "    <tr>\n",
       "      <th>4</th>\n",
       "      <td>12350</td>\n",
       "      <td>294.399997</td>\n",
       "      <td>196</td>\n",
       "      <td>1</td>\n",
       "      <td>16</td>\n",
       "      <td>309</td>\n",
       "      <td>4</td>\n",
       "      <td>1</td>\n",
       "      <td>1</td>\n",
       "      <td>1</td>\n",
       "      <td>111</td>\n",
       "    </tr>\n",
       "    <tr>\n",
       "      <th>5</th>\n",
       "      <td>12352</td>\n",
       "      <td>1265.409991</td>\n",
       "      <td>463</td>\n",
       "      <td>8</td>\n",
       "      <td>57</td>\n",
       "      <td>35</td>\n",
       "      <td>2</td>\n",
       "      <td>2</td>\n",
       "      <td>3</td>\n",
       "      <td>3</td>\n",
       "      <td>233</td>\n",
       "    </tr>\n",
       "  </tbody>\n",
       "</table>\n",
       "</div>"
      ],
      "text/plain": [
       "  customerid  total_revenue  total_qty  num_invoices  unique_products  \\\n",
       "1      12347    4309.999988       2458             7              103   \n",
       "2      12348    1437.239997       2332             4               21   \n",
       "3      12349    1457.549994        630             1               72   \n",
       "4      12350     294.399997        196             1               16   \n",
       "5      12352    1265.409991        463             8               57   \n",
       "\n",
       "   recency custsales_quntiles recency_score frequency_score monetary_score  \\\n",
       "1        1                  1             3               3              3   \n",
       "2       74                  2             2               3              3   \n",
       "3       18                  2             3               1              3   \n",
       "4      309                  4             1               1              1   \n",
       "5       35                  2             2               3              3   \n",
       "\n",
       "  RFM_group  \n",
       "1       333  \n",
       "2       233  \n",
       "3       313  \n",
       "4       111  \n",
       "5       233  "
      ]
     },
     "execution_count": 33,
     "metadata": {},
     "output_type": "execute_result"
    }
   ],
   "source": [
    "sales_by_cust.head()"
   ]
  },
  {
   "cell_type": "code",
   "execution_count": 34,
   "id": "124fbd7f",
   "metadata": {},
   "outputs": [
    {
     "name": "stderr",
     "output_type": "stream",
     "text": [
      "C:\\Users\\deang\\AppData\\Local\\Temp\\ipykernel_19728\\2866679969.py:1: FutureWarning: Dropping of nuisance columns in DataFrame reductions (with 'numeric_only=None') is deprecated; in a future version this will raise TypeError.  Select only valid columns before calling the reduction.\n",
      "  sales_by_cust.sum()\n"
     ]
    },
    {
     "data": {
      "text/plain": [
       "customerid         1234712348123491235012352123531235412355123561...\n",
       "total_revenue                                         9801875.883915\n",
       "total_qty                                                    5309421\n",
       "num_invoices                                                   23092\n",
       "unique_products                                               397555\n",
       "recency                                                       653777\n",
       "RFM_group          3332333131112331111121123232133223332231113332...\n",
       "dtype: object"
      ]
     },
     "execution_count": 34,
     "metadata": {},
     "output_type": "execute_result"
    }
   ],
   "source": [
    "sales_by_cust.sum()"
   ]
  },
  {
   "cell_type": "code",
   "execution_count": 35,
   "id": "6e2d7ee2",
   "metadata": {},
   "outputs": [
    {
     "data": {
      "text/plain": [
       "[Text(0.5, 1.0, 'Distribution of sales by customers'),\n",
       " Text(0.5, 0, 'Index of Customers'),\n",
       " Text(0, 0.5, 'total_sales')]"
      ]
     },
     "execution_count": 35,
     "metadata": {},
     "output_type": "execute_result"
    },
    {
     "data": {
      "image/png": "[encoded data removed]",
      "text/plain": [
       "<Figure size 432x288 with 1 Axes>"
      ]
     },
     "metadata": {},
     "output_type": "display_data"
    }
   ],
   "source": [
    "sns.lineplot(data=sales_by_cust[['total_revenue']].\n",
    "             sort_values('total_revenue',\n",
    "                         ascending=False,\n",
    "                         ignore_index=True),\n",
    "             ).set(title='Distribution of sales by customers', \n",
    "                   xlabel='Index of Customers', \n",
    "                   ylabel='total_sales')"
   ]
  },
  {
   "cell_type": "code",
   "execution_count": 36,
   "id": "d2ecfbaa",
   "metadata": {},
   "outputs": [
    {
     "data": {
      "text/plain": [
       "[Text(0.5, 1.0, 'Distribution of purchases by customers'),\n",
       " Text(0.5, 0, 'Index of Customers'),\n",
       " Text(0, 0.5, 'Number of invoices')]"
      ]
     },
     "execution_count": 36,
     "metadata": {},
     "output_type": "execute_result"
    },
    {
     "data": {
      "image/png": "[encoded data removed]",
      "text/plain": [
       "<Figure size 432x288 with 1 Axes>"
      ]
     },
     "metadata": {},
     "output_type": "display_data"
    }
   ],
   "source": [
    "sns.lineplot(data=sales_by_cust[['num_invoices']].\n",
    "             sort_values('num_invoices',\n",
    "                         ascending=False,\n",
    "                         ignore_index=True),\n",
    "             ).set(title='Distribution of purchases by customers', \n",
    "                   xlabel='Index of Customers', \n",
    "                   ylabel='Number of invoices')"
   ]
  },
  {
   "cell_type": "markdown",
   "id": "8e087c18",
   "metadata": {},
   "source": [
    "Sales per product"
   ]
  },
  {
   "cell_type": "code",
   "execution_count": 37,
   "id": "3dc3b1f7",
   "metadata": {},
   "outputs": [],
   "source": [
    "sales_by_product = sales_data.groupby('stockcode_caps').agg(total_revenue=('revenue',np.sum),\n",
    "                                                total_qty=('quantity',np.sum),\n",
    "                                                num_invoices=('invoiceno',lambda x: x.nunique()),\n",
    "                                                 unique_customers=('customerid',lambda x: x.nunique())\n",
    "                                               ).reset_index()"
   ]
  },
  {
   "cell_type": "code",
   "execution_count": 38,
   "id": "b8b71266",
   "metadata": {},
   "outputs": [],
   "source": [
    "sales_by_product['avg_product_purchase'] = sales_by_product['total_revenue'] / sales_by_product['num_invoices']"
   ]
  },
  {
   "cell_type": "code",
   "execution_count": 39,
   "id": "7f0ca56a",
   "metadata": {},
   "outputs": [
    {
     "data": {
      "text/html": [
       "<div>\n",
       "<style scoped>\n",
       "    .dataframe tbody tr th:only-of-type {\n",
       "        vertical-align: middle;\n",
       "    }\n",
       "\n",
       "    .dataframe tbody tr th {\n",
       "        vertical-align: top;\n",
       "    }\n",
       "\n",
       "    .dataframe thead th {\n",
       "        text-align: right;\n",
       "    }\n",
       "</style>\n",
       "<table border=\"1\" class=\"dataframe\">\n",
       "  <thead>\n",
       "    <tr style=\"text-align: right;\">\n",
       "      <th></th>\n",
       "      <th>stockcode_caps</th>\n",
       "      <th>total_revenue</th>\n",
       "      <th>total_qty</th>\n",
       "      <th>num_invoices</th>\n",
       "      <th>unique_customers</th>\n",
       "      <th>avg_product_purchase</th>\n",
       "    </tr>\n",
       "  </thead>\n",
       "  <tbody>\n",
       "    <tr>\n",
       "      <th>157</th>\n",
       "      <td>20703</td>\n",
       "      <td>-25.500000</td>\n",
       "      <td>-6</td>\n",
       "      <td>4</td>\n",
       "      <td>3</td>\n",
       "      <td>-6.375000</td>\n",
       "    </tr>\n",
       "    <tr>\n",
       "      <th>275</th>\n",
       "      <td>20957</td>\n",
       "      <td>-1.450000</td>\n",
       "      <td>-1</td>\n",
       "      <td>1</td>\n",
       "      <td>1</td>\n",
       "      <td>-1.450000</td>\n",
       "    </tr>\n",
       "    <tr>\n",
       "      <th>567</th>\n",
       "      <td>21412</td>\n",
       "      <td>-2.520000</td>\n",
       "      <td>-6</td>\n",
       "      <td>1</td>\n",
       "      <td>1</td>\n",
       "      <td>-2.520000</td>\n",
       "    </tr>\n",
       "    <tr>\n",
       "      <th>704</th>\n",
       "      <td>21645</td>\n",
       "      <td>-39.599999</td>\n",
       "      <td>-24</td>\n",
       "      <td>1</td>\n",
       "      <td>1</td>\n",
       "      <td>-39.599999</td>\n",
       "    </tr>\n",
       "    <tr>\n",
       "      <th>956</th>\n",
       "      <td>22034</td>\n",
       "      <td>-0.020000</td>\n",
       "      <td>-2</td>\n",
       "      <td>5</td>\n",
       "      <td>5</td>\n",
       "      <td>-0.004000</td>\n",
       "    </tr>\n",
       "    <tr>\n",
       "      <th>2475</th>\n",
       "      <td>35400</td>\n",
       "      <td>-45.699999</td>\n",
       "      <td>-6</td>\n",
       "      <td>13</td>\n",
       "      <td>13</td>\n",
       "      <td>-3.515385</td>\n",
       "    </tr>\n",
       "    <tr>\n",
       "      <th>2517</th>\n",
       "      <td>35832</td>\n",
       "      <td>-2.950000</td>\n",
       "      <td>-1</td>\n",
       "      <td>1</td>\n",
       "      <td>1</td>\n",
       "      <td>-2.950000</td>\n",
       "    </tr>\n",
       "    <tr>\n",
       "      <th>2597</th>\n",
       "      <td>37503</td>\n",
       "      <td>-10.750000</td>\n",
       "      <td>-1</td>\n",
       "      <td>1</td>\n",
       "      <td>1</td>\n",
       "      <td>-10.750000</td>\n",
       "    </tr>\n",
       "    <tr>\n",
       "      <th>2820</th>\n",
       "      <td>79320</td>\n",
       "      <td>-4.950000</td>\n",
       "      <td>-1</td>\n",
       "      <td>1</td>\n",
       "      <td>1</td>\n",
       "      <td>-4.950000</td>\n",
       "    </tr>\n",
       "    <tr>\n",
       "      <th>2823</th>\n",
       "      <td>79323P</td>\n",
       "      <td>-27.000000</td>\n",
       "      <td>-4</td>\n",
       "      <td>3</td>\n",
       "      <td>1</td>\n",
       "      <td>-9.000000</td>\n",
       "    </tr>\n",
       "    <tr>\n",
       "      <th>2824</th>\n",
       "      <td>79323W</td>\n",
       "      <td>-54.000000</td>\n",
       "      <td>-8</td>\n",
       "      <td>1</td>\n",
       "      <td>1</td>\n",
       "      <td>-54.000000</td>\n",
       "    </tr>\n",
       "    <tr>\n",
       "      <th>3058</th>\n",
       "      <td>84750A</td>\n",
       "      <td>-5.850000</td>\n",
       "      <td>-3</td>\n",
       "      <td>3</td>\n",
       "      <td>2</td>\n",
       "      <td>-1.950000</td>\n",
       "    </tr>\n",
       "    <tr>\n",
       "      <th>3107</th>\n",
       "      <td>84839</td>\n",
       "      <td>-5.550000</td>\n",
       "      <td>-1</td>\n",
       "      <td>1</td>\n",
       "      <td>1</td>\n",
       "      <td>-5.550000</td>\n",
       "    </tr>\n",
       "    <tr>\n",
       "      <th>3235</th>\n",
       "      <td>85023C</td>\n",
       "      <td>-2.550000</td>\n",
       "      <td>-1</td>\n",
       "      <td>1</td>\n",
       "      <td>1</td>\n",
       "      <td>-2.550000</td>\n",
       "    </tr>\n",
       "    <tr>\n",
       "      <th>3267</th>\n",
       "      <td>85042</td>\n",
       "      <td>-14.849999</td>\n",
       "      <td>-3</td>\n",
       "      <td>2</td>\n",
       "      <td>2</td>\n",
       "      <td>-7.425000</td>\n",
       "    </tr>\n",
       "    <tr>\n",
       "      <th>3285</th>\n",
       "      <td>85063</td>\n",
       "      <td>-46.850000</td>\n",
       "      <td>-3</td>\n",
       "      <td>2</td>\n",
       "      <td>2</td>\n",
       "      <td>-23.425000</td>\n",
       "    </tr>\n",
       "    <tr>\n",
       "      <th>3287</th>\n",
       "      <td>85065</td>\n",
       "      <td>-12.750000</td>\n",
       "      <td>-1</td>\n",
       "      <td>1</td>\n",
       "      <td>1</td>\n",
       "      <td>-12.750000</td>\n",
       "    </tr>\n",
       "    <tr>\n",
       "      <th>3290</th>\n",
       "      <td>85068</td>\n",
       "      <td>-7.950000</td>\n",
       "      <td>-1</td>\n",
       "      <td>1</td>\n",
       "      <td>1</td>\n",
       "      <td>-7.950000</td>\n",
       "    </tr>\n",
       "    <tr>\n",
       "      <th>3306</th>\n",
       "      <td>85098B</td>\n",
       "      <td>-3.750000</td>\n",
       "      <td>-1</td>\n",
       "      <td>1</td>\n",
       "      <td>1</td>\n",
       "      <td>-3.750000</td>\n",
       "    </tr>\n",
       "  </tbody>\n",
       "</table>\n",
       "</div>"
      ],
      "text/plain": [
       "     stockcode_caps  total_revenue  total_qty  num_invoices  unique_customers  \\\n",
       "157           20703     -25.500000         -6             4                 3   \n",
       "275           20957      -1.450000         -1             1                 1   \n",
       "567           21412      -2.520000         -6             1                 1   \n",
       "704           21645     -39.599999        -24             1                 1   \n",
       "956           22034      -0.020000         -2             5                 5   \n",
       "2475          35400     -45.699999         -6            13                13   \n",
       "2517          35832      -2.950000         -1             1                 1   \n",
       "2597          37503     -10.750000         -1             1                 1   \n",
       "2820          79320      -4.950000         -1             1                 1   \n",
       "2823         79323P     -27.000000         -4             3                 1   \n",
       "2824         79323W     -54.000000         -8             1                 1   \n",
       "3058         84750A      -5.850000         -3             3                 2   \n",
       "3107          84839      -5.550000         -1             1                 1   \n",
       "3235         85023C      -2.550000         -1             1                 1   \n",
       "3267          85042     -14.849999         -3             2                 2   \n",
       "3285          85063     -46.850000         -3             2                 2   \n",
       "3287          85065     -12.750000         -1             1                 1   \n",
       "3290          85068      -7.950000         -1             1                 1   \n",
       "3306         85098B      -3.750000         -1             1                 1   \n",
       "\n",
       "      avg_product_purchase  \n",
       "157              -6.375000  \n",
       "275              -1.450000  \n",
       "567              -2.520000  \n",
       "704             -39.599999  \n",
       "956              -0.004000  \n",
       "2475             -3.515385  \n",
       "2517             -2.950000  \n",
       "2597            -10.750000  \n",
       "2820             -4.950000  \n",
       "2823             -9.000000  \n",
       "2824            -54.000000  \n",
       "3058             -1.950000  \n",
       "3107             -5.550000  \n",
       "3235             -2.550000  \n",
       "3267             -7.425000  \n",
       "3285            -23.425000  \n",
       "3287            -12.750000  \n",
       "3290             -7.950000  \n",
       "3306             -3.750000  "
      ]
     },
     "execution_count": 39,
     "metadata": {},
     "output_type": "execute_result"
    }
   ],
   "source": [
    "sales_by_product[sales_by_product['total_revenue']<0]"
   ]
  },
  {
   "cell_type": "code",
   "execution_count": 40,
   "id": "21c235f6",
   "metadata": {},
   "outputs": [],
   "source": [
    "sales_by_product = sales_by_product[sales_by_product['total_revenue']>0]"
   ]
  },
  {
   "cell_type": "code",
   "execution_count": 41,
   "id": "9f4ba228",
   "metadata": {},
   "outputs": [],
   "source": [
    "sales_by_product['prodsales_quntiles'] = pd.qcut(sales_by_product.total_revenue, 5, labels = [5,4,3,2,1])"
   ]
  },
  {
   "cell_type": "code",
   "execution_count": 42,
   "id": "490b0da8",
   "metadata": {},
   "outputs": [
    {
     "data": {
      "text/html": [
       "<div>\n",
       "<style scoped>\n",
       "    .dataframe tbody tr th:only-of-type {\n",
       "        vertical-align: middle;\n",
       "    }\n",
       "\n",
       "    .dataframe tbody tr th {\n",
       "        vertical-align: top;\n",
       "    }\n",
       "\n",
       "    .dataframe thead th {\n",
       "        text-align: right;\n",
       "    }\n",
       "</style>\n",
       "<table border=\"1\" class=\"dataframe\">\n",
       "  <thead>\n",
       "    <tr style=\"text-align: right;\">\n",
       "      <th></th>\n",
       "      <th>total_revenue</th>\n",
       "      <th>total_qty</th>\n",
       "      <th>num_invoices</th>\n",
       "    </tr>\n",
       "    <tr>\n",
       "      <th>Products by Total Sales Quintile</th>\n",
       "      <th></th>\n",
       "      <th></th>\n",
       "      <th></th>\n",
       "    </tr>\n",
       "  </thead>\n",
       "  <tbody>\n",
       "    <tr>\n",
       "      <th>5</th>\n",
       "      <td>0.002536</td>\n",
       "      <td>0.004019</td>\n",
       "      <td>0.010481</td>\n",
       "    </tr>\n",
       "    <tr>\n",
       "      <th>4</th>\n",
       "      <td>0.017819</td>\n",
       "      <td>0.037442</td>\n",
       "      <td>0.047623</td>\n",
       "    </tr>\n",
       "    <tr>\n",
       "      <th>3</th>\n",
       "      <td>0.056420</td>\n",
       "      <td>0.098839</td>\n",
       "      <td>0.118582</td>\n",
       "    </tr>\n",
       "    <tr>\n",
       "      <th>2</th>\n",
       "      <td>0.144793</td>\n",
       "      <td>0.214646</td>\n",
       "      <td>0.226208</td>\n",
       "    </tr>\n",
       "    <tr>\n",
       "      <th>1</th>\n",
       "      <td>0.778432</td>\n",
       "      <td>0.645054</td>\n",
       "      <td>0.597105</td>\n",
       "    </tr>\n",
       "  </tbody>\n",
       "</table>\n",
       "</div>"
      ],
      "text/plain": [
       "                                  total_revenue  total_qty  num_invoices\n",
       "Products by Total Sales Quintile                                        \n",
       "5                                      0.002536   0.004019      0.010481\n",
       "4                                      0.017819   0.037442      0.047623\n",
       "3                                      0.056420   0.098839      0.118582\n",
       "2                                      0.144793   0.214646      0.226208\n",
       "1                                      0.778432   0.645054      0.597105"
      ]
     },
     "execution_count": 42,
     "metadata": {},
     "output_type": "execute_result"
    }
   ],
   "source": [
    "sales_by_product.groupby(pd.qcut(sales_by_product['total_revenue'], 5, labels = [5,4,3,2,1])) \\\n",
    "                [['total_revenue','total_qty','num_invoices']].sum().transform(lambda x: x / x.sum()) \\\n",
    "                .rename_axis('Products by Total Sales Quintile')"
   ]
  },
  {
   "cell_type": "code",
   "execution_count": 43,
   "id": "b8a4040c",
   "metadata": {},
   "outputs": [],
   "source": [
    "# Join product quintile ranking to sales_data table\n",
    "sales_data = sales_data.merge(sales_by_product[['stockcode_caps','prodsales_quntiles']], \n",
    "                              how='left', \n",
    "                              on='stockcode_caps')"
   ]
  },
  {
   "cell_type": "code",
   "execution_count": 44,
   "id": "f7cb55f7",
   "metadata": {},
   "outputs": [
    {
     "data": {
      "text/html": [
       "<div>\n",
       "<style scoped>\n",
       "    .dataframe tbody tr th:only-of-type {\n",
       "        vertical-align: middle;\n",
       "    }\n",
       "\n",
       "    .dataframe tbody tr th {\n",
       "        vertical-align: top;\n",
       "    }\n",
       "\n",
       "    .dataframe thead th {\n",
       "        text-align: right;\n",
       "    }\n",
       "</style>\n",
       "<table border=\"1\" class=\"dataframe\">\n",
       "  <thead>\n",
       "    <tr style=\"text-align: right;\">\n",
       "      <th></th>\n",
       "      <th>total_revenue</th>\n",
       "      <th>total_qty</th>\n",
       "      <th>num_invoices</th>\n",
       "      <th>unique_products</th>\n",
       "      <th>cust_count</th>\n",
       "    </tr>\n",
       "    <tr>\n",
       "      <th>prodsales_quntiles</th>\n",
       "      <th></th>\n",
       "      <th></th>\n",
       "      <th></th>\n",
       "      <th></th>\n",
       "      <th></th>\n",
       "    </tr>\n",
       "  </thead>\n",
       "  <tbody>\n",
       "    <tr>\n",
       "      <th>5</th>\n",
       "      <td>2.483695e+04</td>\n",
       "      <td>21321</td>\n",
       "      <td>2167</td>\n",
       "      <td>759</td>\n",
       "      <td>1417</td>\n",
       "    </tr>\n",
       "    <tr>\n",
       "      <th>4</th>\n",
       "      <td>1.745134e+05</td>\n",
       "      <td>198637</td>\n",
       "      <td>6587</td>\n",
       "      <td>759</td>\n",
       "      <td>3164</td>\n",
       "    </tr>\n",
       "    <tr>\n",
       "      <th>3</th>\n",
       "      <td>5.525630e+05</td>\n",
       "      <td>524356</td>\n",
       "      <td>11714</td>\n",
       "      <td>758</td>\n",
       "      <td>4380</td>\n",
       "    </tr>\n",
       "    <tr>\n",
       "      <th>2</th>\n",
       "      <td>1.418059e+06</td>\n",
       "      <td>1138735</td>\n",
       "      <td>16327</td>\n",
       "      <td>759</td>\n",
       "      <td>5106</td>\n",
       "    </tr>\n",
       "    <tr>\n",
       "      <th>1</th>\n",
       "      <td>7.623737e+06</td>\n",
       "      <td>3422128</td>\n",
       "      <td>21772</td>\n",
       "      <td>759</td>\n",
       "      <td>5556</td>\n",
       "    </tr>\n",
       "  </tbody>\n",
       "</table>\n",
       "</div>"
      ],
      "text/plain": [
       "                    total_revenue  total_qty  num_invoices  unique_products  \\\n",
       "prodsales_quntiles                                                            \n",
       "5                    2.483695e+04      21321          2167              759   \n",
       "4                    1.745134e+05     198637          6587              759   \n",
       "3                    5.525630e+05     524356         11714              758   \n",
       "2                    1.418059e+06    1138735         16327              759   \n",
       "1                    7.623737e+06    3422128         21772              759   \n",
       "\n",
       "                    cust_count  \n",
       "prodsales_quntiles              \n",
       "5                         1417  \n",
       "4                         3164  \n",
       "3                         4380  \n",
       "2                         5106  \n",
       "1                         5556  "
      ]
     },
     "execution_count": 44,
     "metadata": {},
     "output_type": "execute_result"
    }
   ],
   "source": [
    "sales_data.groupby('prodsales_quntiles').agg(total_revenue=('revenue',np.sum),\n",
    "                                                total_qty=('quantity',np.sum),\n",
    "                                                num_invoices=('invoiceno',lambda x: x.nunique()),\n",
    "                                                 unique_products=('stockcode_caps',lambda x: x.nunique()),\n",
    "                                                cust_count=('customerid',lambda x: x.nunique())\n",
    "                                               )"
   ]
  },
  {
   "cell_type": "code",
   "execution_count": null,
   "id": "9fb56d35",
   "metadata": {},
   "outputs": [],
   "source": []
  },
  {
   "cell_type": "code",
   "execution_count": 45,
   "id": "690d3d10",
   "metadata": {},
   "outputs": [
    {
     "data": {
      "text/plain": [
       "<AxesSubplot:xlabel='unique_customers', ylabel='avg_product_purchase'>"
      ]
     },
     "execution_count": 45,
     "metadata": {},
     "output_type": "execute_result"
    },
    {
     "data": {
      "image/png": "[encoded data removed]",
      "text/plain": [
       "<Figure size 720x720 with 1 Axes>"
      ]
     },
     "metadata": {},
     "output_type": "display_data"
    }
   ],
   "source": [
    "fig,ax = plt.subplots(figsize=(10,10))\n",
    "sns.scatterplot(data=sales_by_product, \n",
    "                x='unique_customers', \n",
    "                y='avg_product_purchase', \n",
    "                size='total_revenue', \n",
    "                hue='prodsales_quntiles')"
   ]
  },
  {
   "cell_type": "code",
   "execution_count": 46,
   "id": "0bdbfa1e",
   "metadata": {},
   "outputs": [
    {
     "data": {
      "text/plain": [
       "<seaborn.axisgrid.PairGrid at 0x1f72b7ac3d0>"
      ]
     },
     "execution_count": 46,
     "metadata": {},
     "output_type": "execute_result"
    },
    {
     "data": {
      "image/png": "[encoded data removed]",
      "text/plain": [
       "<Figure size 900x900 with 30 Axes>"
      ]
     },
     "metadata": {},
     "output_type": "display_data"
    }
   ],
   "source": [
    "sns.pairplot(data=sales_by_product)"
   ]
  },
  {
   "cell_type": "code",
   "execution_count": 47,
   "id": "82c56caf",
   "metadata": {},
   "outputs": [
    {
     "data": {
      "text/plain": [
       "<seaborn.axisgrid.PairGrid at 0x1f737ab4100>"
      ]
     },
     "execution_count": 47,
     "metadata": {},
     "output_type": "execute_result"
    },
    {
     "data": {
      "image/png": "[encoded data removed]",
      "text/plain": [
       "<Figure size 900x900 with 30 Axes>"
      ]
     },
     "metadata": {},
     "output_type": "display_data"
    }
   ],
   "source": [
    "sns.pairplot(data=sales_by_product[sales_by_product['prodsales_quntiles']==1])"
   ]
  },
  {
   "cell_type": "code",
   "execution_count": 48,
   "id": "3aeb2d0a",
   "metadata": {},
   "outputs": [
    {
     "data": {
      "text/html": [
       "<div>\n",
       "<style scoped>\n",
       "    .dataframe tbody tr th:only-of-type {\n",
       "        vertical-align: middle;\n",
       "    }\n",
       "\n",
       "    .dataframe tbody tr th {\n",
       "        vertical-align: top;\n",
       "    }\n",
       "\n",
       "    .dataframe thead th {\n",
       "        text-align: right;\n",
       "    }\n",
       "</style>\n",
       "<table border=\"1\" class=\"dataframe\">\n",
       "  <thead>\n",
       "    <tr style=\"text-align: right;\">\n",
       "      <th></th>\n",
       "      <th>unique_customers</th>\n",
       "    </tr>\n",
       "  </thead>\n",
       "  <tbody>\n",
       "    <tr>\n",
       "      <th>0</th>\n",
       "      <td>1172</td>\n",
       "    </tr>\n",
       "    <tr>\n",
       "      <th>1</th>\n",
       "      <td>1145</td>\n",
       "    </tr>\n",
       "    <tr>\n",
       "      <th>2</th>\n",
       "      <td>1125</td>\n",
       "    </tr>\n",
       "    <tr>\n",
       "      <th>3</th>\n",
       "      <td>1015</td>\n",
       "    </tr>\n",
       "    <tr>\n",
       "      <th>4</th>\n",
       "      <td>929</td>\n",
       "    </tr>\n",
       "    <tr>\n",
       "      <th>...</th>\n",
       "      <td>...</td>\n",
       "    </tr>\n",
       "    <tr>\n",
       "      <th>3789</th>\n",
       "      <td>1</td>\n",
       "    </tr>\n",
       "    <tr>\n",
       "      <th>3790</th>\n",
       "      <td>1</td>\n",
       "    </tr>\n",
       "    <tr>\n",
       "      <th>3791</th>\n",
       "      <td>1</td>\n",
       "    </tr>\n",
       "    <tr>\n",
       "      <th>3792</th>\n",
       "      <td>1</td>\n",
       "    </tr>\n",
       "    <tr>\n",
       "      <th>3793</th>\n",
       "      <td>1</td>\n",
       "    </tr>\n",
       "  </tbody>\n",
       "</table>\n",
       "<p>3794 rows × 1 columns</p>\n",
       "</div>"
      ],
      "text/plain": [
       "      unique_customers\n",
       "0                 1172\n",
       "1                 1145\n",
       "2                 1125\n",
       "3                 1015\n",
       "4                  929\n",
       "...                ...\n",
       "3789                 1\n",
       "3790                 1\n",
       "3791                 1\n",
       "3792                 1\n",
       "3793                 1\n",
       "\n",
       "[3794 rows x 1 columns]"
      ]
     },
     "execution_count": 48,
     "metadata": {},
     "output_type": "execute_result"
    }
   ],
   "source": [
    "sales_by_product[['unique_customers']]. \\\n",
    "             sort_values('unique_customers',ascending=False,ignore_index=True)"
   ]
  },
  {
   "cell_type": "code",
   "execution_count": 49,
   "id": "4c40bde1",
   "metadata": {},
   "outputs": [
    {
     "data": {
      "text/plain": [
       "[Text(0.5, 1.0, 'Distribution of number of customers by product'),\n",
       " Text(0.5, 0, 'Index of Products'),\n",
       " Text(0, 0.5, 'Unique Customers')]"
      ]
     },
     "execution_count": 49,
     "metadata": {},
     "output_type": "execute_result"
    },
    {
     "data": {
      "image/png": "[encoded data removed]",
      "text/plain": [
       "<Figure size 432x288 with 1 Axes>"
      ]
     },
     "metadata": {},
     "output_type": "display_data"
    }
   ],
   "source": [
    "sns.lineplot(data=sales_by_product[['unique_customers']].\n",
    "             sort_values('unique_customers',\n",
    "                         ascending=False,\n",
    "                         ignore_index=True),\n",
    "             ).set(title='Distribution of number of customers by product', \n",
    "                   xlabel='Index of Products', \n",
    "                   ylabel='Unique Customers')"
   ]
  },
  {
   "cell_type": "code",
   "execution_count": null,
   "id": "59af6ac5",
   "metadata": {},
   "outputs": [],
   "source": []
  },
  {
   "cell_type": "code",
   "execution_count": 50,
   "id": "6e524969",
   "metadata": {},
   "outputs": [
    {
     "data": {
      "text/html": [
       "<div>\n",
       "<style scoped>\n",
       "    .dataframe tbody tr th:only-of-type {\n",
       "        vertical-align: middle;\n",
       "    }\n",
       "\n",
       "    .dataframe tbody tr th {\n",
       "        vertical-align: top;\n",
       "    }\n",
       "\n",
       "    .dataframe thead th {\n",
       "        text-align: right;\n",
       "    }\n",
       "</style>\n",
       "<table border=\"1\" class=\"dataframe\">\n",
       "  <thead>\n",
       "    <tr style=\"text-align: right;\">\n",
       "      <th></th>\n",
       "      <th>stockcode_caps</th>\n",
       "      <th>total_revenue</th>\n",
       "      <th>total_qty</th>\n",
       "      <th>num_invoices</th>\n",
       "      <th>unique_customers</th>\n",
       "      <th>avg_product_purchase</th>\n",
       "      <th>prodsales_quntiles</th>\n",
       "    </tr>\n",
       "  </thead>\n",
       "  <tbody>\n",
       "    <tr>\n",
       "      <th>1308</th>\n",
       "      <td>22423</td>\n",
       "      <td>164762.187790</td>\n",
       "      <td>13022</td>\n",
       "      <td>2168</td>\n",
       "      <td>1172</td>\n",
       "      <td>75.997319</td>\n",
       "      <td>1</td>\n",
       "    </tr>\n",
       "    <tr>\n",
       "      <th>3323</th>\n",
       "      <td>85123A</td>\n",
       "      <td>99846.979964</td>\n",
       "      <td>35374</td>\n",
       "      <td>2307</td>\n",
       "      <td>1145</td>\n",
       "      <td>43.280009</td>\n",
       "      <td>1</td>\n",
       "    </tr>\n",
       "    <tr>\n",
       "      <th>2663</th>\n",
       "      <td>47566</td>\n",
       "      <td>98302.979317</td>\n",
       "      <td>18018</td>\n",
       "      <td>1705</td>\n",
       "      <td>1015</td>\n",
       "      <td>57.655706</td>\n",
       "      <td>1</td>\n",
       "    </tr>\n",
       "    <tr>\n",
       "      <th>3307</th>\n",
       "      <td>85099B</td>\n",
       "      <td>92356.028571</td>\n",
       "      <td>47359</td>\n",
       "      <td>2132</td>\n",
       "      <td>1125</td>\n",
       "      <td>43.318963</td>\n",
       "      <td>1</td>\n",
       "    </tr>\n",
       "    <tr>\n",
       "      <th>1940</th>\n",
       "      <td>23084</td>\n",
       "      <td>66756.588769</td>\n",
       "      <td>30680</td>\n",
       "      <td>1009</td>\n",
       "      <td>643</td>\n",
       "      <td>66.161139</td>\n",
       "      <td>1</td>\n",
       "    </tr>\n",
       "    <tr>\n",
       "      <th>...</th>\n",
       "      <td>...</td>\n",
       "      <td>...</td>\n",
       "      <td>...</td>\n",
       "      <td>...</td>\n",
       "      <td>...</td>\n",
       "      <td>...</td>\n",
       "      <td>...</td>\n",
       "    </tr>\n",
       "    <tr>\n",
       "      <th>2885</th>\n",
       "      <td>84201C</td>\n",
       "      <td>0.950000</td>\n",
       "      <td>5</td>\n",
       "      <td>1</td>\n",
       "      <td>1</td>\n",
       "      <td>0.950000</td>\n",
       "      <td>5</td>\n",
       "    </tr>\n",
       "    <tr>\n",
       "      <th>3573</th>\n",
       "      <td>90084</td>\n",
       "      <td>0.850000</td>\n",
       "      <td>1</td>\n",
       "      <td>1</td>\n",
       "      <td>1</td>\n",
       "      <td>0.850000</td>\n",
       "      <td>5</td>\n",
       "    </tr>\n",
       "    <tr>\n",
       "      <th>472</th>\n",
       "      <td>21268</td>\n",
       "      <td>0.840000</td>\n",
       "      <td>2</td>\n",
       "      <td>1</td>\n",
       "      <td>1</td>\n",
       "      <td>0.840000</td>\n",
       "      <td>5</td>\n",
       "    </tr>\n",
       "    <tr>\n",
       "      <th>3269</th>\n",
       "      <td>85047</td>\n",
       "      <td>0.800000</td>\n",
       "      <td>0</td>\n",
       "      <td>4</td>\n",
       "      <td>4</td>\n",
       "      <td>0.200000</td>\n",
       "      <td>5</td>\n",
       "    </tr>\n",
       "    <tr>\n",
       "      <th>2892</th>\n",
       "      <td>84227</td>\n",
       "      <td>0.420000</td>\n",
       "      <td>1</td>\n",
       "      <td>1</td>\n",
       "      <td>1</td>\n",
       "      <td>0.420000</td>\n",
       "      <td>5</td>\n",
       "    </tr>\n",
       "  </tbody>\n",
       "</table>\n",
       "<p>3794 rows × 7 columns</p>\n",
       "</div>"
      ],
      "text/plain": [
       "     stockcode_caps  total_revenue  total_qty  num_invoices  unique_customers  \\\n",
       "1308          22423  164762.187790      13022          2168              1172   \n",
       "3323         85123A   99846.979964      35374          2307              1145   \n",
       "2663          47566   98302.979317      18018          1705              1015   \n",
       "3307         85099B   92356.028571      47359          2132              1125   \n",
       "1940          23084   66756.588769      30680          1009               643   \n",
       "...             ...            ...        ...           ...               ...   \n",
       "2885         84201C       0.950000          5             1                 1   \n",
       "3573          90084       0.850000          1             1                 1   \n",
       "472           21268       0.840000          2             1                 1   \n",
       "3269          85047       0.800000          0             4                 4   \n",
       "2892          84227       0.420000          1             1                 1   \n",
       "\n",
       "      avg_product_purchase prodsales_quntiles  \n",
       "1308             75.997319                  1  \n",
       "3323             43.280009                  1  \n",
       "2663             57.655706                  1  \n",
       "3307             43.318963                  1  \n",
       "1940             66.161139                  1  \n",
       "...                    ...                ...  \n",
       "2885              0.950000                  5  \n",
       "3573              0.850000                  5  \n",
       "472               0.840000                  5  \n",
       "3269              0.200000                  5  \n",
       "2892              0.420000                  5  \n",
       "\n",
       "[3794 rows x 7 columns]"
      ]
     },
     "execution_count": 50,
     "metadata": {},
     "output_type": "execute_result"
    }
   ],
   "source": [
    "sales_by_product.sort_values(by='total_revenue', ascending=False)"
   ]
  },
  {
   "cell_type": "code",
   "execution_count": null,
   "id": "e1bcdc36",
   "metadata": {},
   "outputs": [],
   "source": []
  },
  {
   "cell_type": "code",
   "execution_count": 51,
   "id": "807e4210",
   "metadata": {},
   "outputs": [
    {
     "data": {
      "text/plain": [
       "<AxesSubplot:xlabel='num_invoices', ylabel='avg_product_purchase'>"
      ]
     },
     "execution_count": 51,
     "metadata": {},
     "output_type": "execute_result"
    },
    {
     "data": {
      "image/png": "[encoded data removed]",
      "text/plain": [
       "<Figure size 720x720 with 1 Axes>"
      ]
     },
     "metadata": {},
     "output_type": "display_data"
    }
   ],
   "source": [
    "fig,ax = plt.subplots(figsize=(10,10))\n",
    "sns.scatterplot(data=sales_by_product, \n",
    "                x='num_invoices', \n",
    "                y='avg_product_purchase', \n",
    "                size='total_revenue', \n",
    "                hue='prodsales_quntiles')"
   ]
  },
  {
   "cell_type": "code",
   "execution_count": 52,
   "id": "c6ffb436",
   "metadata": {},
   "outputs": [],
   "source": [
    "sales_data['has_product'] = sales_data['quantity'] > 1"
   ]
  },
  {
   "cell_type": "code",
   "execution_count": 53,
   "id": "d1f8bb21",
   "metadata": {},
   "outputs": [],
   "source": [
    "qty_matrix = pd.pivot_table(data=sales_data, values='has_product', index='customerid', columns='stockcode_caps')"
   ]
  },
  {
   "cell_type": "code",
   "execution_count": 54,
   "id": "08f38d6c",
   "metadata": {},
   "outputs": [
    {
     "data": {
      "text/plain": [
       "<AxesSubplot:xlabel='stockcode_caps', ylabel='customerid'>"
      ]
     },
     "execution_count": 54,
     "metadata": {},
     "output_type": "execute_result"
    },
    {
     "data": {
      "image/png": "[encoded data removed]",
      "text/plain": [
       "<Figure size 720x720 with 2 Axes>"
      ]
     },
     "metadata": {},
     "output_type": "display_data"
    }
   ],
   "source": [
    "fig,ax = plt.subplots(figsize=(10,10))\n",
    "sns.heatmap(data=qty_matrix)"
   ]
  },
  {
   "cell_type": "markdown",
   "id": "8edec959",
   "metadata": {},
   "source": [
    "Basic Model"
   ]
  },
  {
   "cell_type": "code",
   "execution_count": 55,
   "id": "e3fec7dc",
   "metadata": {},
   "outputs": [],
   "source": [
    "# split train and test data\n",
    "train_data = sales_data[sales_data['test'] == False].copy()"
   ]
  },
  {
   "cell_type": "code",
   "execution_count": 56,
   "id": "3d7e86ca",
   "metadata": {},
   "outputs": [],
   "source": [
    "test_data = sales_data[sales_data['test'] == True].copy()"
   ]
  },
  {
   "cell_type": "code",
   "execution_count": 180,
   "id": "d0ecd5fe",
   "metadata": {},
   "outputs": [
    {
     "name": "stderr",
     "output_type": "stream",
     "text": [
      "C:\\Users\\deang\\AppData\\Local\\Temp\\ipykernel_19728\\1434893423.py:1: FutureWarning: Treating datetime data as categorical rather than numeric in `.describe` is deprecated and will be removed in a future version of pandas. Specify `datetime_is_numeric=True` to silence this warning and adopt the future behavior now.\n",
      "  test_data[test_data['customerid'].apply(len)==5]['invoicedate'].describe()\n"
     ]
    },
    {
     "data": {
      "text/plain": [
       "count                   93434\n",
       "unique                   4193\n",
       "top       2011-12-05 17:17:00\n",
       "freq                      528\n",
       "first     2010-12-01 09:53:00\n",
       "last      2011-12-09 12:50:00\n",
       "Name: invoicedate, dtype: object"
      ]
     },
     "execution_count": 180,
     "metadata": {},
     "output_type": "execute_result"
    }
   ],
   "source": [
    "test_data[test_data['customerid'].apply(len)==5]['invoicedate'].describe()"
   ]
  },
  {
   "cell_type": "code",
   "execution_count": 183,
   "id": "1f732348",
   "metadata": {},
   "outputs": [
    {
     "ename": "NameError",
     "evalue": "name 'month' is not defined",
     "output_type": "error",
     "traceback": [
      "\u001b[1;31m---------------------------------------------------------------------------\u001b[0m",
      "\u001b[1;31mNameError\u001b[0m                                 Traceback (most recent call last)",
      "Input \u001b[1;32mIn [183]\u001b[0m, in \u001b[0;36m<cell line: 1>\u001b[1;34m()\u001b[0m\n\u001b[1;32m----> 1\u001b[0m test_data[test_data[\u001b[38;5;124m'\u001b[39m\u001b[38;5;124mcustomerid\u001b[39m\u001b[38;5;124m'\u001b[39m]\u001b[38;5;241m.\u001b[39mapply(\u001b[43mmonth\u001b[49m)]\n",
      "\u001b[1;31mNameError\u001b[0m: name 'month' is not defined"
     ]
    }
   ],
   "source": [
    "test_data[test_data['customerid'].apply(month)]\n",
    "pd.DatetimeIndex(test_data['customerid']).month"
   ]
  },
  {
   "cell_type": "code",
   "execution_count": 184,
   "id": "248e45ba",
   "metadata": {},
   "outputs": [
    {
     "name": "stderr",
     "output_type": "stream",
     "text": [
      "C:\\Users\\deang\\AppData\\Local\\Temp\\ipykernel_19728\\1434893423.py:1: FutureWarning: Treating datetime data as categorical rather than numeric in `.describe` is deprecated and will be removed in a future version of pandas. Specify `datetime_is_numeric=True` to silence this warning and adopt the future behavior now.\n",
      "  test_data[test_data['customerid'].apply(len)==5]['invoicedate'].describe()\n"
     ]
    },
    {
     "data": {
      "text/plain": [
       "count                   93434\n",
       "unique                   4193\n",
       "top       2011-12-05 17:17:00\n",
       "freq                      528\n",
       "first     2010-12-01 09:53:00\n",
       "last      2011-12-09 12:50:00\n",
       "Name: invoicedate, dtype: object"
      ]
     },
     "execution_count": 184,
     "metadata": {},
     "output_type": "execute_result"
    }
   ],
   "source": [
    "test_data[test_data['customerid'].apply(len)==5]['invoicedate'].describe()"
   ]
  },
  {
   "cell_type": "code",
   "execution_count": 57,
   "id": "fa534b1d",
   "metadata": {},
   "outputs": [
    {
     "data": {
      "text/html": [
       "<div>\n",
       "<style scoped>\n",
       "    .dataframe tbody tr th:only-of-type {\n",
       "        vertical-align: middle;\n",
       "    }\n",
       "\n",
       "    .dataframe tbody tr th {\n",
       "        vertical-align: top;\n",
       "    }\n",
       "\n",
       "    .dataframe thead th {\n",
       "        text-align: right;\n",
       "    }\n",
       "</style>\n",
       "<table border=\"1\" class=\"dataframe\">\n",
       "  <thead>\n",
       "    <tr style=\"text-align: right;\">\n",
       "      <th>stockcode_caps</th>\n",
       "      <th>10002</th>\n",
       "      <th>10080</th>\n",
       "      <th>10120</th>\n",
       "      <th>10123C</th>\n",
       "      <th>10124A</th>\n",
       "      <th>10124G</th>\n",
       "      <th>10125</th>\n",
       "      <th>10133</th>\n",
       "      <th>10135</th>\n",
       "      <th>11001</th>\n",
       "      <th>...</th>\n",
       "      <th>DCGS0069</th>\n",
       "      <th>DCGS0070</th>\n",
       "      <th>DCGS0076</th>\n",
       "      <th>DCGSSBOY</th>\n",
       "      <th>DCGSSGIRL</th>\n",
       "      <th>GIFT_0001_10</th>\n",
       "      <th>GIFT_0001_20</th>\n",
       "      <th>GIFT_0001_30</th>\n",
       "      <th>GIFT_0001_40</th>\n",
       "      <th>GIFT_0001_50</th>\n",
       "    </tr>\n",
       "    <tr>\n",
       "      <th>customerid</th>\n",
       "      <th></th>\n",
       "      <th></th>\n",
       "      <th></th>\n",
       "      <th></th>\n",
       "      <th></th>\n",
       "      <th></th>\n",
       "      <th></th>\n",
       "      <th></th>\n",
       "      <th></th>\n",
       "      <th></th>\n",
       "      <th></th>\n",
       "      <th></th>\n",
       "      <th></th>\n",
       "      <th></th>\n",
       "      <th></th>\n",
       "      <th></th>\n",
       "      <th></th>\n",
       "      <th></th>\n",
       "      <th></th>\n",
       "      <th></th>\n",
       "      <th></th>\n",
       "    </tr>\n",
       "  </thead>\n",
       "  <tbody>\n",
       "    <tr>\n",
       "      <th>12346</th>\n",
       "      <td>0.0</td>\n",
       "      <td>0.0</td>\n",
       "      <td>0.0</td>\n",
       "      <td>0.0</td>\n",
       "      <td>0.0</td>\n",
       "      <td>0.0</td>\n",
       "      <td>0.0</td>\n",
       "      <td>0.0</td>\n",
       "      <td>0.0</td>\n",
       "      <td>0.0</td>\n",
       "      <td>...</td>\n",
       "      <td>0.0</td>\n",
       "      <td>0.0</td>\n",
       "      <td>0.0</td>\n",
       "      <td>0.0</td>\n",
       "      <td>0.0</td>\n",
       "      <td>0.0</td>\n",
       "      <td>0.0</td>\n",
       "      <td>0.0</td>\n",
       "      <td>0.0</td>\n",
       "      <td>0.0</td>\n",
       "    </tr>\n",
       "    <tr>\n",
       "      <th>12347</th>\n",
       "      <td>0.0</td>\n",
       "      <td>0.0</td>\n",
       "      <td>0.0</td>\n",
       "      <td>0.0</td>\n",
       "      <td>0.0</td>\n",
       "      <td>0.0</td>\n",
       "      <td>0.0</td>\n",
       "      <td>0.0</td>\n",
       "      <td>0.0</td>\n",
       "      <td>0.0</td>\n",
       "      <td>...</td>\n",
       "      <td>0.0</td>\n",
       "      <td>0.0</td>\n",
       "      <td>0.0</td>\n",
       "      <td>0.0</td>\n",
       "      <td>0.0</td>\n",
       "      <td>0.0</td>\n",
       "      <td>0.0</td>\n",
       "      <td>0.0</td>\n",
       "      <td>0.0</td>\n",
       "      <td>0.0</td>\n",
       "    </tr>\n",
       "    <tr>\n",
       "      <th>12348</th>\n",
       "      <td>0.0</td>\n",
       "      <td>0.0</td>\n",
       "      <td>0.0</td>\n",
       "      <td>0.0</td>\n",
       "      <td>0.0</td>\n",
       "      <td>0.0</td>\n",
       "      <td>0.0</td>\n",
       "      <td>0.0</td>\n",
       "      <td>0.0</td>\n",
       "      <td>0.0</td>\n",
       "      <td>...</td>\n",
       "      <td>0.0</td>\n",
       "      <td>0.0</td>\n",
       "      <td>0.0</td>\n",
       "      <td>0.0</td>\n",
       "      <td>0.0</td>\n",
       "      <td>0.0</td>\n",
       "      <td>0.0</td>\n",
       "      <td>0.0</td>\n",
       "      <td>0.0</td>\n",
       "      <td>0.0</td>\n",
       "    </tr>\n",
       "    <tr>\n",
       "      <th>12349</th>\n",
       "      <td>0.0</td>\n",
       "      <td>0.0</td>\n",
       "      <td>0.0</td>\n",
       "      <td>0.0</td>\n",
       "      <td>0.0</td>\n",
       "      <td>0.0</td>\n",
       "      <td>0.0</td>\n",
       "      <td>0.0</td>\n",
       "      <td>0.0</td>\n",
       "      <td>0.0</td>\n",
       "      <td>...</td>\n",
       "      <td>0.0</td>\n",
       "      <td>0.0</td>\n",
       "      <td>0.0</td>\n",
       "      <td>0.0</td>\n",
       "      <td>0.0</td>\n",
       "      <td>0.0</td>\n",
       "      <td>0.0</td>\n",
       "      <td>0.0</td>\n",
       "      <td>0.0</td>\n",
       "      <td>0.0</td>\n",
       "    </tr>\n",
       "    <tr>\n",
       "      <th>12350</th>\n",
       "      <td>0.0</td>\n",
       "      <td>0.0</td>\n",
       "      <td>0.0</td>\n",
       "      <td>0.0</td>\n",
       "      <td>0.0</td>\n",
       "      <td>0.0</td>\n",
       "      <td>0.0</td>\n",
       "      <td>0.0</td>\n",
       "      <td>0.0</td>\n",
       "      <td>0.0</td>\n",
       "      <td>...</td>\n",
       "      <td>0.0</td>\n",
       "      <td>0.0</td>\n",
       "      <td>0.0</td>\n",
       "      <td>0.0</td>\n",
       "      <td>0.0</td>\n",
       "      <td>0.0</td>\n",
       "      <td>0.0</td>\n",
       "      <td>0.0</td>\n",
       "      <td>0.0</td>\n",
       "      <td>0.0</td>\n",
       "    </tr>\n",
       "    <tr>\n",
       "      <th>...</th>\n",
       "      <td>...</td>\n",
       "      <td>...</td>\n",
       "      <td>...</td>\n",
       "      <td>...</td>\n",
       "      <td>...</td>\n",
       "      <td>...</td>\n",
       "      <td>...</td>\n",
       "      <td>...</td>\n",
       "      <td>...</td>\n",
       "      <td>...</td>\n",
       "      <td>...</td>\n",
       "      <td>...</td>\n",
       "      <td>...</td>\n",
       "      <td>...</td>\n",
       "      <td>...</td>\n",
       "      <td>...</td>\n",
       "      <td>...</td>\n",
       "      <td>...</td>\n",
       "      <td>...</td>\n",
       "      <td>...</td>\n",
       "      <td>...</td>\n",
       "    </tr>\n",
       "    <tr>\n",
       "      <th>C575153</th>\n",
       "      <td>0.0</td>\n",
       "      <td>0.0</td>\n",
       "      <td>0.0</td>\n",
       "      <td>0.0</td>\n",
       "      <td>0.0</td>\n",
       "      <td>0.0</td>\n",
       "      <td>0.0</td>\n",
       "      <td>0.0</td>\n",
       "      <td>0.0</td>\n",
       "      <td>0.0</td>\n",
       "      <td>...</td>\n",
       "      <td>0.0</td>\n",
       "      <td>0.0</td>\n",
       "      <td>0.0</td>\n",
       "      <td>0.0</td>\n",
       "      <td>0.0</td>\n",
       "      <td>0.0</td>\n",
       "      <td>0.0</td>\n",
       "      <td>0.0</td>\n",
       "      <td>0.0</td>\n",
       "      <td>0.0</td>\n",
       "    </tr>\n",
       "    <tr>\n",
       "      <th>C577779</th>\n",
       "      <td>0.0</td>\n",
       "      <td>0.0</td>\n",
       "      <td>0.0</td>\n",
       "      <td>0.0</td>\n",
       "      <td>0.0</td>\n",
       "      <td>0.0</td>\n",
       "      <td>0.0</td>\n",
       "      <td>0.0</td>\n",
       "      <td>0.0</td>\n",
       "      <td>0.0</td>\n",
       "      <td>...</td>\n",
       "      <td>0.0</td>\n",
       "      <td>0.0</td>\n",
       "      <td>0.0</td>\n",
       "      <td>0.0</td>\n",
       "      <td>0.0</td>\n",
       "      <td>0.0</td>\n",
       "      <td>0.0</td>\n",
       "      <td>0.0</td>\n",
       "      <td>0.0</td>\n",
       "      <td>0.0</td>\n",
       "    </tr>\n",
       "    <tr>\n",
       "      <th>C578097</th>\n",
       "      <td>0.0</td>\n",
       "      <td>0.0</td>\n",
       "      <td>0.0</td>\n",
       "      <td>0.0</td>\n",
       "      <td>0.0</td>\n",
       "      <td>0.0</td>\n",
       "      <td>0.0</td>\n",
       "      <td>0.0</td>\n",
       "      <td>0.0</td>\n",
       "      <td>0.0</td>\n",
       "      <td>...</td>\n",
       "      <td>0.0</td>\n",
       "      <td>0.0</td>\n",
       "      <td>0.0</td>\n",
       "      <td>0.0</td>\n",
       "      <td>0.0</td>\n",
       "      <td>0.0</td>\n",
       "      <td>0.0</td>\n",
       "      <td>0.0</td>\n",
       "      <td>0.0</td>\n",
       "      <td>0.0</td>\n",
       "    </tr>\n",
       "    <tr>\n",
       "      <th>C579757</th>\n",
       "      <td>0.0</td>\n",
       "      <td>0.0</td>\n",
       "      <td>0.0</td>\n",
       "      <td>0.0</td>\n",
       "      <td>0.0</td>\n",
       "      <td>0.0</td>\n",
       "      <td>0.0</td>\n",
       "      <td>0.0</td>\n",
       "      <td>0.0</td>\n",
       "      <td>0.0</td>\n",
       "      <td>...</td>\n",
       "      <td>0.0</td>\n",
       "      <td>0.0</td>\n",
       "      <td>0.0</td>\n",
       "      <td>0.0</td>\n",
       "      <td>0.0</td>\n",
       "      <td>0.0</td>\n",
       "      <td>0.0</td>\n",
       "      <td>0.0</td>\n",
       "      <td>0.0</td>\n",
       "      <td>0.0</td>\n",
       "    </tr>\n",
       "    <tr>\n",
       "      <th>C579907</th>\n",
       "      <td>0.0</td>\n",
       "      <td>0.0</td>\n",
       "      <td>0.0</td>\n",
       "      <td>0.0</td>\n",
       "      <td>0.0</td>\n",
       "      <td>0.0</td>\n",
       "      <td>0.0</td>\n",
       "      <td>0.0</td>\n",
       "      <td>0.0</td>\n",
       "      <td>0.0</td>\n",
       "      <td>...</td>\n",
       "      <td>0.0</td>\n",
       "      <td>0.0</td>\n",
       "      <td>0.0</td>\n",
       "      <td>0.0</td>\n",
       "      <td>0.0</td>\n",
       "      <td>0.0</td>\n",
       "      <td>0.0</td>\n",
       "      <td>0.0</td>\n",
       "      <td>0.0</td>\n",
       "      <td>0.0</td>\n",
       "    </tr>\n",
       "  </tbody>\n",
       "</table>\n",
       "<p>5772 rows × 3817 columns</p>\n",
       "</div>"
      ],
      "text/plain": [
       "stockcode_caps  10002  10080  10120  10123C  10124A  10124G  10125  10133  \\\n",
       "customerid                                                                  \n",
       "12346             0.0    0.0    0.0     0.0     0.0     0.0    0.0    0.0   \n",
       "12347             0.0    0.0    0.0     0.0     0.0     0.0    0.0    0.0   \n",
       "12348             0.0    0.0    0.0     0.0     0.0     0.0    0.0    0.0   \n",
       "12349             0.0    0.0    0.0     0.0     0.0     0.0    0.0    0.0   \n",
       "12350             0.0    0.0    0.0     0.0     0.0     0.0    0.0    0.0   \n",
       "...               ...    ...    ...     ...     ...     ...    ...    ...   \n",
       "C575153           0.0    0.0    0.0     0.0     0.0     0.0    0.0    0.0   \n",
       "C577779           0.0    0.0    0.0     0.0     0.0     0.0    0.0    0.0   \n",
       "C578097           0.0    0.0    0.0     0.0     0.0     0.0    0.0    0.0   \n",
       "C579757           0.0    0.0    0.0     0.0     0.0     0.0    0.0    0.0   \n",
       "C579907           0.0    0.0    0.0     0.0     0.0     0.0    0.0    0.0   \n",
       "\n",
       "stockcode_caps  10135  11001  ...  DCGS0069  DCGS0070  DCGS0076  DCGSSBOY  \\\n",
       "customerid                    ...                                           \n",
       "12346             0.0    0.0  ...       0.0       0.0       0.0       0.0   \n",
       "12347             0.0    0.0  ...       0.0       0.0       0.0       0.0   \n",
       "12348             0.0    0.0  ...       0.0       0.0       0.0       0.0   \n",
       "12349             0.0    0.0  ...       0.0       0.0       0.0       0.0   \n",
       "12350             0.0    0.0  ...       0.0       0.0       0.0       0.0   \n",
       "...               ...    ...  ...       ...       ...       ...       ...   \n",
       "C575153           0.0    0.0  ...       0.0       0.0       0.0       0.0   \n",
       "C577779           0.0    0.0  ...       0.0       0.0       0.0       0.0   \n",
       "C578097           0.0    0.0  ...       0.0       0.0       0.0       0.0   \n",
       "C579757           0.0    0.0  ...       0.0       0.0       0.0       0.0   \n",
       "C579907           0.0    0.0  ...       0.0       0.0       0.0       0.0   \n",
       "\n",
       "stockcode_caps  DCGSSGIRL  GIFT_0001_10  GIFT_0001_20  GIFT_0001_30  \\\n",
       "customerid                                                            \n",
       "12346                 0.0           0.0           0.0           0.0   \n",
       "12347                 0.0           0.0           0.0           0.0   \n",
       "12348                 0.0           0.0           0.0           0.0   \n",
       "12349                 0.0           0.0           0.0           0.0   \n",
       "12350                 0.0           0.0           0.0           0.0   \n",
       "...                   ...           ...           ...           ...   \n",
       "C575153               0.0           0.0           0.0           0.0   \n",
       "C577779               0.0           0.0           0.0           0.0   \n",
       "C578097               0.0           0.0           0.0           0.0   \n",
       "C579757               0.0           0.0           0.0           0.0   \n",
       "C579907               0.0           0.0           0.0           0.0   \n",
       "\n",
       "stockcode_caps  GIFT_0001_40  GIFT_0001_50  \n",
       "customerid                                  \n",
       "12346                    0.0           0.0  \n",
       "12347                    0.0           0.0  \n",
       "12348                    0.0           0.0  \n",
       "12349                    0.0           0.0  \n",
       "12350                    0.0           0.0  \n",
       "...                      ...           ...  \n",
       "C575153                  0.0           0.0  \n",
       "C577779                  0.0           0.0  \n",
       "C578097                  0.0           0.0  \n",
       "C579757                  0.0           0.0  \n",
       "C579907                  0.0           0.0  \n",
       "\n",
       "[5772 rows x 3817 columns]"
      ]
     },
     "execution_count": 57,
     "metadata": {},
     "output_type": "execute_result"
    }
   ],
   "source": [
    "pd.crosstab(index=sales_data['customerid'],\n",
    "            columns=sales_data['stockcode_caps'],\n",
    "            values=sales_data['revenue'], \n",
    "            aggfunc=sum,\n",
    "            normalize='index'\n",
    "           )"
   ]
  },
  {
   "cell_type": "code",
   "execution_count": 59,
   "id": "2ddc31bb",
   "metadata": {},
   "outputs": [],
   "source": [
    "test_invoices = sales_data[sales_data['test'] == True].groupby(['invoiceno',\n",
    "                                                                'customerid',\n",
    "                                                               'invoicedate']) \\\n",
    "                                                    .agg(num_products=('stockcode_caps',np.size),                                      \n",
    "                                                   ).reset_index()"
   ]
  },
  {
   "cell_type": "code",
   "execution_count": 60,
   "id": "e536b37d",
   "metadata": {},
   "outputs": [
    {
     "data": {
      "text/html": [
       "<div>\n",
       "<style scoped>\n",
       "    .dataframe tbody tr th:only-of-type {\n",
       "        vertical-align: middle;\n",
       "    }\n",
       "\n",
       "    .dataframe tbody tr th {\n",
       "        vertical-align: top;\n",
       "    }\n",
       "\n",
       "    .dataframe thead th {\n",
       "        text-align: right;\n",
       "    }\n",
       "</style>\n",
       "<table border=\"1\" class=\"dataframe\">\n",
       "  <thead>\n",
       "    <tr style=\"text-align: right;\">\n",
       "      <th></th>\n",
       "      <th>invoiceno</th>\n",
       "      <th>customerid</th>\n",
       "      <th>invoicedate</th>\n",
       "      <th>num_products</th>\n",
       "    </tr>\n",
       "  </thead>\n",
       "  <tbody>\n",
       "    <tr>\n",
       "      <th>0</th>\n",
       "      <td>536384</td>\n",
       "      <td>18074</td>\n",
       "      <td>2010-12-01 09:53:00</td>\n",
       "      <td>13</td>\n",
       "    </tr>\n",
       "    <tr>\n",
       "      <th>1</th>\n",
       "      <td>536393</td>\n",
       "      <td>13747</td>\n",
       "      <td>2010-12-01 10:37:00</td>\n",
       "      <td>1</td>\n",
       "    </tr>\n",
       "    <tr>\n",
       "      <th>2</th>\n",
       "      <td>536403</td>\n",
       "      <td>12791</td>\n",
       "      <td>2010-12-01 11:27:00</td>\n",
       "      <td>1</td>\n",
       "    </tr>\n",
       "    <tr>\n",
       "      <th>3</th>\n",
       "      <td>536409</td>\n",
       "      <td>17908</td>\n",
       "      <td>2010-12-01 11:45:00</td>\n",
       "      <td>58</td>\n",
       "    </tr>\n",
       "    <tr>\n",
       "      <th>4</th>\n",
       "      <td>536420</td>\n",
       "      <td>16583</td>\n",
       "      <td>2010-12-01 12:03:00</td>\n",
       "      <td>14</td>\n",
       "    </tr>\n",
       "    <tr>\n",
       "      <th>...</th>\n",
       "      <td>...</td>\n",
       "      <td>...</td>\n",
       "      <td>...</td>\n",
       "      <td>...</td>\n",
       "    </tr>\n",
       "    <tr>\n",
       "      <th>5700</th>\n",
       "      <td>581582</td>\n",
       "      <td>17581</td>\n",
       "      <td>2011-12-09 12:21:00</td>\n",
       "      <td>2</td>\n",
       "    </tr>\n",
       "    <tr>\n",
       "      <th>5701</th>\n",
       "      <td>581584</td>\n",
       "      <td>13777</td>\n",
       "      <td>2011-12-09 12:25:00</td>\n",
       "      <td>2</td>\n",
       "    </tr>\n",
       "    <tr>\n",
       "      <th>5702</th>\n",
       "      <td>581585</td>\n",
       "      <td>15804</td>\n",
       "      <td>2011-12-09 12:31:00</td>\n",
       "      <td>21</td>\n",
       "    </tr>\n",
       "    <tr>\n",
       "      <th>5703</th>\n",
       "      <td>581586</td>\n",
       "      <td>13113</td>\n",
       "      <td>2011-12-09 12:49:00</td>\n",
       "      <td>4</td>\n",
       "    </tr>\n",
       "    <tr>\n",
       "      <th>5704</th>\n",
       "      <td>581587</td>\n",
       "      <td>12680</td>\n",
       "      <td>2011-12-09 12:50:00</td>\n",
       "      <td>15</td>\n",
       "    </tr>\n",
       "  </tbody>\n",
       "</table>\n",
       "<p>5705 rows × 4 columns</p>\n",
       "</div>"
      ],
      "text/plain": [
       "     invoiceno customerid         invoicedate  num_products\n",
       "0       536384      18074 2010-12-01 09:53:00            13\n",
       "1       536393      13747 2010-12-01 10:37:00             1\n",
       "2       536403      12791 2010-12-01 11:27:00             1\n",
       "3       536409      17908 2010-12-01 11:45:00            58\n",
       "4       536420      16583 2010-12-01 12:03:00            14\n",
       "...        ...        ...                 ...           ...\n",
       "5700    581582      17581 2011-12-09 12:21:00             2\n",
       "5701    581584      13777 2011-12-09 12:25:00             2\n",
       "5702    581585      15804 2011-12-09 12:31:00            21\n",
       "5703    581586      13113 2011-12-09 12:49:00             4\n",
       "5704    581587      12680 2011-12-09 12:50:00            15\n",
       "\n",
       "[5705 rows x 4 columns]"
      ]
     },
     "execution_count": 60,
     "metadata": {},
     "output_type": "execute_result"
    }
   ],
   "source": [
    "test_invoices"
   ]
  },
  {
   "cell_type": "code",
   "execution_count": 66,
   "id": "98d9308b",
   "metadata": {},
   "outputs": [],
   "source": [
    "test_data['cust_stock'] = test_data['customerid'] + '/' + test_data['stockcode_caps']"
   ]
  },
  {
   "cell_type": "markdown",
   "id": "5128181e",
   "metadata": {},
   "source": [
    "Recommender Models"
   ]
  },
  {
   "cell_type": "code",
   "execution_count": 68,
   "id": "078df2d0",
   "metadata": {},
   "outputs": [
    {
     "data": {
      "text/plain": [
       "5705"
      ]
     },
     "execution_count": 68,
     "metadata": {},
     "output_type": "execute_result"
    }
   ],
   "source": [
    "test_invoices.shape[0]"
   ]
  },
  {
   "cell_type": "code",
   "execution_count": 141,
   "id": "d6e9752f",
   "metadata": {},
   "outputs": [],
   "source": [
    "# for each invoice: \n",
    "predict_data = []\n",
    "for i in test_invoices['invoiceno'].values:\n",
    "    predict_invoice = []\n",
    "    past_products = []\n",
    "    test_customerid = test_invoices.loc[test_invoices['invoiceno'] == i,'customerid'].item()\n",
    "    test_invoicedate = test_invoices.loc[test_invoices['invoiceno'] == i,'invoicedate'].item()\n",
    "    test_numproducts = test_invoices.loc[test_invoices['invoiceno'] == i,'num_products'].item()\n",
    "    \n",
    "    # sums all previous invoices of each customerid\n",
    "    past_cust_invoices = train_data.loc[(train_data['customerid']==test_customerid),\n",
    "                       ['customerid','stockcode_caps','revenue']] \\\n",
    "                        .groupby(['customerid','stockcode_caps']) \\\n",
    "                        .sum().reset_index()\n",
    "                                         \n",
    "    # compare number of products in test invoice \n",
    "    # vs unique products with positive sales in all past invoices\n",
    "    past_cust_purchases = past_cust_invoices[past_cust_invoices['revenue']>0]\n",
    "    past_products.extend(past_cust_purchases['stockcode_caps'])\n",
    "    \n",
    "    if past_cust_purchases.shape[0] > 0:\n",
    "    # if there were past purchases for this customer         \n",
    "        invoice_count_difference = past_cust_purchases.shape[0] - test_numproducts       \n",
    "        if invoice_count_difference >= 0:                                                 \n",
    "        # and if the past purchases had more products than the test invoice\n",
    "        # select the top n products where n = product length of test invoice\n",
    "            predict_data.extend(past_cust_purchases.head(test_numproducts).values.tolist())\n",
    "        \n",
    "        else:\n",
    "        # else, being that the past puchases were fewer than test invoice,\n",
    "        # add the products from past purchases, \n",
    "            predict_data.extend(past_cust_purchases.values.tolist())\n",
    "        # and add additional products from all past invoices\n",
    "        # to make up for the shortfall in products\n",
    "            past_all_invoices = train_data.loc[(train_data['invoicedate']<test_invoicedate),\n",
    "                               ['stockcode_caps','revenue']] \\\n",
    "                                .groupby(['stockcode_caps']) \\\n",
    "                                .sum().reset_index()\n",
    "            past_all_invoices['customerid'] = test_customerid\n",
    "            past_all_purchases = past_all_invoices[past_all_invoices['revenue']>0]      \n",
    "            past_all_purchases_select = past_all_purchases[~past_all_purchases['stockcode_caps'].isin(\n",
    "                past_products)]\n",
    "            predict_invoice.extend(past_all_purchases_select[['customerid',\n",
    "                                                              'stockcode_caps',\n",
    "                                                              'revenue']] \\\n",
    "                                .sort_values(by='revenue',ascending=False) \\\n",
    "                                .head(-invoice_count_difference).values.tolist())   \n",
    "    else:\n",
    "    # else, being that there were no past purchases \n",
    "    # select all sales before test invoice date\n",
    "        past_all_invoices = train_data.loc[(train_data['invoicedate']<test_invoicedate),\n",
    "                           ['stockcode_caps','revenue']] \\\n",
    "                            .groupby(['stockcode_caps']) \\\n",
    "                            .sum().reset_index()\n",
    "        past_all_invoices['customerid'] = test_customerid\n",
    "        past_all_purchases = past_all_invoices[past_all_invoices['revenue']>0]\n",
    "        predict_invoice.extend(past_all_purchases[['customerid','stockcode_caps','revenue']] \\\n",
    "                            .sort_values(by='revenue',ascending=False) \\\n",
    "                            .head(test_numproducts).values.tolist())   \n",
    "    predict_data.extend(predict_invoice)"
   ]
  },
  {
   "cell_type": "code",
   "execution_count": 145,
   "id": "7c2a4d9a",
   "metadata": {},
   "outputs": [],
   "source": [
    "predict = pd.DataFrame(predict_data, columns=['customerid','stockcode_caps','revenue'])"
   ]
  },
  {
   "cell_type": "code",
   "execution_count": 147,
   "id": "1f9ff544",
   "metadata": {},
   "outputs": [],
   "source": [
    "predict['cust_stock'] = predict['customerid'] + '/' + predict['stockcode_caps']"
   ]
  },
  {
   "cell_type": "code",
   "execution_count": 148,
   "id": "381d594c",
   "metadata": {},
   "outputs": [],
   "source": [
    "test_data['prediction'] = test_data['cust_stock'].isin(predict['cust_stock'])"
   ]
  },
  {
   "cell_type": "code",
   "execution_count": 149,
   "id": "55aaa173",
   "metadata": {},
   "outputs": [
    {
     "data": {
      "text/plain": [
       "0.24969684133799824"
      ]
     },
     "execution_count": 149,
     "metadata": {},
     "output_type": "execute_result"
    }
   ],
   "source": [
    "test_data[test_data['prediction']==True]['revenue'].sum() / test_data['revenue'].sum()"
   ]
  },
  {
   "cell_type": "markdown",
   "id": "2688f8aa",
   "metadata": {},
   "source": [
    "Exponential decay function, assume effect of relevance decays uniformly over time. "
   ]
  },
  {
   "cell_type": "code",
   "execution_count": 150,
   "id": "fff0cb19",
   "metadata": {},
   "outputs": [],
   "source": [
    "sales_data['invoice_age'] = pd.to_timedelta(sales_data['invoicedate'].max() \n",
    "                                            - sales_data['invoicedate']) / np.timedelta64(1, \"D\")"
   ]
  },
  {
   "cell_type": "code",
   "execution_count": 151,
   "id": "eaf2b215",
   "metadata": {},
   "outputs": [
    {
     "data": {
      "text/plain": [
       "0         373.183333\n",
       "1         373.183333\n",
       "2         373.183333\n",
       "3         373.183333\n",
       "4         373.183333\n",
       "             ...    \n",
       "536488      0.023611\n",
       "536489      0.023611\n",
       "536490      0.023611\n",
       "536491      0.023611\n",
       "536492      0.023611\n",
       "Name: invoice_age, Length: 536493, dtype: float64"
      ]
     },
     "execution_count": 151,
     "metadata": {},
     "output_type": "execute_result"
    }
   ],
   "source": [
    "sales_data['invoice_age']"
   ]
  },
  {
   "cell_type": "code",
   "execution_count": 152,
   "id": "9ee35e3f",
   "metadata": {},
   "outputs": [],
   "source": [
    "age_midpoint = sales_data['invoice_age'].max()/2"
   ]
  },
  {
   "cell_type": "code",
   "execution_count": 153,
   "id": "c681452b",
   "metadata": {},
   "outputs": [],
   "source": [
    "sales_data['decay'] = np.exp(np.log(0.5) / age_midpoint * sales_data['invoice_age'])"
   ]
  },
  {
   "cell_type": "code",
   "execution_count": 154,
   "id": "f3fdd145",
   "metadata": {},
   "outputs": [
    {
     "data": {
      "text/plain": [
       "0         0.250000\n",
       "1         0.250000\n",
       "2         0.250000\n",
       "3         0.250000\n",
       "4         0.250000\n",
       "            ...   \n",
       "536488    0.999912\n",
       "536489    0.999912\n",
       "536490    0.999912\n",
       "536491    0.999912\n",
       "536492    0.999912\n",
       "Name: decay, Length: 536493, dtype: float64"
      ]
     },
     "execution_count": 154,
     "metadata": {},
     "output_type": "execute_result"
    }
   ],
   "source": [
    "sales_data['decay']"
   ]
  },
  {
   "cell_type": "code",
   "execution_count": 155,
   "id": "9778b44b",
   "metadata": {},
   "outputs": [],
   "source": [
    "sales_data['revenue_decay'] = sales_data['revenue'] * sales_data['decay']"
   ]
  },
  {
   "cell_type": "code",
   "execution_count": 158,
   "id": "52ad0d6a",
   "metadata": {},
   "outputs": [],
   "source": [
    "# Train test split\n",
    "train_data = sales_data[sales_data['test'] == False].copy()\n",
    "test_data = sales_data[sales_data['test'] == True].copy()"
   ]
  },
  {
   "cell_type": "code",
   "execution_count": 165,
   "id": "8846bf5f",
   "metadata": {},
   "outputs": [],
   "source": [
    "test_data['cust_stock'] = test_data['customerid'] + '/' + test_data['stockcode_caps']"
   ]
  },
  {
   "cell_type": "code",
   "execution_count": 159,
   "id": "e6a271b6",
   "metadata": {},
   "outputs": [],
   "source": [
    "# replace 'revenue' with 'revenue_decay' \n",
    "# for each invoice: \n",
    "predict_data = []\n",
    "for i in test_invoices['invoiceno'].values:\n",
    "    predict_invoice = []\n",
    "    past_products = []\n",
    "    test_customerid = test_invoices.loc[test_invoices['invoiceno'] == i,'customerid'].item()\n",
    "    test_invoicedate = test_invoices.loc[test_invoices['invoiceno'] == i,'invoicedate'].item()\n",
    "    test_numproducts = test_invoices.loc[test_invoices['invoiceno'] == i,'num_products'].item()\n",
    "    \n",
    "    # sums all previous invoices of each customerid\n",
    "    past_cust_invoices = train_data.loc[(train_data['customerid']==test_customerid),\n",
    "                       ['customerid','stockcode_caps','revenue_decay']] \\\n",
    "                        .groupby(['customerid','stockcode_caps']) \\\n",
    "                        .sum().reset_index()\n",
    "                                         \n",
    "    # compare number of products in test invoice \n",
    "    # vs unique products with positive sales in all past invoices\n",
    "    past_cust_purchases = past_cust_invoices[past_cust_invoices['revenue_decay']>0]\n",
    "    past_products.extend(past_cust_purchases['stockcode_caps'])\n",
    "    \n",
    "    if past_cust_purchases.shape[0] > 0:\n",
    "    # if there were past purchases for this customer         \n",
    "        invoice_count_difference = past_cust_purchases.shape[0] - test_numproducts       \n",
    "        if invoice_count_difference >= 0:                                                 \n",
    "        # and if the past purchases had more products than the test invoice\n",
    "        # select the top n products where n = product length of test invoice\n",
    "            predict_data.extend(past_cust_purchases.head(test_numproducts).values.tolist())\n",
    "        \n",
    "        else:\n",
    "        # else, being that the past puchases were fewer than test invoice,\n",
    "        # add the products from past purchases, \n",
    "            predict_data.extend(past_cust_purchases.values.tolist())\n",
    "        # and add additional products from all past invoices\n",
    "        # to make up for the shortfall in products\n",
    "            past_all_invoices = train_data.loc[(train_data['invoicedate']<test_invoicedate),\n",
    "                               ['stockcode_caps','revenue_decay']] \\\n",
    "                                .groupby(['stockcode_caps']) \\\n",
    "                                .sum().reset_index()\n",
    "            past_all_invoices['customerid'] = test_customerid\n",
    "            past_all_purchases = past_all_invoices[past_all_invoices['revenue_decay']>0]      \n",
    "            past_all_purchases_select = past_all_purchases[~past_all_purchases['stockcode_caps'].isin(\n",
    "                past_products)]\n",
    "            predict_invoice.extend(past_all_purchases_select[['customerid',\n",
    "                                                              'stockcode_caps',\n",
    "                                                              'revenue_decay']] \\\n",
    "                                .sort_values(by='revenue_decay',ascending=False) \\\n",
    "                                .head(-invoice_count_difference).values.tolist())   \n",
    "    else:\n",
    "    # else, being that there were no past purchases \n",
    "    # select all sales before test invoice date\n",
    "        past_all_invoices = train_data.loc[(train_data['invoicedate']<test_invoicedate),\n",
    "                           ['stockcode_caps','revenue_decay']] \\\n",
    "                            .groupby(['stockcode_caps']) \\\n",
    "                            .sum().reset_index()\n",
    "        past_all_invoices['customerid'] = test_customerid\n",
    "        past_all_purchases = past_all_invoices[past_all_invoices['revenue_decay']>0]\n",
    "        predict_invoice.extend(past_all_purchases[['customerid','stockcode_caps','revenue_decay']] \\\n",
    "                            .sort_values(by='revenue_decay',ascending=False) \\\n",
    "                            .head(test_numproducts).values.tolist())   \n",
    "    predict_data.extend(predict_invoice)"
   ]
  },
  {
   "cell_type": "code",
   "execution_count": 160,
   "id": "2bc53ef8",
   "metadata": {},
   "outputs": [],
   "source": [
    "predict_decay = pd.DataFrame(predict_data, columns=['customerid','stockcode_caps','revenue'])"
   ]
  },
  {
   "cell_type": "code",
   "execution_count": 163,
   "id": "2e7aecef",
   "metadata": {},
   "outputs": [],
   "source": [
    "predict_decay['cust_stock'] = predict_decay['customerid'] + '/' + predict_decay['stockcode_caps']"
   ]
  },
  {
   "cell_type": "code",
   "execution_count": 166,
   "id": "b5e37676",
   "metadata": {},
   "outputs": [],
   "source": [
    "test_data['prediction_decay'] = test_data['cust_stock'].isin(predict_decay['cust_stock'])"
   ]
  },
  {
   "cell_type": "code",
   "execution_count": 168,
   "id": "20a4f97d",
   "metadata": {},
   "outputs": [
    {
     "data": {
      "text/plain": [
       "0.25598539357955624"
      ]
     },
     "execution_count": 168,
     "metadata": {},
     "output_type": "execute_result"
    }
   ],
   "source": [
    "test_data[test_data['prediction_decay']==True]['revenue'].sum() / test_data['revenue'].sum()"
   ]
  },
  {
   "cell_type": "markdown",
   "id": "8791fd90",
   "metadata": {},
   "source": [
    "We have slight improvement"
   ]
  },
  {
   "cell_type": "code",
   "execution_count": null,
   "id": "4c1d53f6",
   "metadata": {},
   "outputs": [],
   "source": []
  },
  {
   "cell_type": "code",
   "execution_count": null,
   "id": "51efb86b",
   "metadata": {},
   "outputs": [],
   "source": []
  },
  {
   "cell_type": "markdown",
   "id": "16ef0a39",
   "metadata": {},
   "source": [
    "Product classification\n",
    "\n",
    "Extract Colours\n",
    "Extract Numbers\n",
    "\n",
    "\n",
    "1. Generate NGrams\n",
    "2. Vectorize"
   ]
  },
  {
   "cell_type": "code",
   "execution_count": null,
   "id": "6fc6727d",
   "metadata": {},
   "outputs": [],
   "source": []
  },
  {
   "cell_type": "code",
   "execution_count": null,
   "id": "334626c7",
   "metadata": {},
   "outputs": [],
   "source": [
    "import nltk\n",
    "from nltk import word_tokenize, pos_tag\n",
    "from nltk.corpus import stopwords\n",
    "from nltk.stem import WordNetLemmatizer, SnowballStemmer\n",
    "import regex as re\n",
    "import webcolors\n",
    "\n",
    "from sklearn.feature_extraction.text import CountVectorizer, TfidfVectorizer\n",
    "from sklearn.cluster import KMeans, DBSCAN\n",
    "from sklearn.metrics import silhouette_score\n",
    "from sklearn.preprocessing import StandardScaler\n",
    "\n",
    "from scipy.cluster.hierarchy import dendrogram, linkage, cophenet, fcluster\n",
    "from scipy.spatial.distance import pdist"
   ]
  },
  {
   "cell_type": "code",
   "execution_count": null,
   "id": "6b1daf52",
   "metadata": {},
   "outputs": [],
   "source": [
    "descriptions = revenue_codes[['description_new']].copy()"
   ]
  },
  {
   "cell_type": "code",
   "execution_count": null,
   "id": "e81c02ea",
   "metadata": {},
   "outputs": [],
   "source": [
    "color_list = list(webcolors.CSS3_NAMES_TO_HEX.keys())"
   ]
  },
  {
   "cell_type": "code",
   "execution_count": null,
   "id": "ca574360",
   "metadata": {},
   "outputs": [],
   "source": [
    "# Convert descriptions to lowercase\n",
    "descriptions['description_lower'] = descriptions['description_new'].str.lower()"
   ]
  },
  {
   "cell_type": "code",
   "execution_count": null,
   "id": "7c062697",
   "metadata": {},
   "outputs": [],
   "source": [
    "descriptions"
   ]
  },
  {
   "cell_type": "code",
   "execution_count": null,
   "id": "0e69016a",
   "metadata": {},
   "outputs": [],
   "source": [
    "type(stopwords.words('english'))"
   ]
  },
  {
   "cell_type": "code",
   "execution_count": null,
   "id": "bdf32837",
   "metadata": {},
   "outputs": [],
   "source": [
    "def extract_non_text(string):\n",
    "    extract = \"\".join(re.findall(r'[^a-zA-Z\\s]',string))\n",
    "    string = \"\".join(re.findall(r'[a-zA-Z\\s]',string))\n",
    "    return string, extract"
   ]
  },
  {
   "cell_type": "code",
   "execution_count": null,
   "id": "10f912a2",
   "metadata": {},
   "outputs": [],
   "source": [
    "def extract_color(string_list):\n",
    "    colors = []\n",
    "    for i in color_list:\n",
    "        if i in string_list:\n",
    "            string_list.remove(i)\n",
    "            colors.append(i)\n",
    "    if len(colors) == 0:\n",
    "        colors = np.nan\n",
    "    return string_list, colors"
   ]
  },
  {
   "cell_type": "code",
   "execution_count": null,
   "id": "b359e439",
   "metadata": {},
   "outputs": [],
   "source": [
    "def extract_design_size(string_list):\n",
    "    design_extracted = []\n",
    "    size_extracted = []\n",
    "    \n",
    "    for i in design_list:\n",
    "        if i in string_list:\n",
    "            string_list.remove(i)\n",
    "            design_extracted.append(i)\n",
    "            \n",
    "    for i in size_list:\n",
    "        if i in string_list:\n",
    "            string_list.remove(i)\n",
    "            size_extracted.append(i)\n",
    "    \n",
    "    if len(design_extracted) == 0:\n",
    "        design_extracted = np.nan\n",
    "    if len(size_extracted) == 0:\n",
    "        size_extracted = np.nan\n",
    "    \n",
    "    return string_list, design_extracted, size_extracted"
   ]
  },
  {
   "cell_type": "code",
   "execution_count": null,
   "id": "5f7d1234",
   "metadata": {},
   "outputs": [],
   "source": [
    "# Extract numerical and non-text characters\n",
    "descriptions['clean'], descriptions['num_special_char'] = zip(*descriptions['description_lower'].\n",
    "                                                              apply(extract_non_text))"
   ]
  },
  {
   "cell_type": "code",
   "execution_count": null,
   "id": "8c47aa4d",
   "metadata": {},
   "outputs": [],
   "source": [
    "# Remove excess space and convert strings to lists of words\n",
    "descriptions['clean'] = descriptions['clean'] \\\n",
    "                                            .str.strip() \\\n",
    "                                            .apply(lambda x: list(x.split()))"
   ]
  },
  {
   "cell_type": "code",
   "execution_count": null,
   "id": "eee6e4de",
   "metadata": {},
   "outputs": [],
   "source": [
    "# Extract colors\n",
    "descriptions['clean'], descriptions['color']= zip(*descriptions['clean'].apply(extract_color))"
   ]
  },
  {
   "cell_type": "code",
   "execution_count": null,
   "id": "f924371d",
   "metadata": {},
   "outputs": [],
   "source": [
    "#descriptions['clean'].apply(lambda x: \" \".join(x))"
   ]
  },
  {
   "cell_type": "code",
   "execution_count": null,
   "id": "0db318ab",
   "metadata": {},
   "outputs": [],
   "source": [
    "# Combine back list of strings to one string each\n",
    "X = descriptions['clean'].copy()"
   ]
  },
  {
   "cell_type": "code",
   "execution_count": null,
   "id": "20298e60",
   "metadata": {},
   "outputs": [],
   "source": [
    "X"
   ]
  },
  {
   "cell_type": "code",
   "execution_count": null,
   "id": "a2584024",
   "metadata": {},
   "outputs": [],
   "source": [
    "# Initial vectorization\n",
    "cvec = CountVectorizer(ngram_range=(1, 2), tokenizer=lambda x: x, preprocessor=lambda x: x\n",
    "                      )\n",
    "cvec.fit(X)\n",
    "X_cvec = cvec.transform(X)"
   ]
  },
  {
   "cell_type": "code",
   "execution_count": null,
   "id": "e8171fba",
   "metadata": {},
   "outputs": [],
   "source": [
    "X_cvec = pd.DataFrame(X_cvec.todense(),\n",
    "             columns=cvec.get_feature_names_out()\n",
    "            )"
   ]
  },
  {
   "cell_type": "code",
   "execution_count": null,
   "id": "4589b11a",
   "metadata": {},
   "outputs": [],
   "source": [
    "X_cvec.sum().sort_values(ascending=False).head(50)"
   ]
  },
  {
   "cell_type": "code",
   "execution_count": null,
   "id": "bb111127",
   "metadata": {},
   "outputs": [],
   "source": [
    "design_list = ['heart', 'vintage','christmas', 'rose', 'polkadot', 'design', 'flower', \n",
    "               'metal','glass', 'retrospot', 'crystal', 'love', ]\n",
    "size_list = ['small', 'large', 'mini', 'assorted', 'set', 'of',\n",
    "             'and', 'with', 'in', 'pack', 'w', 's', 'pair', 'bag']"
   ]
  },
  {
   "cell_type": "code",
   "execution_count": null,
   "id": "157cf103",
   "metadata": {},
   "outputs": [],
   "source": [
    "# Extract design and size related words\n",
    "descriptions['clean2'], descriptions['design'], descriptions['size'] \\\n",
    "    = zip(*descriptions['clean'].apply(extract_design_size))"
   ]
  },
  {
   "cell_type": "code",
   "execution_count": null,
   "id": "a37595a5",
   "metadata": {},
   "outputs": [],
   "source": [
    "descriptions[descriptions['description_lower'].str.contains('egg')]"
   ]
  },
  {
   "cell_type": "code",
   "execution_count": null,
   "id": "1dbd40c4",
   "metadata": {},
   "outputs": [],
   "source": [
    "X = descriptions['clean2'].copy()"
   ]
  },
  {
   "cell_type": "code",
   "execution_count": null,
   "id": "964899e7",
   "metadata": {},
   "outputs": [],
   "source": [
    "# vectorization\n",
    "cvec = CountVectorizer(ngram_range=(1, 2), tokenizer=lambda x: x, preprocessor=lambda x: x\n",
    "                      )\n",
    "cvec.fit(X)\n",
    "X_cvec = cvec.transform(X)\n",
    "\n",
    "X_cvec = pd.DataFrame(X_cvec.todense(),\n",
    "             columns=cvec.get_feature_names_out()\n",
    "            )"
   ]
  },
  {
   "cell_type": "code",
   "execution_count": null,
   "id": "8ca5c086",
   "metadata": {},
   "outputs": [],
   "source": [
    "X_cvec.sum().sort_values(ascending=False).head(50)"
   ]
  },
  {
   "cell_type": "code",
   "execution_count": null,
   "id": "e90de626",
   "metadata": {},
   "outputs": [],
   "source": [
    "sc_cvec = StandardScaler()\n",
    "X_cvec_sc = sc_cvec.fit_transform(X_cvec)"
   ]
  },
  {
   "cell_type": "code",
   "execution_count": null,
   "id": "900c6c50",
   "metadata": {},
   "outputs": [],
   "source": [
    "km = KMeans(n_clusters=20, random_state=42)\n",
    "km.fit(X_cvec_sc)"
   ]
  },
  {
   "cell_type": "code",
   "execution_count": null,
   "id": "20228a6c",
   "metadata": {},
   "outputs": [],
   "source": [
    "km.labels_"
   ]
  },
  {
   "cell_type": "code",
   "execution_count": null,
   "id": "5de14705",
   "metadata": {},
   "outputs": [],
   "source": [
    "revenue_codes['cluster_cvec_km'] = km.labels_"
   ]
  },
  {
   "cell_type": "code",
   "execution_count": null,
   "id": "e652ffaf",
   "metadata": {},
   "outputs": [],
   "source": [
    "revenue_codes['cluster_cvec_km'].value_counts()"
   ]
  },
  {
   "cell_type": "code",
   "execution_count": null,
   "id": "af813808",
   "metadata": {},
   "outputs": [],
   "source": [
    "revenue_codes[revenue_codes['cluster_cvec_km']==42].sort_values(by='cluster_cvec_km')"
   ]
  },
  {
   "cell_type": "code",
   "execution_count": null,
   "id": "550c0285",
   "metadata": {},
   "outputs": [],
   "source": [
    "silhouette_score(X_cvec_sc, km.labels_)"
   ]
  },
  {
   "cell_type": "code",
   "execution_count": null,
   "id": "37f4ba91",
   "metadata": {},
   "outputs": [],
   "source": [
    "dbscan = DBSCAN(eps=0.1)\n",
    "dbscan.fit(X_cvec_sc);"
   ]
  },
  {
   "cell_type": "code",
   "execution_count": null,
   "id": "d6231947",
   "metadata": {},
   "outputs": [],
   "source": [
    "silhouette_score(X_cvec_sc, dbscan.labels_)"
   ]
  },
  {
   "cell_type": "code",
   "execution_count": null,
   "id": "a8f87c34",
   "metadata": {},
   "outputs": [],
   "source": [
    "revenue_codes['cluster_cvec_dbscan'] = dbscan.labels_"
   ]
  },
  {
   "cell_type": "code",
   "execution_count": null,
   "id": "5ddda34f",
   "metadata": {},
   "outputs": [],
   "source": [
    "revenue_codes['cluster_cvec_dbscan'].value_counts()"
   ]
  },
  {
   "cell_type": "code",
   "execution_count": null,
   "id": "bf323f2f",
   "metadata": {},
   "outputs": [],
   "source": [
    "tvec = TfidfVectorizer(ngram_range=(1, 2), tokenizer=lambda x: x, preprocessor=lambda x: x\n",
    "                      )\n",
    "tvec.fit(X)\n",
    "X_tvec = tvec.transform(X)"
   ]
  },
  {
   "cell_type": "code",
   "execution_count": null,
   "id": "4b7ee731",
   "metadata": {},
   "outputs": [],
   "source": [
    "X_tvec = pd.DataFrame(X_tvec.todense(),\n",
    "             columns=tvec.get_feature_names_out()\n",
    "            )"
   ]
  },
  {
   "cell_type": "code",
   "execution_count": null,
   "id": "35e7d2d9",
   "metadata": {},
   "outputs": [],
   "source": [
    "X_tvec.sum().sort_values()"
   ]
  },
  {
   "cell_type": "code",
   "execution_count": null,
   "id": "7c7cd1f7",
   "metadata": {},
   "outputs": [],
   "source": [
    "sc_tvec = StandardScaler()\n",
    "X_tvec_sc = sc_tvec.fit_transform(X_tvec)"
   ]
  },
  {
   "cell_type": "code",
   "execution_count": null,
   "id": "fb114997",
   "metadata": {},
   "outputs": [],
   "source": [
    "km_tvec = KMeans(n_clusters=20, random_state=42)\n",
    "km_tvec.fit(X_tvec_sc)"
   ]
  },
  {
   "cell_type": "code",
   "execution_count": null,
   "id": "5ac5a2e3",
   "metadata": {},
   "outputs": [],
   "source": [
    "silhouette_score(X_tvec_sc, km_tvec.labels_)"
   ]
  },
  {
   "cell_type": "code",
   "execution_count": null,
   "id": "2c778aea",
   "metadata": {},
   "outputs": [],
   "source": [
    "revenue_codes['cluster_tvec_km'] = km_tvec.labels_"
   ]
  },
  {
   "cell_type": "code",
   "execution_count": null,
   "id": "b713760b",
   "metadata": {},
   "outputs": [],
   "source": [
    "revenue_codes['cluster_tvec_km'].value_counts()"
   ]
  },
  {
   "cell_type": "code",
   "execution_count": null,
   "id": "ba230275",
   "metadata": {},
   "outputs": [],
   "source": [
    "dbscan_tvec = DBSCAN(eps=0.9)\n",
    "dbscan_tvec.fit(X_tvec_sc);"
   ]
  },
  {
   "cell_type": "code",
   "execution_count": null,
   "id": "2214aaad",
   "metadata": {},
   "outputs": [],
   "source": [
    "silhouette_score(X_tvec_sc, dbscan_tvec.labels_)"
   ]
  },
  {
   "cell_type": "code",
   "execution_count": null,
   "id": "7181585a",
   "metadata": {},
   "outputs": [],
   "source": [
    "revenue_codes['cluster_tvec_dbscan'] = dbscan.labels_"
   ]
  },
  {
   "cell_type": "code",
   "execution_count": null,
   "id": "84164751",
   "metadata": {},
   "outputs": [],
   "source": [
    "revenue_codes['cluster_tvec_dbscan'].value_counts()"
   ]
  },
  {
   "cell_type": "code",
   "execution_count": null,
   "id": "0a4c90ac",
   "metadata": {},
   "outputs": [],
   "source": [
    "X_cvec_hierarchy = X_cvec.values\n",
    "z = linkage(X_cvec_hierarchy , 'single')"
   ]
  },
  {
   "cell_type": "code",
   "execution_count": null,
   "id": "4b7ee29b",
   "metadata": {},
   "outputs": [],
   "source": [
    "dendrogram(z);"
   ]
  },
  {
   "cell_type": "code",
   "execution_count": null,
   "id": "7af8c456",
   "metadata": {},
   "outputs": [],
   "source": [
    "fcluster(z,2,criterion='distance')"
   ]
  },
  {
   "cell_type": "code",
   "execution_count": null,
   "id": "b332d615",
   "metadata": {},
   "outputs": [],
   "source": [
    "revenue_codes['cluster_linkage'] = fcluster(z,1.2,criterion='distance')"
   ]
  },
  {
   "cell_type": "code",
   "execution_count": null,
   "id": "c4686aff",
   "metadata": {},
   "outputs": [],
   "source": [
    "revenue_codes['cluster_linkage'].value_counts().loc[lambda x: x>1]"
   ]
  },
  {
   "cell_type": "code",
   "execution_count": null,
   "id": "8b49c949",
   "metadata": {},
   "outputs": [],
   "source": [
    "revenue_codes[revenue_codes['cluster_linkage']==1077]"
   ]
  },
  {
   "cell_type": "code",
   "execution_count": null,
   "id": "50991a18",
   "metadata": {},
   "outputs": [],
   "source": [
    "silhouette_score(X_cvec_hierarchy, fcluster(z,1.2,criterion='distance'))"
   ]
  },
  {
   "cell_type": "code",
   "execution_count": null,
   "id": "7f0df013",
   "metadata": {},
   "outputs": [],
   "source": [
    "X_tvec_hierarchy = X_tvec.values\n",
    "z = linkage(X_tvec_hierarchy, 'single')"
   ]
  },
  {
   "cell_type": "code",
   "execution_count": null,
   "id": "e2b01e2c",
   "metadata": {},
   "outputs": [],
   "source": [
    "dendrogram(z);"
   ]
  },
  {
   "cell_type": "code",
   "execution_count": null,
   "id": "96d58daf",
   "metadata": {},
   "outputs": [],
   "source": [
    "revenue_codes['cluster_tvec_linkage'] = fcluster(z,0.9,criterion='distance')"
   ]
  },
  {
   "cell_type": "code",
   "execution_count": null,
   "id": "5d06e24c",
   "metadata": {},
   "outputs": [],
   "source": [
    "revenue_codes['cluster_tvec_linkage'].value_counts().loc[lambda x: x>1]"
   ]
  },
  {
   "cell_type": "code",
   "execution_count": null,
   "id": "b0aef851",
   "metadata": {},
   "outputs": [],
   "source": [
    "silhouette_score(X_tvec_hierarchy, fcluster(z,0.9,criterion='distance'))"
   ]
  },
  {
   "cell_type": "code",
   "execution_count": null,
   "id": "939f3fca",
   "metadata": {},
   "outputs": [],
   "source": [
    "revenue_codes[['stockcode_caps','description_new']].value_counts()"
   ]
  },
  {
   "cell_type": "code",
   "execution_count": null,
   "id": "eba70a0f",
   "metadata": {},
   "outputs": [],
   "source": [
    "revenue_codes['stockcode_caps_description'] = revenue_codes['stockcode_caps'] + revenue_codes['description_new']"
   ]
  },
  {
   "cell_type": "code",
   "execution_count": null,
   "id": "b299dd1b",
   "metadata": {},
   "outputs": [],
   "source": [
    "sales_data['stockcode_caps_description'] = sales_data['stockcode_caps'] + sales_data['description_new']"
   ]
  },
  {
   "cell_type": "code",
   "execution_count": null,
   "id": "5b99c0d5",
   "metadata": {},
   "outputs": [],
   "source": [
    "sales_data = sales_data.merge(revenue_codes[['stockcode_caps_description','cluster_tvec_linkage']], \n",
    "                              how='left', \n",
    "                              on='stockcode_caps_description')"
   ]
  },
  {
   "cell_type": "code",
   "execution_count": null,
   "id": "c787e365",
   "metadata": {},
   "outputs": [],
   "source": [
    "sales_data.head()"
   ]
  },
  {
   "cell_type": "code",
   "execution_count": null,
   "id": "b7c74ccf",
   "metadata": {},
   "outputs": [],
   "source": []
  },
  {
   "cell_type": "code",
   "execution_count": null,
   "id": "31706c0c",
   "metadata": {},
   "outputs": [],
   "source": [
    "sales_data.pivot_table(index='customerid',columns='cluster_tvec_linkage',values='revenue', aggfunc=sum)"
   ]
  },
  {
   "cell_type": "code",
   "execution_count": null,
   "id": "49e7d8e4",
   "metadata": {},
   "outputs": [],
   "source": [
    "product_by_customers = pd.crosstab(index=sales_data['customerid'],\n",
    "            columns=sales_data['cluster_tvec_linkage'],\n",
    "            values=sales_data['revenue'], \n",
    "            aggfunc=sum,\n",
    "            normalize='index'\n",
    "           )"
   ]
  },
  {
   "cell_type": "code",
   "execution_count": null,
   "id": "e706aa38",
   "metadata": {},
   "outputs": [],
   "source": [
    "product_by_customers"
   ]
  },
  {
   "cell_type": "code",
   "execution_count": null,
   "id": "e5b98eda",
   "metadata": {},
   "outputs": [],
   "source": [
    "sc_product_by_customers = StandardScaler()\n",
    "X_product_by_customers = sc_product_by_customers.fit_transform(product_by_customers.values)"
   ]
  },
  {
   "cell_type": "code",
   "execution_count": null,
   "id": "15ab1b57",
   "metadata": {},
   "outputs": [],
   "source": [
    "km_product_by_customers = KMeans(n_clusters=10, random_state=42)\n",
    "km_product_by_customers.fit(X_product_by_customers)"
   ]
  },
  {
   "cell_type": "code",
   "execution_count": null,
   "id": "aa2a871a",
   "metadata": {},
   "outputs": [],
   "source": [
    "product_by_customers['cluster_cvec_km'] = km_product_by_customers.labels_"
   ]
  },
  {
   "cell_type": "code",
   "execution_count": null,
   "id": "b7a18968",
   "metadata": {},
   "outputs": [],
   "source": [
    "product_by_customers['cluster_cvec_km'].value_counts()"
   ]
  },
  {
   "cell_type": "code",
   "execution_count": null,
   "id": "f37df332",
   "metadata": {},
   "outputs": [],
   "source": [
    "dbscan_product_by_customers = DBSCAN(eps=0.01)\n",
    "dbscan_product_by_customers.fit(X_product_by_customers);"
   ]
  },
  {
   "cell_type": "code",
   "execution_count": null,
   "id": "41ead424",
   "metadata": {},
   "outputs": [],
   "source": [
    "product_by_customers['cluster_dbscan'] = dbscan_product_by_customers.labels_\n",
    "product_by_customers['cluster_dbscan'].value_counts()"
   ]
  },
  {
   "cell_type": "code",
   "execution_count": null,
   "id": "3690243d",
   "metadata": {},
   "outputs": [],
   "source": [
    "#z = linkage(X_product_by_customers , 'single')\n",
    "#dendrogram(z);"
   ]
  },
  {
   "cell_type": "code",
   "execution_count": null,
   "id": "750e49b0",
   "metadata": {},
   "outputs": [],
   "source": [
    "#product_by_customers['cluster_linkage'] = fcluster(z, 0.9, criterion = 'distance')"
   ]
  },
  {
   "cell_type": "code",
   "execution_count": null,
   "id": "2d356419",
   "metadata": {},
   "outputs": [],
   "source": []
  }
 ],
 "metadata": {
  "kernelspec": {
   "display_name": "Python 3 (ipykernel)",
   "language": "python",
   "name": "python3"
  },
  "language_info": {
   "codemirror_mode": {
    "name": "ipython",
    "version": 3
   },
   "file_extension": ".py",
   "mimetype": "text/x-python",
   "name": "python",
   "nbconvert_exporter": "python",
   "pygments_lexer": "ipython3",
   "version": "3.8.12"
  }
 },
 "nbformat": 4,
 "nbformat_minor": 5
}
