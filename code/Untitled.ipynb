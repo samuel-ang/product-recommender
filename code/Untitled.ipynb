{
 "cells": [
  {
   "cell_type": "markdown",
   "id": "6a4f51bd",
   "metadata": {},
   "source": [
    "R2 is the fraction of the squared error that is explained by the regression line. \n",
    "relative measure of performance, 0 to 1, 1 being perfect fit.\n",
    "\n",
    "1 - (SSE / SSM)\n",
    "\n",
    "What is error\n",
    "Error of regression = (y - yhat) -> act  - pred\n",
    "Error of mean line = (y - mean) -> act - mean\n",
    "\n",
    "Root Mean Square Error\n",
    "((Sum (Error of regression)^2 ) /n)^ 0.5\n",
    "\n",
    "We get a error metric that is in the same units as the required output variable \n",
    "hence more able to interpret it in context of the problem statement"
   ]
  }
 ],
 "metadata": {
  "kernelspec": {
   "display_name": "Python 3 (ipykernel)",
   "language": "python",
   "name": "python3"
  },
  "language_info": {
   "codemirror_mode": {
    "name": "ipython",
    "version": 3
   },
   "file_extension": ".py",
   "mimetype": "text/x-python",
   "name": "python",
   "nbconvert_exporter": "python",
   "pygments_lexer": "ipython3",
   "version": "3.8.12"
  }
 },
 "nbformat": 4,
 "nbformat_minor": 5
}
